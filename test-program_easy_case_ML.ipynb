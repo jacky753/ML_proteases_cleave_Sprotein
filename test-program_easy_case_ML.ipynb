{
 "cells": [
  {
   "cell_type": "code",
   "execution_count": null,
   "metadata": {},
   "outputs": [],
   "source": [
    "from tensorflow.keras.callbacks import EarlyStopping, ModelCheckpoint\n",
    "from tensorflow.keras.models import Model\n",
    "from tensorflow.keras.layers import Dense, Input, Flatten"
   ]
  },
  {
   "cell_type": "code",
   "execution_count": null,
   "metadata": {},
   "outputs": [],
   "source": [
    "input_data = Input(shape=(14, 8, 1)) # 入力データの形を指定(28×28)\n",
    "x_in = Flatten()(input_data) # 入力データを1次元に直す 28x28 -> 784\n",
    "z = Dense(units=128, activation='relu')(x_in) # 中間層を作成 dense(全結合) + ReLU\n",
    "p = Dense(units=10, activation='softmax')(z) # 出力層を作成 dense + softmax\n",
    "\n",
    "model = Model(\n",
    "inputs=input_data,\n",
    "outputs=p,\n",
    ") # build DNN model\n",
    "\n",
    "model.compile(optimizer='adam', loss='sparse_categorical_crossentropy', metrics=['acc']) # compile model\n",
    "\n",
    "# 学習\n",
    "result = model.fit(x=x_train, y=y_train, batch_size=128, epochs=10, validation_split=0.2)"
   ]
  },
  {
   "cell_type": "code",
   "execution_count": null,
   "metadata": {},
   "outputs": [],
   "source": []
  },
  {
   "cell_type": "code",
   "execution_count": null,
   "metadata": {},
   "outputs": [],
   "source": [
    "#mnistのデータセットをインポート\n",
    "from tensorflow.keras.datasets import mnist\n",
    "\n",
    "# 学習データとテストデータに分割\n",
    "(x_train, y_train), (x_test, y_test) = mnist.load_data()"
   ]
  },
  {
   "cell_type": "code",
   "execution_count": null,
   "metadata": {},
   "outputs": [],
   "source": [
    "input_data = Input(shape=(28, 28)) # 入力データの形を指定(28×28)\n",
    "x_in = Flatten()(input_data) # 入力データを1次元に直す 28x28 -> 784\n",
    "z = Dense(units=128, activation='relu')(x_in) # 中間層を作成 dense(全結合) + ReLU\n",
    "p = Dense(units=10, activation='softmax')(z) # 出力層を作成 dense + softmax\n",
    "\n",
    "model = Model(\n",
    "inputs=input_data,\n",
    "outputs=p,\n",
    ") # build DNN model\n",
    "\n",
    "model.compile(optimizer='adam', loss='sparse_categorical_crossentropy', metrics=['acc']) # compile model"
   ]
  },
  {
   "cell_type": "code",
   "execution_count": null,
   "metadata": {},
   "outputs": [],
   "source": [
    "# 学習\n",
    "result = model.fit(x=x_train, y=y_train, batch_size=128, epochs=10, validation_split=0.2)"
   ]
  },
  {
   "cell_type": "code",
   "execution_count": null,
   "metadata": {},
   "outputs": [],
   "source": [
    "score = model.evaluate(x_val, y_val)\n",
    "print('Test loss:', score[0])\n",
    "print('Test accuracy:', score[1])"
   ]
  },
  {
   "cell_type": "markdown",
   "metadata": {},
   "source": [
    "trying to use callbacks and record the learning way.<br>\n",
    "https://qiita.com/officefutaro/items/96cc8017bd735c46d6f4"
   ]
  },
  {
   "cell_type": "code",
   "execution_count": null,
   "metadata": {},
   "outputs": [],
   "source": []
  },
  {
   "cell_type": "code",
   "execution_count": null,
   "metadata": {},
   "outputs": [],
   "source": []
  },
  {
   "cell_type": "code",
   "execution_count": null,
   "metadata": {},
   "outputs": [],
   "source": []
  },
  {
   "cell_type": "code",
   "execution_count": null,
   "metadata": {},
   "outputs": [],
   "source": []
  },
  {
   "cell_type": "code",
   "execution_count": null,
   "metadata": {},
   "outputs": [],
   "source": []
  }
 ],
 "metadata": {
  "kernelspec": {
   "display_name": "Python 3",
   "language": "python",
   "name": "python3"
  },
  "language_info": {
   "codemirror_mode": {
    "name": "ipython",
    "version": 3
   },
   "file_extension": ".py",
   "mimetype": "text/x-python",
   "name": "python",
   "nbconvert_exporter": "python",
   "pygments_lexer": "ipython3",
   "version": "3.7.6"
  }
 },
 "nbformat": 4,
 "nbformat_minor": 4
}
