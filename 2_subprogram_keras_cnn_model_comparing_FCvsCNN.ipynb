{
 "cells": [
  {
   "cell_type": "markdown",
   "metadata": {},
   "source": [
    "# Keras モデルを作る．"
   ]
  },
  {
   "cell_type": "code",
   "execution_count": null,
   "metadata": {},
   "outputs": [],
   "source": [
    "#31\n",
    "from tensorflow.keras.models import Sequential\n",
    "from tensorflow.keras.layers import Dense, Activation, Flatten, Conv1D, Conv2D, MaxPooling2D, BatchNormalization, GlobalAveragePooling2D, Dropout\n",
    "from tensorflow.keras.utils import to_categorical\n",
    "import numpy as np\n",
    "import tensorflow as tf\n",
    "from tensorflow.keras.datasets import mnist, cifar10\n",
    "from tensorflow.keras.callbacks import ModelCheckpoint\n",
    "from tensorflow.keras.models import Model\n",
    "import datetime\n",
    "\n",
    "from tensorflow.keras.callbacks import EarlyStopping\n",
    "\n",
    "#for tentsorboard\n",
    "import tensorflow.keras.callbacks\n",
    "#import tensorflow.keras.backend.tensorflow_backend as KTF\n",
    "import tensorflow.keras.backend as KTF\n",
    "\n",
    "from tensorflow.keras.models import load_model\n",
    "\n",
    "#Vurnum = 実験番号\n",
    "Vernum = 99\n",
    "\n",
    "import os"
   ]
  },
  {
   "cell_type": "code",
   "execution_count": 4,
   "metadata": {},
   "outputs": [],
   "source": [
    "#1\n",
    "import re\n",
    "import numpy as np\n",
    "import glob\n",
    "import random\n",
    "import matplotlib.pyplot as plt\n",
    "\n",
    "import pandas as pd\n",
    "from urllib.request import urlopen\n",
    "from lxml import etree"
   ]
  },
  {
   "cell_type": "code",
   "execution_count": 6,
   "metadata": {},
   "outputs": [
    {
     "name": "stdout",
     "output_type": "stream",
     "text": [
      "<class 'numpy.ndarray'>\n",
      "[[[[ 0.000000e+00]\n",
      "   [-7.358760e-02]\n",
      "   [ 0.000000e+00]\n",
      "   ...\n",
      "   [-1.995000e-04]\n",
      "   [ 5.935090e-02]\n",
      "   [ 0.000000e+00]]\n",
      "\n",
      "  [[-3.838254e-01]\n",
      "   [-2.554557e-01]\n",
      "   [-8.600770e-02]\n",
      "   ...\n",
      "   [ 5.738126e-01]\n",
      "   [-7.869063e-01]\n",
      "   [ 7.227214e-01]]\n",
      "\n",
      "  [[ 0.000000e+00]\n",
      "   [ 0.000000e+00]\n",
      "   [ 0.000000e+00]\n",
      "   ...\n",
      "   [ 0.000000e+00]\n",
      "   [ 0.000000e+00]\n",
      "   [ 0.000000e+00]]\n",
      "\n",
      "  ...\n",
      "\n",
      "  [[ 1.000000e+00]\n",
      "   [ 1.000000e+00]\n",
      "   [ 1.000000e+00]\n",
      "   ...\n",
      "   [ 1.000000e+00]\n",
      "   [ 3.000000e+00]\n",
      "   [ 1.000000e+00]]\n",
      "\n",
      "  [[ 3.000000e+00]\n",
      "   [ 2.000000e+00]\n",
      "   [ 2.000000e+00]\n",
      "   ...\n",
      "   [ 3.000000e+00]\n",
      "   [ 2.000000e+00]\n",
      "   [ 2.000000e+00]]\n",
      "\n",
      "  [[ 0.000000e+00]\n",
      "   [ 1.000000e+00]\n",
      "   [ 0.000000e+00]\n",
      "   ...\n",
      "   [ 0.000000e+00]\n",
      "   [ 0.000000e+00]\n",
      "   [ 1.000000e+00]]]\n",
      "\n",
      "\n",
      " [[[ 0.000000e+00]\n",
      "   [-9.987427e-01]\n",
      "   [ 0.000000e+00]\n",
      "   ...\n",
      "   [ 0.000000e+00]\n",
      "   [ 0.000000e+00]\n",
      "   [ 0.000000e+00]]\n",
      "\n",
      "  [[ 0.000000e+00]\n",
      "   [-7.458280e-01]\n",
      "   [ 7.227214e-01]\n",
      "   ...\n",
      "   [ 1.630295e-01]\n",
      "   [-2.554557e-01]\n",
      "   [ 8.510911e-01]]\n",
      "\n",
      "  [[ 0.000000e+00]\n",
      "   [ 0.000000e+00]\n",
      "   [ 0.000000e+00]\n",
      "   ...\n",
      "   [ 0.000000e+00]\n",
      "   [ 0.000000e+00]\n",
      "   [ 0.000000e+00]]\n",
      "\n",
      "  ...\n",
      "\n",
      "  [[ 0.000000e+00]\n",
      "   [ 1.000000e+00]\n",
      "   [ 1.000000e+00]\n",
      "   ...\n",
      "   [ 1.000000e+00]\n",
      "   [ 1.000000e+00]\n",
      "   [ 1.000000e+00]]\n",
      "\n",
      "  [[ 0.000000e+00]\n",
      "   [ 4.000000e+00]\n",
      "   [ 2.000000e+00]\n",
      "   ...\n",
      "   [ 2.000000e+00]\n",
      "   [ 2.000000e+00]\n",
      "   [ 2.000000e+00]]\n",
      "\n",
      "  [[ 0.000000e+00]\n",
      "   [ 0.000000e+00]\n",
      "   [ 1.000000e+00]\n",
      "   ...\n",
      "   [ 0.000000e+00]\n",
      "   [ 0.000000e+00]\n",
      "   [ 0.000000e+00]]]\n",
      "\n",
      "\n",
      " [[[ 0.000000e+00]\n",
      "   [ 0.000000e+00]\n",
      "   [ 0.000000e+00]\n",
      "   ...\n",
      "   [ 0.000000e+00]\n",
      "   [ 0.000000e+00]\n",
      "   [ 0.000000e+00]]\n",
      "\n",
      "  [[ 8.510911e-01]\n",
      "   [ 8.510911e-01]\n",
      "   [-8.600770e-02]\n",
      "   ...\n",
      "   [ 1.000000e+00]\n",
      "   [-8.305520e-01]\n",
      "   [ 1.000000e+00]]\n",
      "\n",
      "  [[ 0.000000e+00]\n",
      "   [ 0.000000e+00]\n",
      "   [ 0.000000e+00]\n",
      "   ...\n",
      "   [ 1.000000e+00]\n",
      "   [ 1.000000e+00]\n",
      "   [ 1.000000e+00]]\n",
      "\n",
      "  ...\n",
      "\n",
      "  [[ 1.000000e+00]\n",
      "   [ 1.000000e+00]\n",
      "   [ 1.000000e+00]\n",
      "   ...\n",
      "   [ 1.000000e+00]\n",
      "   [ 2.000000e+00]\n",
      "   [ 1.000000e+00]]\n",
      "\n",
      "  [[ 2.000000e+00]\n",
      "   [ 2.000000e+00]\n",
      "   [ 2.000000e+00]\n",
      "   ...\n",
      "   [ 2.000000e+00]\n",
      "   [ 3.000000e+00]\n",
      "   [ 2.000000e+00]]\n",
      "\n",
      "  [[ 0.000000e+00]\n",
      "   [ 0.000000e+00]\n",
      "   [ 0.000000e+00]\n",
      "   ...\n",
      "   [ 0.000000e+00]\n",
      "   [ 0.000000e+00]\n",
      "   [ 0.000000e+00]]]\n",
      "\n",
      "\n",
      " ...\n",
      "\n",
      "\n",
      " [[[ 5.935090e-02]\n",
      "   [ 0.000000e+00]\n",
      "   [ 0.000000e+00]\n",
      "   ...\n",
      "   [-7.358760e-02]\n",
      "   [ 0.000000e+00]\n",
      "   [-7.358760e-02]]\n",
      "\n",
      "  [[-7.869063e-01]\n",
      "   [ 7.227214e-01]\n",
      "   [ 8.510911e-01]\n",
      "   ...\n",
      "   [-2.554557e-01]\n",
      "   [-4.685494e-01]\n",
      "   [-2.554557e-01]]\n",
      "\n",
      "  [[ 0.000000e+00]\n",
      "   [ 0.000000e+00]\n",
      "   [ 0.000000e+00]\n",
      "   ...\n",
      "   [ 0.000000e+00]\n",
      "   [ 0.000000e+00]\n",
      "   [ 0.000000e+00]]\n",
      "\n",
      "  ...\n",
      "\n",
      "  [[ 3.000000e+00]\n",
      "   [ 1.000000e+00]\n",
      "   [ 1.000000e+00]\n",
      "   ...\n",
      "   [ 1.000000e+00]\n",
      "   [ 1.000000e+00]\n",
      "   [ 1.000000e+00]]\n",
      "\n",
      "  [[ 2.000000e+00]\n",
      "   [ 2.000000e+00]\n",
      "   [ 2.000000e+00]\n",
      "   ...\n",
      "   [ 2.000000e+00]\n",
      "   [ 3.000000e+00]\n",
      "   [ 2.000000e+00]]\n",
      "\n",
      "  [[ 0.000000e+00]\n",
      "   [ 1.000000e+00]\n",
      "   [ 0.000000e+00]\n",
      "   ...\n",
      "   [ 1.000000e+00]\n",
      "   [ 0.000000e+00]\n",
      "   [ 1.000000e+00]]]\n",
      "\n",
      "\n",
      " [[[ 0.000000e+00]\n",
      "   [ 0.000000e+00]\n",
      "   [ 0.000000e+00]\n",
      "   ...\n",
      "   [ 0.000000e+00]\n",
      "   [-1.995000e-04]\n",
      "   [ 0.000000e+00]]\n",
      "\n",
      "  [[-8.305520e-01]\n",
      "   [ 1.630295e-01]\n",
      "   [ 1.000000e+00]\n",
      "   ...\n",
      "   [ 1.000000e+00]\n",
      "   [ 5.738126e-01]\n",
      "   [-2.554557e-01]]\n",
      "\n",
      "  [[ 0.000000e+00]\n",
      "   [ 0.000000e+00]\n",
      "   [ 0.000000e+00]\n",
      "   ...\n",
      "   [ 0.000000e+00]\n",
      "   [ 0.000000e+00]\n",
      "   [ 0.000000e+00]]\n",
      "\n",
      "  ...\n",
      "\n",
      "  [[ 2.000000e+00]\n",
      "   [ 1.000000e+00]\n",
      "   [ 1.000000e+00]\n",
      "   ...\n",
      "   [ 1.000000e+00]\n",
      "   [ 1.000000e+00]\n",
      "   [ 1.000000e+00]]\n",
      "\n",
      "  [[ 3.000000e+00]\n",
      "   [ 2.000000e+00]\n",
      "   [ 2.000000e+00]\n",
      "   ...\n",
      "   [ 2.000000e+00]\n",
      "   [ 3.000000e+00]\n",
      "   [ 2.000000e+00]]\n",
      "\n",
      "  [[ 0.000000e+00]\n",
      "   [ 0.000000e+00]\n",
      "   [ 0.000000e+00]\n",
      "   ...\n",
      "   [ 0.000000e+00]\n",
      "   [ 0.000000e+00]\n",
      "   [ 0.000000e+00]]]\n",
      "\n",
      "\n",
      " [[[ 0.000000e+00]\n",
      "   [ 0.000000e+00]\n",
      "   [ 0.000000e+00]\n",
      "   ...\n",
      "   [ 0.000000e+00]\n",
      "   [-1.995000e-04]\n",
      "   [ 0.000000e+00]]\n",
      "\n",
      "  [[-8.305520e-01]\n",
      "   [ 1.630295e-01]\n",
      "   [ 1.000000e+00]\n",
      "   ...\n",
      "   [ 1.000000e+00]\n",
      "   [ 5.738126e-01]\n",
      "   [-2.554557e-01]]\n",
      "\n",
      "  [[ 0.000000e+00]\n",
      "   [ 0.000000e+00]\n",
      "   [ 0.000000e+00]\n",
      "   ...\n",
      "   [ 0.000000e+00]\n",
      "   [ 0.000000e+00]\n",
      "   [ 0.000000e+00]]\n",
      "\n",
      "  ...\n",
      "\n",
      "  [[ 2.000000e+00]\n",
      "   [ 1.000000e+00]\n",
      "   [ 1.000000e+00]\n",
      "   ...\n",
      "   [ 1.000000e+00]\n",
      "   [ 1.000000e+00]\n",
      "   [ 1.000000e+00]]\n",
      "\n",
      "  [[ 3.000000e+00]\n",
      "   [ 2.000000e+00]\n",
      "   [ 2.000000e+00]\n",
      "   ...\n",
      "   [ 2.000000e+00]\n",
      "   [ 3.000000e+00]\n",
      "   [ 2.000000e+00]]\n",
      "\n",
      "  [[ 0.000000e+00]\n",
      "   [ 0.000000e+00]\n",
      "   [ 0.000000e+00]\n",
      "   ...\n",
      "   [ 0.000000e+00]\n",
      "   [ 0.000000e+00]\n",
      "   [ 0.000000e+00]]]]\n"
     ]
    }
   ],
   "source": [
    "#loding ndarray\n",
    "print(type(np.load('./saving_ndarray/x_train/all/x_train_all.npy')))\n",
    "print(np.load('./saving_ndarray/x_train/all/x_train_all.npy'))\n",
    "\n",
    "x_train_all = np.load('./saving_ndarray/x_train/all/x_train_all.npy')\n",
    "y_train_all = np.load('./saving_ndarray/x_train/all/y_train_all.npy')\n",
    "x_train_all_5crossval = np.load('./saving_ndarray/x_train/all/x_train_all_ 5crossval.npy')\n",
    "y_train_all_5crossval = np.load('./saving_ndarray/x_train/all/y_train_all_5crossval.npy')\n",
    "#x_train_positive_all_5crossval.npy\n",
    "x_train_positive_all_5crossval = np.load('./saving_ndarray/x_train/all/x_train_positive_all_ 5crossval.npy') \n",
    "x_train_negative_all_5crossval = np.load('./saving_ndarray/x_train/all/x_train_negative_all_5crossval.npy')"
   ]
  },
  {
   "cell_type": "code",
   "execution_count": 3,
   "metadata": {},
   "outputs": [],
   "source": [
    "#a = sum(x_train_all[0])\n",
    "#print(a)"
   ]
  },
  {
   "cell_type": "code",
   "execution_count": 4,
   "metadata": {},
   "outputs": [
    {
     "name": "stdout",
     "output_type": "stream",
     "text": [
      "[[[ 0.000000e+00]\n",
      "  [-7.358760e-02]\n",
      "  [ 0.000000e+00]\n",
      "  [ 9.999950e-01]\n",
      "  [ 0.000000e+00]\n",
      "  [-1.995000e-04]\n",
      "  [ 5.935090e-02]\n",
      "  [ 0.000000e+00]]\n",
      "\n",
      " [[-3.838254e-01]\n",
      "  [-2.554557e-01]\n",
      "  [-8.600770e-02]\n",
      "  [-7.021823e-01]\n",
      "  [ 1.630295e-01]\n",
      "  [ 5.738126e-01]\n",
      "  [-7.869063e-01]\n",
      "  [ 7.227214e-01]]\n",
      "\n",
      " [[ 0.000000e+00]\n",
      "  [ 0.000000e+00]\n",
      "  [ 0.000000e+00]\n",
      "  [ 0.000000e+00]\n",
      "  [ 0.000000e+00]\n",
      "  [ 0.000000e+00]\n",
      "  [ 0.000000e+00]\n",
      "  [ 0.000000e+00]]\n",
      "\n",
      " [[ 0.000000e+00]\n",
      "  [ 0.000000e+00]\n",
      "  [ 0.000000e+00]\n",
      "  [ 0.000000e+00]\n",
      "  [ 0.000000e+00]\n",
      "  [ 0.000000e+00]\n",
      "  [ 0.000000e+00]\n",
      "  [ 0.000000e+00]]\n",
      "\n",
      " [[ 1.191200e+02]\n",
      "  [ 1.211600e+02]\n",
      "  [ 1.151300e+02]\n",
      "  [ 1.742000e+02]\n",
      "  [ 8.910000e+01]\n",
      "  [ 1.811900e+02]\n",
      "  [ 1.551600e+02]\n",
      "  [ 1.492100e+02]]\n",
      "\n",
      " [[ 1.011100e+02]\n",
      "  [ 1.031500e+02]\n",
      "  [ 9.712000e+01]\n",
      "  [ 1.561900e+02]\n",
      "  [ 7.108000e+01]\n",
      "  [ 1.631800e+02]\n",
      "  [ 1.371400e+02]\n",
      "  [ 1.312000e+02]]\n",
      "\n",
      " [[ 2.090000e+00]\n",
      "  [ 1.960000e+00]\n",
      "  [ 1.990000e+00]\n",
      "  [ 2.170000e+00]\n",
      "  [ 2.340000e+00]\n",
      "  [ 2.200000e+00]\n",
      "  [ 1.820000e+00]\n",
      "  [ 2.280000e+00]]\n",
      "\n",
      " [[ 9.100000e+00]\n",
      "  [ 1.028000e+01]\n",
      "  [ 1.060000e+01]\n",
      "  [ 9.040000e+00]\n",
      "  [ 9.690000e+00]\n",
      "  [ 9.110000e+00]\n",
      "  [ 9.170000e+00]\n",
      "  [ 9.210000e+00]]\n",
      "\n",
      " [[ 5.600000e+00]\n",
      "  [ 5.070000e+00]\n",
      "  [ 6.300000e+00]\n",
      "  [ 1.076000e+01]\n",
      "  [ 6.000000e+00]\n",
      "  [ 5.660000e+00]\n",
      "  [ 7.590000e+00]\n",
      "  [ 5.740000e+00]]\n",
      "\n",
      " [[ 4.000000e+00]\n",
      "  [ 3.000000e+00]\n",
      "  [ 5.000000e+00]\n",
      "  [ 6.000000e+00]\n",
      "  [ 3.000000e+00]\n",
      "  [ 9.000000e+00]\n",
      "  [ 6.000000e+00]\n",
      "  [ 5.000000e+00]]\n",
      "\n",
      " [[ 9.000000e+00]\n",
      "  [ 7.000000e+00]\n",
      "  [ 9.000000e+00]\n",
      "  [ 1.400000e+01]\n",
      "  [ 7.000000e+00]\n",
      "  [ 1.100000e+01]\n",
      "  [ 9.000000e+00]\n",
      "  [ 1.100000e+01]]\n",
      "\n",
      " [[ 1.000000e+00]\n",
      "  [ 1.000000e+00]\n",
      "  [ 1.000000e+00]\n",
      "  [ 4.000000e+00]\n",
      "  [ 1.000000e+00]\n",
      "  [ 1.000000e+00]\n",
      "  [ 3.000000e+00]\n",
      "  [ 1.000000e+00]]\n",
      "\n",
      " [[ 3.000000e+00]\n",
      "  [ 2.000000e+00]\n",
      "  [ 2.000000e+00]\n",
      "  [ 2.000000e+00]\n",
      "  [ 2.000000e+00]\n",
      "  [ 3.000000e+00]\n",
      "  [ 2.000000e+00]\n",
      "  [ 2.000000e+00]]\n",
      "\n",
      " [[ 0.000000e+00]\n",
      "  [ 1.000000e+00]\n",
      "  [ 0.000000e+00]\n",
      "  [ 0.000000e+00]\n",
      "  [ 0.000000e+00]\n",
      "  [ 0.000000e+00]\n",
      "  [ 0.000000e+00]\n",
      "  [ 1.000000e+00]]]\n"
     ]
    }
   ],
   "source": [
    "print(x_train_all[0])"
   ]
  },
  {
   "cell_type": "code",
   "execution_count": 23,
   "metadata": {},
   "outputs": [],
   "source": [
    "total = 0\n",
    "subs_dic = {}\n",
    "for i in range(14):\n",
    "    for j in range(8):\n",
    "        total = total + x_train_all[0][i][j][0]\n",
    "        subs_dic[0] = total"
   ]
  },
  {
   "cell_type": "code",
   "execution_count": 24,
   "metadata": {},
   "outputs": [
    {
     "name": "stdout",
     "output_type": "stream",
     "text": [
      "2361.440744900001\n"
     ]
    }
   ],
   "source": [
    "print(total)"
   ]
  },
  {
   "cell_type": "code",
   "execution_count": 26,
   "metadata": {},
   "outputs": [
    {
     "name": "stdout",
     "output_type": "stream",
     "text": [
      "2361.440744900001\n"
     ]
    }
   ],
   "source": [
    "print(subs_dic[0])"
   ]
  },
  {
   "cell_type": "code",
   "execution_count": 27,
   "metadata": {},
   "outputs": [
    {
     "name": "stdout",
     "output_type": "stream",
     "text": [
      "{0: 2361.440744900001}\n"
     ]
    }
   ],
   "source": [
    "print(subs_dic)"
   ]
  },
  {
   "cell_type": "code",
   "execution_count": 11,
   "metadata": {},
   "outputs": [
    {
     "name": "stdout",
     "output_type": "stream",
     "text": [
      "(8, 1)\n"
     ]
    }
   ],
   "source": [
    "print(a.shape)"
   ]
  },
  {
   "cell_type": "markdown",
   "metadata": {},
   "source": [
    "## CNN version01(check_point: EarlyStopping)\n",
    "https://qiita.com/kenichiro-yamato/items/60affeb7ca9f67c87a17"
   ]
  },
  {
   "cell_type": "markdown",
   "metadata": {},
   "source": [
    "https://www.self-study-blog.com/dokugaku/python-pandas-dataframe-make/<br>\n",
    "https://note.nkmk.me/python-pandas-assign-append/<br>"
   ]
  },
  {
   "cell_type": "code",
   "execution_count": 22,
   "metadata": {},
   "outputs": [
    {
     "name": "stdout",
     "output_type": "stream",
     "text": [
      "Model: \"sequential_1\"\n",
      "_________________________________________________________________\n",
      "Layer (type)                 Output Shape              Param #   \n",
      "=================================================================\n",
      "Conv2D_01 (Conv2D)           (None, 1, 5, 3)           171       \n",
      "_________________________________________________________________\n",
      "Flatten_01 (Flatten)         (None, 15)                0         \n",
      "_________________________________________________________________\n",
      "Dense_out (Dense)            (None, 2)                 32        \n",
      "_________________________________________________________________\n",
      "activation_1 (Activation)    (None, 2)                 0         \n",
      "=================================================================\n",
      "Total params: 203\n",
      "Trainable params: 203\n",
      "Non-trainable params: 0\n",
      "_________________________________________________________________\n",
      "\n",
      "Epoch 00001: val_loss improved from inf to 0.69283, saving model to ../callbacks/99_01-0.6928.hdf5\n",
      "\n",
      "Epoch 00002: val_loss improved from 0.69283 to 0.69275, saving model to ../callbacks/99_02-0.6928.hdf5\n",
      "\n",
      "Epoch 00003: val_loss improved from 0.69275 to 0.69269, saving model to ../callbacks/99_03-0.6927.hdf5\n",
      "\n",
      "Epoch 00004: val_loss improved from 0.69269 to 0.69263, saving model to ../callbacks/99_04-0.6926.hdf5\n",
      "\n",
      "Epoch 00005: val_loss improved from 0.69263 to 0.69257, saving model to ../callbacks/99_05-0.6926.hdf5\n",
      "\n",
      "Epoch 00006: val_loss improved from 0.69257 to 0.69252, saving model to ../callbacks/99_06-0.6925.hdf5\n",
      "\n",
      "Epoch 00007: val_loss improved from 0.69252 to 0.69247, saving model to ../callbacks/99_07-0.6925.hdf5\n",
      "\n",
      "Epoch 00008: val_loss improved from 0.69247 to 0.69243, saving model to ../callbacks/99_08-0.6924.hdf5\n",
      "\n",
      "Epoch 00009: val_loss improved from 0.69243 to 0.69238, saving model to ../callbacks/99_09-0.6924.hdf5\n",
      "\n",
      "Epoch 00010: val_loss improved from 0.69238 to 0.69235, saving model to ../callbacks/99_10-0.6923.hdf5\n",
      "\n",
      "Epoch 00011: val_loss improved from 0.69235 to 0.69231, saving model to ../callbacks/99_11-0.6923.hdf5\n",
      "\n",
      "Epoch 00012: val_loss improved from 0.69231 to 0.69228, saving model to ../callbacks/99_12-0.6923.hdf5\n",
      "\n",
      "Epoch 00013: val_loss improved from 0.69228 to 0.69226, saving model to ../callbacks/99_13-0.6923.hdf5\n",
      "\n",
      "Epoch 00014: val_loss improved from 0.69226 to 0.69223, saving model to ../callbacks/99_14-0.6922.hdf5\n",
      "\n",
      "Epoch 00015: val_loss improved from 0.69223 to 0.69220, saving model to ../callbacks/99_15-0.6922.hdf5\n",
      "\n",
      "Epoch 00016: val_loss improved from 0.69220 to 0.69218, saving model to ../callbacks/99_16-0.6922.hdf5\n",
      "\n",
      "Epoch 00017: val_loss improved from 0.69218 to 0.69216, saving model to ../callbacks/99_17-0.6922.hdf5\n",
      "\n",
      "Epoch 00018: val_loss improved from 0.69216 to 0.69215, saving model to ../callbacks/99_18-0.6921.hdf5\n",
      "\n",
      "Epoch 00019: val_loss improved from 0.69215 to 0.69213, saving model to ../callbacks/99_19-0.6921.hdf5\n",
      "\n",
      "Epoch 00020: val_loss improved from 0.69213 to 0.69211, saving model to ../callbacks/99_20-0.6921.hdf5\n",
      "\n",
      "Epoch 00021: val_loss improved from 0.69211 to 0.69210, saving model to ../callbacks/99_21-0.6921.hdf5\n",
      "\n",
      "Epoch 00022: val_loss improved from 0.69210 to 0.69208, saving model to ../callbacks/99_22-0.6921.hdf5\n",
      "\n",
      "Epoch 00023: val_loss improved from 0.69208 to 0.69207, saving model to ../callbacks/99_23-0.6921.hdf5\n",
      "\n",
      "Epoch 00024: val_loss improved from 0.69207 to 0.69206, saving model to ../callbacks/99_24-0.6921.hdf5\n",
      "\n",
      "Epoch 00025: val_loss improved from 0.69206 to 0.69205, saving model to ../callbacks/99_25-0.6920.hdf5\n",
      "\n",
      "Epoch 00026: val_loss improved from 0.69205 to 0.69204, saving model to ../callbacks/99_26-0.6920.hdf5\n",
      "\n",
      "Epoch 00027: val_loss improved from 0.69204 to 0.69203, saving model to ../callbacks/99_27-0.6920.hdf5\n",
      "\n",
      "Epoch 00028: val_loss improved from 0.69203 to 0.69202, saving model to ../callbacks/99_28-0.6920.hdf5\n",
      "\n",
      "Epoch 00029: val_loss improved from 0.69202 to 0.69201, saving model to ../callbacks/99_29-0.6920.hdf5\n",
      "\n",
      "Epoch 00030: val_loss improved from 0.69201 to 0.69200, saving model to ../callbacks/99_30-0.6920.hdf5\n",
      "\n",
      "Epoch 00031: val_loss improved from 0.69200 to 0.69200, saving model to ../callbacks/99_31-0.6920.hdf5\n",
      "\n",
      "Epoch 00032: val_loss improved from 0.69200 to 0.69199, saving model to ../callbacks/99_32-0.6920.hdf5\n",
      "\n",
      "Epoch 00033: val_loss improved from 0.69199 to 0.69198, saving model to ../callbacks/99_33-0.6920.hdf5\n",
      "\n",
      "Epoch 00034: val_loss improved from 0.69198 to 0.69198, saving model to ../callbacks/99_34-0.6920.hdf5\n",
      "\n",
      "Epoch 00035: val_loss improved from 0.69198 to 0.69197, saving model to ../callbacks/99_35-0.6920.hdf5\n",
      "\n",
      "Epoch 00036: val_loss improved from 0.69197 to 0.69197, saving model to ../callbacks/99_36-0.6920.hdf5\n",
      "\n",
      "Epoch 00037: val_loss improved from 0.69197 to 0.69196, saving model to ../callbacks/99_37-0.6920.hdf5\n",
      "\n",
      "Epoch 00038: val_loss improved from 0.69196 to 0.69196, saving model to ../callbacks/99_38-0.6920.hdf5\n",
      "\n",
      "Epoch 00039: val_loss improved from 0.69196 to 0.69195, saving model to ../callbacks/99_39-0.6920.hdf5\n",
      "\n",
      "Epoch 00040: val_loss improved from 0.69195 to 0.69195, saving model to ../callbacks/99_40-0.6919.hdf5\n",
      "\n",
      "Epoch 00041: val_loss improved from 0.69195 to 0.69195, saving model to ../callbacks/99_41-0.6919.hdf5\n",
      "\n",
      "Epoch 00042: val_loss improved from 0.69195 to 0.69194, saving model to ../callbacks/99_42-0.6919.hdf5\n",
      "\n",
      "Epoch 00043: val_loss improved from 0.69194 to 0.69194, saving model to ../callbacks/99_43-0.6919.hdf5\n",
      "\n",
      "Epoch 00044: val_loss improved from 0.69194 to 0.69193, saving model to ../callbacks/99_44-0.6919.hdf5\n",
      "\n",
      "Epoch 00045: val_loss improved from 0.69193 to 0.69193, saving model to ../callbacks/99_45-0.6919.hdf5\n",
      "\n",
      "Epoch 00046: val_loss improved from 0.69193 to 0.69193, saving model to ../callbacks/99_46-0.6919.hdf5\n",
      "\n",
      "Epoch 00047: val_loss improved from 0.69193 to 0.69193, saving model to ../callbacks/99_47-0.6919.hdf5\n",
      "\n",
      "Epoch 00048: val_loss improved from 0.69193 to 0.69193, saving model to ../callbacks/99_48-0.6919.hdf5\n",
      "\n",
      "Epoch 00049: val_loss improved from 0.69193 to 0.69192, saving model to ../callbacks/99_49-0.6919.hdf5\n",
      "\n",
      "Epoch 00050: val_loss improved from 0.69192 to 0.69192, saving model to ../callbacks/99_50-0.6919.hdf5\n",
      "\n",
      "Epoch 00051: val_loss improved from 0.69192 to 0.69192, saving model to ../callbacks/99_51-0.6919.hdf5\n",
      "\n",
      "Epoch 00052: val_loss improved from 0.69192 to 0.69191, saving model to ../callbacks/99_52-0.6919.hdf5\n",
      "\n",
      "Epoch 00053: val_loss improved from 0.69191 to 0.69191, saving model to ../callbacks/99_53-0.6919.hdf5\n",
      "\n",
      "Epoch 00054: val_loss did not improve from 0.69191\n",
      "\n",
      "Epoch 00055: val_loss did not improve from 0.69191\n",
      "\n",
      "Epoch 00056: val_loss improved from 0.69191 to 0.69191, saving model to ../callbacks/99_56-0.6919.hdf5\n",
      "\n",
      "Epoch 00057: val_loss improved from 0.69191 to 0.69191, saving model to ../callbacks/99_57-0.6919.hdf5\n",
      "\n",
      "Epoch 00058: val_loss improved from 0.69191 to 0.69191, saving model to ../callbacks/99_58-0.6919.hdf5\n",
      "\n",
      "Epoch 00059: val_loss improved from 0.69191 to 0.69190, saving model to ../callbacks/99_59-0.6919.hdf5\n",
      "\n",
      "Epoch 00060: val_loss did not improve from 0.69190\n",
      "\n",
      "Epoch 00061: val_loss did not improve from 0.69190\n",
      "\n",
      "Epoch 00062: val_loss improved from 0.69190 to 0.69190, saving model to ../callbacks/99_62-0.6919.hdf5\n",
      "\n",
      "Epoch 00063: val_loss improved from 0.69190 to 0.69190, saving model to ../callbacks/99_63-0.6919.hdf5\n",
      "\n",
      "Epoch 00064: val_loss improved from 0.69190 to 0.69190, saving model to ../callbacks/99_64-0.6919.hdf5\n",
      "\n",
      "Epoch 00065: val_loss improved from 0.69190 to 0.69190, saving model to ../callbacks/99_65-0.6919.hdf5\n",
      "\n",
      "Epoch 00066: val_loss improved from 0.69190 to 0.69190, saving model to ../callbacks/99_66-0.6919.hdf5\n",
      "\n",
      "Epoch 00067: val_loss improved from 0.69190 to 0.69190, saving model to ../callbacks/99_67-0.6919.hdf5\n",
      "\n",
      "Epoch 00068: val_loss did not improve from 0.69190\n",
      "\n",
      "Epoch 00069: val_loss improved from 0.69190 to 0.69190, saving model to ../callbacks/99_69-0.6919.hdf5\n",
      "\n",
      "Epoch 00070: val_loss improved from 0.69190 to 0.69190, saving model to ../callbacks/99_70-0.6919.hdf5\n",
      "\n",
      "Epoch 00071: val_loss did not improve from 0.69190\n",
      "\n",
      "Epoch 00072: val_loss did not improve from 0.69190\n",
      "\n",
      "Epoch 00073: val_loss improved from 0.69190 to 0.69190, saving model to ../callbacks/99_73-0.6919.hdf5\n",
      "\n",
      "Epoch 00074: val_loss improved from 0.69190 to 0.69189, saving model to ../callbacks/99_74-0.6919.hdf5\n",
      "\n",
      "Epoch 00075: val_loss did not improve from 0.69189\n",
      "\n",
      "Epoch 00076: val_loss did not improve from 0.69189\n",
      "\n",
      "Epoch 00077: val_loss improved from 0.69189 to 0.69189, saving model to ../callbacks/99_77-0.6919.hdf5\n",
      "\n",
      "Epoch 00078: val_loss improved from 0.69189 to 0.69189, saving model to ../callbacks/99_78-0.6919.hdf5\n",
      "\n",
      "Epoch 00079: val_loss did not improve from 0.69189\n",
      "\n",
      "Epoch 00080: val_loss did not improve from 0.69189\n",
      "\n",
      "Epoch 00081: val_loss did not improve from 0.69189\n",
      "\n",
      "Epoch 00082: val_loss did not improve from 0.69189\n",
      "\n",
      "Epoch 00083: val_loss did not improve from 0.69189\n",
      "\n",
      "Epoch 00084: val_loss did not improve from 0.69189\n",
      "\n",
      "Epoch 00085: val_loss did not improve from 0.69189\n",
      "\n",
      "Epoch 00086: val_loss did not improve from 0.69189\n",
      "\n",
      "Epoch 00087: val_loss improved from 0.69189 to 0.69189, saving model to ../callbacks/99_87-0.6919.hdf5\n",
      "\n",
      "Epoch 00088: val_loss did not improve from 0.69189\n",
      "\n",
      "Epoch 00089: val_loss improved from 0.69189 to 0.69189, saving model to ../callbacks/99_89-0.6919.hdf5\n",
      "\n",
      "Epoch 00090: val_loss improved from 0.69189 to 0.69189, saving model to ../callbacks/99_90-0.6919.hdf5\n",
      "\n",
      "Epoch 00091: val_loss improved from 0.69189 to 0.69189, saving model to ../callbacks/99_91-0.6919.hdf5\n",
      "\n",
      "Epoch 00092: val_loss improved from 0.69189 to 0.69189, saving model to ../callbacks/99_92-0.6919.hdf5\n",
      "\n",
      "Epoch 00093: val_loss improved from 0.69189 to 0.69189, saving model to ../callbacks/99_93-0.6919.hdf5\n",
      "\n",
      "Epoch 00094: val_loss did not improve from 0.69189\n",
      "\n",
      "Epoch 00095: val_loss improved from 0.69189 to 0.69188, saving model to ../callbacks/99_95-0.6919.hdf5\n"
     ]
    },
    {
     "name": "stdout",
     "output_type": "stream",
     "text": [
      "\n",
      "Epoch 00096: val_loss did not improve from 0.69188\n",
      "\n",
      "Epoch 00097: val_loss did not improve from 0.69188\n",
      "\n",
      "Epoch 00098: val_loss improved from 0.69188 to 0.69188, saving model to ../callbacks/99_98-0.6919.hdf5\n",
      "\n",
      "Epoch 00099: val_loss improved from 0.69188 to 0.69188, saving model to ../callbacks/99_99-0.6919.hdf5\n",
      "\n",
      "Epoch 00100: val_loss improved from 0.69188 to 0.69188, saving model to ../callbacks/99_100-0.6919.hdf5\n",
      "<class 'tensorflow.python.keras.callbacks.History'>\n",
      "<class 'dict'>\n",
      "dict_keys(['loss', 'acc', 'val_loss', 'val_acc'])\n",
      "[2.9667259400199266, 0.6928921484796783, 0.6929115564665208, 0.6928085028561132, 0.6927433373048102, 0.6927713588209182, 0.6927015072539778, 0.6926553268161858, 0.6926493979402897, 0.692585929523131, 0.6925861162342107, 0.6925564355654671, 0.692567708740475, 0.6925500127419312, 0.6926007596100167, 0.6925145887802076, 0.6925149719797851, 0.6924877640576769, 0.6925069029774952, 0.6924703485958208, 0.6924615667821481, 0.6924650956779624, 0.6924471618249213, 0.6924052655884896, 0.6924453058077333, 0.6923988470895809, 0.6924608556630107, 0.6924390875578679, 0.6923812798897174, 0.6924071481175227, 0.6924308425620528, 0.6924317800660239, 0.6924039245779958, 0.6924242347196826, 0.6923807308500873, 0.6923789504198622, 0.692358179987417, 0.6923842471480746, 0.692427858193214, 0.6923680354368047, 0.692394120460053, 0.692368666644352, 0.6923851588923097, 0.6923573686497445, 0.6923403758731926, 0.6924728610162103, 0.6923451609792017, 0.6923550880669795, 0.6923902606362424, 0.6924173920312514, 0.6924098030625834, 0.6924192649708938, 0.6923986583102013, 0.6923947691541364, 0.6923769819623664, 0.6924059554605454, 0.6923597218110358, 0.6923317206018731, 0.6923615436072605, 0.6924528267105295, 0.6923702908239154, 0.6923828228414999, 0.6923643173855561, 0.6923988905238805, 0.6923951463368413, 0.6923967637474229, 0.692424949411338, 0.6924302621218684, 0.6924113952775107, 0.6924246167910963, 0.692349730793986, 0.6923489393872041, 0.692358195217626, 0.6923699971253188, 0.6923576802109318, 0.6923448499820962, 0.6923513970916579, 0.6923602129382666, 0.6923945489742026, 0.6924326021212509, 0.6923600363806596, 0.6923634943901928, 0.6923274382807855, 0.6923411802538562, 0.6923959717765592, 0.6924171272888544, 0.6924268780070525, 0.6923415410781885, 0.6923748091192276, 0.6923714911900108, 0.6923637010321633, 0.6923407090575161, 0.69237363921355, 0.6923503926499784, 0.6923646783979157, 0.692363053278216, 0.6925047100154383, 0.6923817332234669, 0.6923973940148338, 0.6923902333722882]\n",
      "[0.49211356, 0.5205047, 0.5205047, 0.5205047, 0.5205047, 0.5205047, 0.5205047, 0.5205047, 0.5205047, 0.5205047, 0.5205047, 0.5205047, 0.5205047, 0.5205047, 0.5205047, 0.5205047, 0.5205047, 0.5205047, 0.5205047, 0.5205047, 0.5205047, 0.5205047, 0.5205047, 0.5205047, 0.5205047, 0.5205047, 0.5205047, 0.5205047, 0.5205047, 0.5205047, 0.5205047, 0.5205047, 0.5205047, 0.5205047, 0.5205047, 0.5205047, 0.5205047, 0.5205047, 0.5205047, 0.5205047, 0.5205047, 0.5205047, 0.5205047, 0.5205047, 0.5205047, 0.5205047, 0.5205047, 0.5205047, 0.5205047, 0.5205047, 0.5205047, 0.5205047, 0.5205047, 0.5205047, 0.5205047, 0.5205047, 0.5205047, 0.5205047, 0.5205047, 0.5205047, 0.5205047, 0.5205047, 0.5205047, 0.5205047, 0.5205047, 0.5205047, 0.5205047, 0.5205047, 0.5205047, 0.5205047, 0.5205047, 0.5205047, 0.5205047, 0.5205047, 0.5205047, 0.5205047, 0.5205047, 0.5205047, 0.5205047, 0.5205047, 0.5205047, 0.5205047, 0.5205047, 0.5205047, 0.5205047, 0.5205047, 0.5205047, 0.5205047, 0.5205047, 0.5205047, 0.5205047, 0.5205047, 0.5205047, 0.5205047, 0.5205047, 0.5205047, 0.5205047, 0.5205047, 0.5205047, 0.5205047]\n",
      "[0.6928274050737039, 0.6927538880935082, 0.6926854833578452, 0.6926293831605178, 0.6925704448651044, 0.6925237805415423, 0.6924726489262704, 0.692428836455712, 0.6923839373466296, 0.6923478001203293, 0.6923143267631531, 0.6922841087365762, 0.69226135351719, 0.6922320127487183, 0.6922028293976417, 0.6921818455060323, 0.6921646396319071, 0.6921462538914803, 0.6921281187962263, 0.6921102435160906, 0.6920977494655511, 0.6920847755212051, 0.6920719987306839, 0.6920602260491787, 0.6920479902854333, 0.6920404480053828, 0.6920309999050238, 0.6920180840369983, 0.692011541280991, 0.6920043352322701, 0.6919960761681582, 0.6919873769466693, 0.6919789222570566, 0.6919751579944904, 0.6919727432422149, 0.6919703208483182, 0.6919633440482311, 0.6919585741483248, 0.6919515087054326, 0.6919484505286584, 0.6919455161461463, 0.6919409342301197, 0.6919364913915976, 0.6919341484705607, 0.6919320913461539, 0.6919298997292151, 0.691928030588688, 0.6919277616036243, 0.6919226325475253, 0.6919211531296755, 0.6919172956393316, 0.691914825867384, 0.6919114788373312, 0.6919130621812283, 0.6919121253184783, 0.6919097426610116, 0.6919083931507208, 0.6919067868819604, 0.6919037332901588, 0.6919058790573707, 0.6919042406938015, 0.6919025243856968, 0.6919012039135664, 0.6919008386440766, 0.6918985201762273, 0.6918974702174847, 0.6918973403099256, 0.6918988441809629, 0.6918968573594705, 0.6918967366218567, 0.6918971676092881, 0.6918972134590149, 0.6918955812087426, 0.6918943356244992, 0.6918948445564661, 0.6918948537264115, 0.6918931404749552, 0.6918927018459027, 0.6918954161497263, 0.6918954406029139, 0.6918940941492716, 0.6918960763857915, 0.6918951563346081, 0.6918941598672134, 0.6918944196823316, 0.6918928898297824, 0.6918926529395275, 0.6918931465882522, 0.6918905438520969, 0.6918893670424436, 0.6918882926305135, 0.6918877989817889, 0.6918854102110251, 0.6918855936099322, 0.6918847285784208, 0.6918852359820635, 0.6918858014620267, 0.6918842899493682, 0.6918829862888043, 0.6918819623115735]\n",
      "[0.525641, 0.525641, 0.525641, 0.525641, 0.525641, 0.525641, 0.525641, 0.525641, 0.525641, 0.525641, 0.525641, 0.525641, 0.525641, 0.525641, 0.525641, 0.525641, 0.525641, 0.525641, 0.525641, 0.525641, 0.525641, 0.525641, 0.525641, 0.525641, 0.525641, 0.525641, 0.525641, 0.525641, 0.525641, 0.525641, 0.525641, 0.525641, 0.525641, 0.525641, 0.525641, 0.525641, 0.525641, 0.525641, 0.525641, 0.525641, 0.525641, 0.525641, 0.525641, 0.525641, 0.525641, 0.525641, 0.525641, 0.525641, 0.525641, 0.525641, 0.525641, 0.525641, 0.525641, 0.525641, 0.525641, 0.525641, 0.525641, 0.525641, 0.525641, 0.525641, 0.525641, 0.525641, 0.525641, 0.525641, 0.525641, 0.525641, 0.525641, 0.525641, 0.525641, 0.525641, 0.525641, 0.525641, 0.525641, 0.525641, 0.525641, 0.525641, 0.525641, 0.525641, 0.525641, 0.525641, 0.525641, 0.525641, 0.525641, 0.525641, 0.525641, 0.525641, 0.525641, 0.525641, 0.525641, 0.525641, 0.525641, 0.525641, 0.525641, 0.525641, 0.525641, 0.525641, 0.525641, 0.525641, 0.525641, 0.525641]\n"
     ]
    }
   ],
   "source": [
    "#訓練データ\n",
    "x_train = x_train_all\n",
    "y_train = y_train_all\n",
    "\n",
    "#検証データ\n",
    "x_val = x_train_all_5crossval \n",
    "y_val = y_train_all_5crossval \n",
    "\n",
    "\n",
    "#old_session = KTF.get_session()\n",
    "#session = tf.Session('')\n",
    "#KTF.set_session(session)\n",
    "#KTF.set_learning_phase(1)\n",
    "\n",
    "#modelの定義の前に重みのリセットが必要で，これ？\n",
    "tf.compat.v1.Session()\n",
    "#sess = tf.compat.v1.Session()\n",
    "\n",
    "#モデル構築\n",
    "model = Sequential()\n",
    "model.add(Conv2D(filters=3, kernel_size=(14, 4), strides=(1, 1), padding='valid', \n",
    "                 data_format=\"channels_last\", dilation_rate=(1, 1), activation='relu', \n",
    "                 use_bias=True, input_shape=(14, 8, 1), kernel_initializer='glorot_uniform', \n",
    "                 bias_initializer='zeros',  name='Conv2D_01'))\n",
    "#model.add(MaxPooling2D(pool_size=(2, 2), strides=None, padding='valid', data_format=None, \n",
    "#                       name='MaxPooling2D_01'))\n",
    "model.add(Flatten(name='Flatten_01'))\n",
    "#model.add(Dropout(0.50))\n",
    "#model.add(Dense(units=10, name='Denese_02', activation='relu'))\n",
    "#model.add(Dense(units=50, name='Dense_01', activation='relu')\n",
    "#model.add(Dense(units=10, name='Denese_03', activation='relu'))\n",
    "model.add(Dense(units=2, name='Dense_out'))\n",
    "model.add(Activation('softmax'))\n",
    "\n",
    "#モデルの構造を表示\n",
    "model.summary()\n",
    "\n",
    "#訓練（学習）プロセスの設定\n",
    "model.compile(optimizer='sgd', loss='categorical_crossentropy', metrics=['accuracy'])\n",
    "\n",
    "\n",
    "\n",
    "#バリデーションロスが減少した場合に，各エポック終了後，モデルの重みを保存します\n",
    "#checkpointer = ModelCheckpoint(filepath='./weights.hdf5', verbose=0, save_best_only=True, save_format=\"h5\")\n",
    "### add for TensorBoard\n",
    "erly_stpg = EarlyStopping(patience=10, verbose=1,monitor='val_loss' , mode = 'min') \n",
    "chkfile = '../callbacks/' + '{0:2d}'.format(Vernum)+'_{epoch:02d}-{val_loss:.4f}.hdf5' #format関数\n",
    "check_point = ModelCheckpoint(filepath = chkfile, monitor='val_loss', verbose=1, save_best_only=True, mode='min')\n",
    "check_point = [check_point]\n",
    "\n",
    "log_dir = \"log/\" + datetime.datetime.now().strftime(\"%Y%m%d-%H%M%S\")\n",
    "tensorboard_callback = tf.keras.callbacks.TensorBoard(log_dir=log_dir, histogram_freq=1)\n",
    "cbks=[tensorboard_callback]\n",
    "\n",
    "#訓練の実行 \n",
    "NUM_EPOCHS=100\n",
    "NUM_BATCH=32\n",
    "#history = model.fit(x_train, y_train, batch_size=NUM_BATCH, epochs=NUM_EPOCHS, validation_split=0.2, shuffle = True ,\n",
    "#                    callbacks=[erly_stpg , chck_pont], verbose = 0, )\n",
    "history = model.fit(x_train, y_train, batch_size=NUM_BATCH, epochs=NUM_EPOCHS, \n",
    "                    shuffle = True, verbose = 0,\n",
    "                    callbacks=check_point,\n",
    "                   validation_data=(x_val, y_val))\n",
    "\n",
    "print(type(history))\n",
    "print(type(history.history))\n",
    "print(history.history.keys())\n",
    "print(history.history['loss'])\n",
    "print(history.history['acc'])\n",
    "print(history.history['val_loss'])\n",
    "print(history.history['val_acc'])"
   ]
  },
  {
   "cell_type": "code",
   "execution_count": 23,
   "metadata": {},
   "outputs": [
    {
     "ename": "SyntaxError",
     "evalue": "EOF while scanning triple-quoted string literal (<ipython-input-23-bc3909e148dc>, line 12)",
     "output_type": "error",
     "traceback": [
      "\u001b[0;36m  File \u001b[0;32m\"<ipython-input-23-bc3909e148dc>\"\u001b[0;36m, line \u001b[0;32m12\u001b[0m\n\u001b[0;31m    #model = load_model(...)\u001b[0m\n\u001b[0m                            \n^\u001b[0m\n\u001b[0;31mSyntaxError\u001b[0m\u001b[0;31m:\u001b[0m EOF while scanning triple-quoted string literal\n"
     ]
    }
   ],
   "source": [
    "'''\n",
    "from tensorflow.python.keras.backend import set_session\n",
    "from tensorflow.python.keras.models import load_model\n",
    "\n",
    "tf_config = some_custom_config\n",
    "sess = tf.Session(config=tf_config)\n",
    "graph = tf.get_default_graph()\n",
    "\n",
    "# IMPORTANT: models have to be loaded AFTER SETTING THE SESSION for keras! \n",
    "# Otherwise, their weights will be unavailable in the threads after the session there has been set\n",
    "set_session(sess)\n",
    "#model = load_model(...)"
   ]
  },
  {
   "cell_type": "markdown",
   "metadata": {},
   "source": [
    "## csvファイルにモデルの学習評価を書き出す．"
   ]
  },
  {
   "cell_type": "code",
   "execution_count": 24,
   "metadata": {},
   "outputs": [
    {
     "data": {
      "text/html": [
       "<div>\n",
       "<style scoped>\n",
       "    .dataframe tbody tr th:only-of-type {\n",
       "        vertical-align: middle;\n",
       "    }\n",
       "\n",
       "    .dataframe tbody tr th {\n",
       "        vertical-align: top;\n",
       "    }\n",
       "\n",
       "    .dataframe thead th {\n",
       "        text-align: right;\n",
       "    }\n",
       "</style>\n",
       "<table border=\"1\" class=\"dataframe\">\n",
       "  <thead>\n",
       "    <tr style=\"text-align: right;\">\n",
       "      <th></th>\n",
       "      <th>loss</th>\n",
       "      <th>acc</th>\n",
       "      <th>val_loss</th>\n",
       "      <th>val_acc</th>\n",
       "    </tr>\n",
       "  </thead>\n",
       "  <tbody>\n",
       "    <tr>\n",
       "      <th>0</th>\n",
       "      <td>2.966726</td>\n",
       "      <td>0.492114</td>\n",
       "      <td>0.692827</td>\n",
       "      <td>0.525641</td>\n",
       "    </tr>\n",
       "    <tr>\n",
       "      <th>1</th>\n",
       "      <td>0.692892</td>\n",
       "      <td>0.520505</td>\n",
       "      <td>0.692754</td>\n",
       "      <td>0.525641</td>\n",
       "    </tr>\n",
       "    <tr>\n",
       "      <th>2</th>\n",
       "      <td>0.692912</td>\n",
       "      <td>0.520505</td>\n",
       "      <td>0.692685</td>\n",
       "      <td>0.525641</td>\n",
       "    </tr>\n",
       "    <tr>\n",
       "      <th>3</th>\n",
       "      <td>0.692809</td>\n",
       "      <td>0.520505</td>\n",
       "      <td>0.692629</td>\n",
       "      <td>0.525641</td>\n",
       "    </tr>\n",
       "    <tr>\n",
       "      <th>4</th>\n",
       "      <td>0.692743</td>\n",
       "      <td>0.520505</td>\n",
       "      <td>0.692570</td>\n",
       "      <td>0.525641</td>\n",
       "    </tr>\n",
       "    <tr>\n",
       "      <th>...</th>\n",
       "      <td>...</td>\n",
       "      <td>...</td>\n",
       "      <td>...</td>\n",
       "      <td>...</td>\n",
       "    </tr>\n",
       "    <tr>\n",
       "      <th>95</th>\n",
       "      <td>0.692363</td>\n",
       "      <td>0.520505</td>\n",
       "      <td>0.691885</td>\n",
       "      <td>0.525641</td>\n",
       "    </tr>\n",
       "    <tr>\n",
       "      <th>96</th>\n",
       "      <td>0.692505</td>\n",
       "      <td>0.520505</td>\n",
       "      <td>0.691886</td>\n",
       "      <td>0.525641</td>\n",
       "    </tr>\n",
       "    <tr>\n",
       "      <th>97</th>\n",
       "      <td>0.692382</td>\n",
       "      <td>0.520505</td>\n",
       "      <td>0.691884</td>\n",
       "      <td>0.525641</td>\n",
       "    </tr>\n",
       "    <tr>\n",
       "      <th>98</th>\n",
       "      <td>0.692397</td>\n",
       "      <td>0.520505</td>\n",
       "      <td>0.691883</td>\n",
       "      <td>0.525641</td>\n",
       "    </tr>\n",
       "    <tr>\n",
       "      <th>99</th>\n",
       "      <td>0.692390</td>\n",
       "      <td>0.520505</td>\n",
       "      <td>0.691882</td>\n",
       "      <td>0.525641</td>\n",
       "    </tr>\n",
       "  </tbody>\n",
       "</table>\n",
       "<p>100 rows × 4 columns</p>\n",
       "</div>"
      ],
      "text/plain": [
       "        loss       acc  val_loss   val_acc\n",
       "0   2.966726  0.492114  0.692827  0.525641\n",
       "1   0.692892  0.520505  0.692754  0.525641\n",
       "2   0.692912  0.520505  0.692685  0.525641\n",
       "3   0.692809  0.520505  0.692629  0.525641\n",
       "4   0.692743  0.520505  0.692570  0.525641\n",
       "..       ...       ...       ...       ...\n",
       "95  0.692363  0.520505  0.691885  0.525641\n",
       "96  0.692505  0.520505  0.691886  0.525641\n",
       "97  0.692382  0.520505  0.691884  0.525641\n",
       "98  0.692397  0.520505  0.691883  0.525641\n",
       "99  0.692390  0.520505  0.691882  0.525641\n",
       "\n",
       "[100 rows x 4 columns]"
      ]
     },
     "execution_count": 24,
     "metadata": {},
     "output_type": "execute_result"
    }
   ],
   "source": [
    "df1 = pd.DataFrame(\n",
    "    data={'loss':history.history['loss'], \n",
    "          'acc':history.history['acc'],\n",
    "          'val_loss':history.history['val_loss'], \n",
    "          'val_acc':history.history['val_acc']\n",
    "         }, \n",
    "    index=np.arange(0, 100)\n",
    ")\n",
    " \n",
    "df1"
   ]
  },
  {
   "cell_type": "code",
   "execution_count": 25,
   "metadata": {},
   "outputs": [
    {
     "data": {
      "text/html": [
       "<div>\n",
       "<style scoped>\n",
       "    .dataframe tbody tr th:only-of-type {\n",
       "        vertical-align: middle;\n",
       "    }\n",
       "\n",
       "    .dataframe tbody tr th {\n",
       "        vertical-align: top;\n",
       "    }\n",
       "\n",
       "    .dataframe thead th {\n",
       "        text-align: right;\n",
       "    }\n",
       "</style>\n",
       "<table border=\"1\" class=\"dataframe\">\n",
       "  <thead>\n",
       "    <tr style=\"text-align: right;\">\n",
       "      <th></th>\n",
       "      <th>Kernel</th>\n",
       "      <th>Conv2D</th>\n",
       "      <th>hidden01</th>\n",
       "      <th>Batch_size</th>\n",
       "      <th>epochs</th>\n",
       "    </tr>\n",
       "  </thead>\n",
       "  <tbody>\n",
       "    <tr>\n",
       "      <th>0</th>\n",
       "      <td>14x4</td>\n",
       "      <td>3</td>\n",
       "      <td>0</td>\n",
       "      <td>32</td>\n",
       "      <td>100</td>\n",
       "    </tr>\n",
       "    <tr>\n",
       "      <th>1</th>\n",
       "      <td>14x4</td>\n",
       "      <td>3</td>\n",
       "      <td>0</td>\n",
       "      <td>32</td>\n",
       "      <td>100</td>\n",
       "    </tr>\n",
       "    <tr>\n",
       "      <th>2</th>\n",
       "      <td>14x4</td>\n",
       "      <td>3</td>\n",
       "      <td>0</td>\n",
       "      <td>32</td>\n",
       "      <td>100</td>\n",
       "    </tr>\n",
       "    <tr>\n",
       "      <th>3</th>\n",
       "      <td>14x4</td>\n",
       "      <td>3</td>\n",
       "      <td>0</td>\n",
       "      <td>32</td>\n",
       "      <td>100</td>\n",
       "    </tr>\n",
       "  </tbody>\n",
       "</table>\n",
       "</div>"
      ],
      "text/plain": [
       "  Kernel Conv2D hidden01 Batch_size epochs\n",
       "0   14x4      3        0         32    100\n",
       "1   14x4      3        0         32    100\n",
       "2   14x4      3        0         32    100\n",
       "3   14x4      3        0         32    100"
      ]
     },
     "execution_count": 25,
     "metadata": {},
     "output_type": "execute_result"
    }
   ],
   "source": [
    "i=4\n",
    "j=3\n",
    "k=0\n",
    "m=32\n",
    "n=100\n",
    "\n",
    "df2 = pd.DataFrame(\n",
    "    data={'Kernel':f'14x{i}',\n",
    "         'Conv2D':str(j),\n",
    "         'hidden01':str(k),\n",
    "         'Batch_size':str(m),\n",
    "         'epochs':str(n)}, \n",
    "    index=np.arange(4)\n",
    ")\n",
    "df2"
   ]
  },
  {
   "cell_type": "code",
   "execution_count": 26,
   "metadata": {},
   "outputs": [
    {
     "name": "stdout",
     "output_type": "stream",
     "text": [
      "        loss       acc  val_loss   val_acc Kernel Conv2D hidden01 Batch_size  \\\n",
      "0   2.966726  0.492114  0.692827  0.525641   14x4      3        0         32   \n",
      "1   0.692892  0.520505  0.692754  0.525641   14x4      3        0         32   \n",
      "2   0.692912  0.520505  0.692685  0.525641   14x4      3        0         32   \n",
      "3   0.692809  0.520505  0.692629  0.525641   14x4      3        0         32   \n",
      "4   0.692743  0.520505  0.692570  0.525641    NaN    NaN      NaN        NaN   \n",
      "..       ...       ...       ...       ...    ...    ...      ...        ...   \n",
      "95  0.692363  0.520505  0.691885  0.525641    NaN    NaN      NaN        NaN   \n",
      "96  0.692505  0.520505  0.691886  0.525641    NaN    NaN      NaN        NaN   \n",
      "97  0.692382  0.520505  0.691884  0.525641    NaN    NaN      NaN        NaN   \n",
      "98  0.692397  0.520505  0.691883  0.525641    NaN    NaN      NaN        NaN   \n",
      "99  0.692390  0.520505  0.691882  0.525641    NaN    NaN      NaN        NaN   \n",
      "\n",
      "   epochs  \n",
      "0     100  \n",
      "1     100  \n",
      "2     100  \n",
      "3     100  \n",
      "4     NaN  \n",
      "..    ...  \n",
      "95    NaN  \n",
      "96    NaN  \n",
      "97    NaN  \n",
      "98    NaN  \n",
      "99    NaN  \n",
      "\n",
      "[100 rows x 9 columns]\n"
     ]
    }
   ],
   "source": [
    "print(pd.concat([df1, df2], axis=1))\n",
    "df3 = pd.concat([df1, df2], axis=1)"
   ]
  },
  {
   "cell_type": "code",
   "execution_count": 27,
   "metadata": {},
   "outputs": [],
   "source": [
    "var = \"CNN_04\"\n",
    "filename = f'./fitting_model/FCvsCNN/CNN/trial_{var}.csv'\n",
    "df3.to_csv(filename)"
   ]
  },
  {
   "cell_type": "code",
   "execution_count": 28,
   "metadata": {},
   "outputs": [
    {
     "data": {
      "text/html": [
       "<div>\n",
       "<style scoped>\n",
       "    .dataframe tbody tr th:only-of-type {\n",
       "        vertical-align: middle;\n",
       "    }\n",
       "\n",
       "    .dataframe tbody tr th {\n",
       "        vertical-align: top;\n",
       "    }\n",
       "\n",
       "    .dataframe thead th {\n",
       "        text-align: right;\n",
       "    }\n",
       "</style>\n",
       "<table border=\"1\" class=\"dataframe\">\n",
       "  <thead>\n",
       "    <tr style=\"text-align: right;\">\n",
       "      <th></th>\n",
       "      <th>loss</th>\n",
       "      <th>acc</th>\n",
       "      <th>val_loss</th>\n",
       "      <th>val_acc</th>\n",
       "      <th>Kernel</th>\n",
       "      <th>Conv2D</th>\n",
       "      <th>hidden01</th>\n",
       "      <th>Batch_size</th>\n",
       "      <th>epochs</th>\n",
       "    </tr>\n",
       "  </thead>\n",
       "  <tbody>\n",
       "    <tr>\n",
       "      <th>0</th>\n",
       "      <td>2.966726</td>\n",
       "      <td>0.492114</td>\n",
       "      <td>0.692827</td>\n",
       "      <td>0.525641</td>\n",
       "      <td>14x4</td>\n",
       "      <td>3</td>\n",
       "      <td>0</td>\n",
       "      <td>32</td>\n",
       "      <td>100</td>\n",
       "    </tr>\n",
       "    <tr>\n",
       "      <th>1</th>\n",
       "      <td>0.692892</td>\n",
       "      <td>0.520505</td>\n",
       "      <td>0.692754</td>\n",
       "      <td>0.525641</td>\n",
       "      <td>14x4</td>\n",
       "      <td>3</td>\n",
       "      <td>0</td>\n",
       "      <td>32</td>\n",
       "      <td>100</td>\n",
       "    </tr>\n",
       "    <tr>\n",
       "      <th>2</th>\n",
       "      <td>0.692912</td>\n",
       "      <td>0.520505</td>\n",
       "      <td>0.692685</td>\n",
       "      <td>0.525641</td>\n",
       "      <td>14x4</td>\n",
       "      <td>3</td>\n",
       "      <td>0</td>\n",
       "      <td>32</td>\n",
       "      <td>100</td>\n",
       "    </tr>\n",
       "    <tr>\n",
       "      <th>3</th>\n",
       "      <td>0.692809</td>\n",
       "      <td>0.520505</td>\n",
       "      <td>0.692629</td>\n",
       "      <td>0.525641</td>\n",
       "      <td>14x4</td>\n",
       "      <td>3</td>\n",
       "      <td>0</td>\n",
       "      <td>32</td>\n",
       "      <td>100</td>\n",
       "    </tr>\n",
       "    <tr>\n",
       "      <th>4</th>\n",
       "      <td>0.692743</td>\n",
       "      <td>0.520505</td>\n",
       "      <td>0.692570</td>\n",
       "      <td>0.525641</td>\n",
       "      <td>NaN</td>\n",
       "      <td>NaN</td>\n",
       "      <td>NaN</td>\n",
       "      <td>NaN</td>\n",
       "      <td>NaN</td>\n",
       "    </tr>\n",
       "  </tbody>\n",
       "</table>\n",
       "</div>"
      ],
      "text/plain": [
       "       loss       acc  val_loss   val_acc Kernel Conv2D hidden01 Batch_size  \\\n",
       "0  2.966726  0.492114  0.692827  0.525641   14x4      3        0         32   \n",
       "1  0.692892  0.520505  0.692754  0.525641   14x4      3        0         32   \n",
       "2  0.692912  0.520505  0.692685  0.525641   14x4      3        0         32   \n",
       "3  0.692809  0.520505  0.692629  0.525641   14x4      3        0         32   \n",
       "4  0.692743  0.520505  0.692570  0.525641    NaN    NaN      NaN        NaN   \n",
       "\n",
       "  epochs  \n",
       "0    100  \n",
       "1    100  \n",
       "2    100  \n",
       "3    100  \n",
       "4    NaN  "
      ]
     },
     "execution_count": 28,
     "metadata": {},
     "output_type": "execute_result"
    }
   ],
   "source": [
    "df3.iloc[0:5, :]"
   ]
  },
  {
   "cell_type": "code",
   "execution_count": 29,
   "metadata": {},
   "outputs": [
    {
     "data": {
      "text/html": [
       "<div>\n",
       "<style scoped>\n",
       "    .dataframe tbody tr th:only-of-type {\n",
       "        vertical-align: middle;\n",
       "    }\n",
       "\n",
       "    .dataframe tbody tr th {\n",
       "        vertical-align: top;\n",
       "    }\n",
       "\n",
       "    .dataframe thead th {\n",
       "        text-align: right;\n",
       "    }\n",
       "</style>\n",
       "<table border=\"1\" class=\"dataframe\">\n",
       "  <thead>\n",
       "    <tr style=\"text-align: right;\">\n",
       "      <th></th>\n",
       "      <th>loss</th>\n",
       "      <th>acc</th>\n",
       "      <th>val_loss</th>\n",
       "      <th>val_acc</th>\n",
       "      <th>Kernel</th>\n",
       "      <th>Conv2D</th>\n",
       "      <th>hidden01</th>\n",
       "      <th>Batch_size</th>\n",
       "      <th>epochs</th>\n",
       "    </tr>\n",
       "  </thead>\n",
       "  <tbody>\n",
       "    <tr>\n",
       "      <th>95</th>\n",
       "      <td>0.692363</td>\n",
       "      <td>0.520505</td>\n",
       "      <td>0.691885</td>\n",
       "      <td>0.525641</td>\n",
       "      <td>NaN</td>\n",
       "      <td>NaN</td>\n",
       "      <td>NaN</td>\n",
       "      <td>NaN</td>\n",
       "      <td>NaN</td>\n",
       "    </tr>\n",
       "    <tr>\n",
       "      <th>96</th>\n",
       "      <td>0.692505</td>\n",
       "      <td>0.520505</td>\n",
       "      <td>0.691886</td>\n",
       "      <td>0.525641</td>\n",
       "      <td>NaN</td>\n",
       "      <td>NaN</td>\n",
       "      <td>NaN</td>\n",
       "      <td>NaN</td>\n",
       "      <td>NaN</td>\n",
       "    </tr>\n",
       "    <tr>\n",
       "      <th>97</th>\n",
       "      <td>0.692382</td>\n",
       "      <td>0.520505</td>\n",
       "      <td>0.691884</td>\n",
       "      <td>0.525641</td>\n",
       "      <td>NaN</td>\n",
       "      <td>NaN</td>\n",
       "      <td>NaN</td>\n",
       "      <td>NaN</td>\n",
       "      <td>NaN</td>\n",
       "    </tr>\n",
       "    <tr>\n",
       "      <th>98</th>\n",
       "      <td>0.692397</td>\n",
       "      <td>0.520505</td>\n",
       "      <td>0.691883</td>\n",
       "      <td>0.525641</td>\n",
       "      <td>NaN</td>\n",
       "      <td>NaN</td>\n",
       "      <td>NaN</td>\n",
       "      <td>NaN</td>\n",
       "      <td>NaN</td>\n",
       "    </tr>\n",
       "    <tr>\n",
       "      <th>99</th>\n",
       "      <td>0.692390</td>\n",
       "      <td>0.520505</td>\n",
       "      <td>0.691882</td>\n",
       "      <td>0.525641</td>\n",
       "      <td>NaN</td>\n",
       "      <td>NaN</td>\n",
       "      <td>NaN</td>\n",
       "      <td>NaN</td>\n",
       "      <td>NaN</td>\n",
       "    </tr>\n",
       "  </tbody>\n",
       "</table>\n",
       "</div>"
      ],
      "text/plain": [
       "        loss       acc  val_loss   val_acc Kernel Conv2D hidden01 Batch_size  \\\n",
       "95  0.692363  0.520505  0.691885  0.525641    NaN    NaN      NaN        NaN   \n",
       "96  0.692505  0.520505  0.691886  0.525641    NaN    NaN      NaN        NaN   \n",
       "97  0.692382  0.520505  0.691884  0.525641    NaN    NaN      NaN        NaN   \n",
       "98  0.692397  0.520505  0.691883  0.525641    NaN    NaN      NaN        NaN   \n",
       "99  0.692390  0.520505  0.691882  0.525641    NaN    NaN      NaN        NaN   \n",
       "\n",
       "   epochs  \n",
       "95    NaN  \n",
       "96    NaN  \n",
       "97    NaN  \n",
       "98    NaN  \n",
       "99    NaN  "
      ]
     },
     "execution_count": 29,
     "metadata": {},
     "output_type": "execute_result"
    }
   ],
   "source": [
    "df3.iloc[100-5:100, :]"
   ]
  },
  {
   "cell_type": "markdown",
   "metadata": {},
   "source": [
    "## 結果をプロットする．"
   ]
  },
  {
   "cell_type": "code",
   "execution_count": 13,
   "metadata": {},
   "outputs": [
    {
     "ename": "SyntaxError",
     "evalue": "EOF while scanning triple-quoted string literal (<ipython-input-13-8c1ad1582a52>, line 3)",
     "output_type": "error",
     "traceback": [
      "\u001b[0;36m  File \u001b[0;32m\"<ipython-input-13-8c1ad1582a52>\"\u001b[0;36m, line \u001b[0;32m3\u001b[0m\n\u001b[0;31m    plot_model(model, to_file='model.png')\u001b[0m\n\u001b[0m                                          \n^\u001b[0m\n\u001b[0;31mSyntaxError\u001b[0m\u001b[0;31m:\u001b[0m EOF while scanning triple-quoted string literal\n"
     ]
    }
   ],
   "source": [
    "'''\n",
    "from tensorflow.keras.utils import plot_model\n",
    "plot_model(model, to_file='model.png')"
   ]
  },
  {
   "cell_type": "code",
   "execution_count": 30,
   "metadata": {},
   "outputs": [
    {
     "data": {
      "image/png": "[encoded data removed]",
      "text/plain": [
       "<Figure size 432x288 with 1 Axes>"
      ]
     },
     "metadata": {
      "needs_background": "light"
     },
     "output_type": "display_data"
    }
   ],
   "source": [
    "plt.plot(range(1, NUM_EPOCHS+1), df3['acc'], \"-o\")\n",
    "plt.plot(range(1, NUM_EPOCHS+1), df3['val_acc'], \"-o\")\n",
    "plt.title('model accuracy')\n",
    "plt.ylabel('accuracy')  # Y軸ラベル\n",
    "plt.xlabel('epoch')  # X軸ラベル\n",
    "plt.grid()\n",
    "plt.legend(['acc', 'val_acc'], loc='best')\n",
    "#plt.xlim(0,NUM_EPOCHS)\n",
    "plt.ylim(0.0,1.0)\n",
    "plt.show()"
   ]
  },
  {
   "cell_type": "code",
   "execution_count": 15,
   "metadata": {},
   "outputs": [
    {
     "ename": "FileNotFoundError",
     "evalue": "[Errno 2] No such file or directory: './predict/img/CNN_learning_rate_acc_01.png'",
     "output_type": "error",
     "traceback": [
      "\u001b[0;31m---------------------------------------------------------------------------\u001b[0m",
      "\u001b[0;31mFileNotFoundError\u001b[0m                         Traceback (most recent call last)",
      "\u001b[0;32m<ipython-input-15-1efea2f4e93a>\u001b[0m in \u001b[0;36m<module>\u001b[0;34m\u001b[0m\n\u001b[1;32m      1\u001b[0m \u001b[0mplt\u001b[0m\u001b[0;34m.\u001b[0m\u001b[0mfigure\u001b[0m\u001b[0;34m(\u001b[0m\u001b[0;34m)\u001b[0m\u001b[0;34m\u001b[0m\u001b[0;34m\u001b[0m\u001b[0m\n\u001b[1;32m      2\u001b[0m \u001b[0mplt\u001b[0m\u001b[0;34m.\u001b[0m\u001b[0mplot\u001b[0m\u001b[0;34m(\u001b[0m\u001b[0;34m)\u001b[0m\u001b[0;34m\u001b[0m\u001b[0;34m\u001b[0m\u001b[0m\n\u001b[0;32m----> 3\u001b[0;31m \u001b[0mplt\u001b[0m\u001b[0;34m.\u001b[0m\u001b[0msavefig\u001b[0m\u001b[0;34m(\u001b[0m\u001b[0;34m'./predict/img/CNN_learning_rate_acc_01.png'\u001b[0m\u001b[0;34m)\u001b[0m\u001b[0;34m\u001b[0m\u001b[0;34m\u001b[0m\u001b[0m\n\u001b[0m\u001b[1;32m      4\u001b[0m \u001b[0mplt\u001b[0m\u001b[0;34m.\u001b[0m\u001b[0mclose\u001b[0m\u001b[0;34m(\u001b[0m\u001b[0;34m'all'\u001b[0m\u001b[0;34m)\u001b[0m\u001b[0;34m\u001b[0m\u001b[0;34m\u001b[0m\u001b[0m\n",
      "\u001b[0;32m~/anaconda3/lib/python3.7/site-packages/matplotlib/pyplot.py\u001b[0m in \u001b[0;36msavefig\u001b[0;34m(*args, **kwargs)\u001b[0m\n\u001b[1;32m    727\u001b[0m \u001b[0;32mdef\u001b[0m \u001b[0msavefig\u001b[0m\u001b[0;34m(\u001b[0m\u001b[0;34m*\u001b[0m\u001b[0margs\u001b[0m\u001b[0;34m,\u001b[0m \u001b[0;34m**\u001b[0m\u001b[0mkwargs\u001b[0m\u001b[0;34m)\u001b[0m\u001b[0;34m:\u001b[0m\u001b[0;34m\u001b[0m\u001b[0;34m\u001b[0m\u001b[0m\n\u001b[1;32m    728\u001b[0m     \u001b[0mfig\u001b[0m \u001b[0;34m=\u001b[0m \u001b[0mgcf\u001b[0m\u001b[0;34m(\u001b[0m\u001b[0;34m)\u001b[0m\u001b[0;34m\u001b[0m\u001b[0;34m\u001b[0m\u001b[0m\n\u001b[0;32m--> 729\u001b[0;31m     \u001b[0mres\u001b[0m \u001b[0;34m=\u001b[0m \u001b[0mfig\u001b[0m\u001b[0;34m.\u001b[0m\u001b[0msavefig\u001b[0m\u001b[0;34m(\u001b[0m\u001b[0;34m*\u001b[0m\u001b[0margs\u001b[0m\u001b[0;34m,\u001b[0m \u001b[0;34m**\u001b[0m\u001b[0mkwargs\u001b[0m\u001b[0;34m)\u001b[0m\u001b[0;34m\u001b[0m\u001b[0;34m\u001b[0m\u001b[0m\n\u001b[0m\u001b[1;32m    730\u001b[0m     \u001b[0mfig\u001b[0m\u001b[0;34m.\u001b[0m\u001b[0mcanvas\u001b[0m\u001b[0;34m.\u001b[0m\u001b[0mdraw_idle\u001b[0m\u001b[0;34m(\u001b[0m\u001b[0;34m)\u001b[0m   \u001b[0;31m# need this if 'transparent=True' to reset colors\u001b[0m\u001b[0;34m\u001b[0m\u001b[0;34m\u001b[0m\u001b[0m\n\u001b[1;32m    731\u001b[0m     \u001b[0;32mreturn\u001b[0m \u001b[0mres\u001b[0m\u001b[0;34m\u001b[0m\u001b[0;34m\u001b[0m\u001b[0m\n",
      "\u001b[0;32m~/anaconda3/lib/python3.7/site-packages/matplotlib/figure.py\u001b[0m in \u001b[0;36msavefig\u001b[0;34m(self, fname, transparent, **kwargs)\u001b[0m\n\u001b[1;32m   2178\u001b[0m             \u001b[0mself\u001b[0m\u001b[0;34m.\u001b[0m\u001b[0mpatch\u001b[0m\u001b[0;34m.\u001b[0m\u001b[0mset_visible\u001b[0m\u001b[0;34m(\u001b[0m\u001b[0mframeon\u001b[0m\u001b[0;34m)\u001b[0m\u001b[0;34m\u001b[0m\u001b[0;34m\u001b[0m\u001b[0m\n\u001b[1;32m   2179\u001b[0m \u001b[0;34m\u001b[0m\u001b[0m\n\u001b[0;32m-> 2180\u001b[0;31m         \u001b[0mself\u001b[0m\u001b[0;34m.\u001b[0m\u001b[0mcanvas\u001b[0m\u001b[0;34m.\u001b[0m\u001b[0mprint_figure\u001b[0m\u001b[0;34m(\u001b[0m\u001b[0mfname\u001b[0m\u001b[0;34m,\u001b[0m \u001b[0;34m**\u001b[0m\u001b[0mkwargs\u001b[0m\u001b[0;34m)\u001b[0m\u001b[0;34m\u001b[0m\u001b[0;34m\u001b[0m\u001b[0m\n\u001b[0m\u001b[1;32m   2181\u001b[0m \u001b[0;34m\u001b[0m\u001b[0m\n\u001b[1;32m   2182\u001b[0m         \u001b[0;32mif\u001b[0m \u001b[0mframeon\u001b[0m\u001b[0;34m:\u001b[0m\u001b[0;34m\u001b[0m\u001b[0;34m\u001b[0m\u001b[0m\n",
      "\u001b[0;32m~/anaconda3/lib/python3.7/site-packages/matplotlib/backend_bases.py\u001b[0m in \u001b[0;36mprint_figure\u001b[0;34m(self, filename, dpi, facecolor, edgecolor, orientation, format, bbox_inches, **kwargs)\u001b[0m\n\u001b[1;32m   2089\u001b[0m                     \u001b[0morientation\u001b[0m\u001b[0;34m=\u001b[0m\u001b[0morientation\u001b[0m\u001b[0;34m,\u001b[0m\u001b[0;34m\u001b[0m\u001b[0;34m\u001b[0m\u001b[0m\n\u001b[1;32m   2090\u001b[0m                     \u001b[0mbbox_inches_restore\u001b[0m\u001b[0;34m=\u001b[0m\u001b[0m_bbox_inches_restore\u001b[0m\u001b[0;34m,\u001b[0m\u001b[0;34m\u001b[0m\u001b[0;34m\u001b[0m\u001b[0m\n\u001b[0;32m-> 2091\u001b[0;31m                     **kwargs)\n\u001b[0m\u001b[1;32m   2092\u001b[0m             \u001b[0;32mfinally\u001b[0m\u001b[0;34m:\u001b[0m\u001b[0;34m\u001b[0m\u001b[0;34m\u001b[0m\u001b[0m\n\u001b[1;32m   2093\u001b[0m                 \u001b[0;32mif\u001b[0m \u001b[0mbbox_inches\u001b[0m \u001b[0;32mand\u001b[0m \u001b[0mrestore_bbox\u001b[0m\u001b[0;34m:\u001b[0m\u001b[0;34m\u001b[0m\u001b[0;34m\u001b[0m\u001b[0m\n",
      "\u001b[0;32m~/anaconda3/lib/python3.7/site-packages/matplotlib/backends/backend_agg.py\u001b[0m in \u001b[0;36mprint_png\u001b[0;34m(self, filename_or_obj, metadata, pil_kwargs, *args, **kwargs)\u001b[0m\n\u001b[1;32m    528\u001b[0m             \u001b[0mrenderer\u001b[0m \u001b[0;34m=\u001b[0m \u001b[0mself\u001b[0m\u001b[0;34m.\u001b[0m\u001b[0mget_renderer\u001b[0m\u001b[0;34m(\u001b[0m\u001b[0;34m)\u001b[0m\u001b[0;34m\u001b[0m\u001b[0;34m\u001b[0m\u001b[0m\n\u001b[1;32m    529\u001b[0m             \u001b[0;32mwith\u001b[0m \u001b[0mcbook\u001b[0m\u001b[0;34m.\u001b[0m\u001b[0m_setattr_cm\u001b[0m\u001b[0;34m(\u001b[0m\u001b[0mrenderer\u001b[0m\u001b[0;34m,\u001b[0m \u001b[0mdpi\u001b[0m\u001b[0;34m=\u001b[0m\u001b[0mself\u001b[0m\u001b[0;34m.\u001b[0m\u001b[0mfigure\u001b[0m\u001b[0;34m.\u001b[0m\u001b[0mdpi\u001b[0m\u001b[0;34m)\u001b[0m\u001b[0;34m,\u001b[0m\u001b[0;31m \u001b[0m\u001b[0;31m\\\u001b[0m\u001b[0;34m\u001b[0m\u001b[0;34m\u001b[0m\u001b[0m\n\u001b[0;32m--> 530\u001b[0;31m                     \u001b[0mcbook\u001b[0m\u001b[0;34m.\u001b[0m\u001b[0mopen_file_cm\u001b[0m\u001b[0;34m(\u001b[0m\u001b[0mfilename_or_obj\u001b[0m\u001b[0;34m,\u001b[0m \u001b[0;34m\"wb\"\u001b[0m\u001b[0;34m)\u001b[0m \u001b[0;32mas\u001b[0m \u001b[0mfh\u001b[0m\u001b[0;34m:\u001b[0m\u001b[0;34m\u001b[0m\u001b[0;34m\u001b[0m\u001b[0m\n\u001b[0m\u001b[1;32m    531\u001b[0m                 _png.write_png(renderer._renderer, fh,\n\u001b[1;32m    532\u001b[0m                                self.figure.dpi, metadata=metadata)\n",
      "\u001b[0;32m~/anaconda3/lib/python3.7/contextlib.py\u001b[0m in \u001b[0;36m__enter__\u001b[0;34m(self)\u001b[0m\n\u001b[1;32m    110\u001b[0m         \u001b[0;32mdel\u001b[0m \u001b[0mself\u001b[0m\u001b[0;34m.\u001b[0m\u001b[0margs\u001b[0m\u001b[0;34m,\u001b[0m \u001b[0mself\u001b[0m\u001b[0;34m.\u001b[0m\u001b[0mkwds\u001b[0m\u001b[0;34m,\u001b[0m \u001b[0mself\u001b[0m\u001b[0;34m.\u001b[0m\u001b[0mfunc\u001b[0m\u001b[0;34m\u001b[0m\u001b[0;34m\u001b[0m\u001b[0m\n\u001b[1;32m    111\u001b[0m         \u001b[0;32mtry\u001b[0m\u001b[0;34m:\u001b[0m\u001b[0;34m\u001b[0m\u001b[0;34m\u001b[0m\u001b[0m\n\u001b[0;32m--> 112\u001b[0;31m             \u001b[0;32mreturn\u001b[0m \u001b[0mnext\u001b[0m\u001b[0;34m(\u001b[0m\u001b[0mself\u001b[0m\u001b[0;34m.\u001b[0m\u001b[0mgen\u001b[0m\u001b[0;34m)\u001b[0m\u001b[0;34m\u001b[0m\u001b[0;34m\u001b[0m\u001b[0m\n\u001b[0m\u001b[1;32m    113\u001b[0m         \u001b[0;32mexcept\u001b[0m \u001b[0mStopIteration\u001b[0m\u001b[0;34m:\u001b[0m\u001b[0;34m\u001b[0m\u001b[0;34m\u001b[0m\u001b[0m\n\u001b[1;32m    114\u001b[0m             \u001b[0;32mraise\u001b[0m \u001b[0mRuntimeError\u001b[0m\u001b[0;34m(\u001b[0m\u001b[0;34m\"generator didn't yield\"\u001b[0m\u001b[0;34m)\u001b[0m \u001b[0;32mfrom\u001b[0m \u001b[0;32mNone\u001b[0m\u001b[0;34m\u001b[0m\u001b[0;34m\u001b[0m\u001b[0m\n",
      "\u001b[0;32m~/anaconda3/lib/python3.7/site-packages/matplotlib/cbook/__init__.py\u001b[0m in \u001b[0;36mopen_file_cm\u001b[0;34m(path_or_file, mode, encoding)\u001b[0m\n\u001b[1;32m    445\u001b[0m \u001b[0;32mdef\u001b[0m \u001b[0mopen_file_cm\u001b[0m\u001b[0;34m(\u001b[0m\u001b[0mpath_or_file\u001b[0m\u001b[0;34m,\u001b[0m \u001b[0mmode\u001b[0m\u001b[0;34m=\u001b[0m\u001b[0;34m\"r\"\u001b[0m\u001b[0;34m,\u001b[0m \u001b[0mencoding\u001b[0m\u001b[0;34m=\u001b[0m\u001b[0;32mNone\u001b[0m\u001b[0;34m)\u001b[0m\u001b[0;34m:\u001b[0m\u001b[0;34m\u001b[0m\u001b[0;34m\u001b[0m\u001b[0m\n\u001b[1;32m    446\u001b[0m     \u001b[0;34mr\"\"\"Pass through file objects and context-manage `.PathLike`\\s.\"\"\"\u001b[0m\u001b[0;34m\u001b[0m\u001b[0;34m\u001b[0m\u001b[0m\n\u001b[0;32m--> 447\u001b[0;31m     \u001b[0mfh\u001b[0m\u001b[0;34m,\u001b[0m \u001b[0mopened\u001b[0m \u001b[0;34m=\u001b[0m \u001b[0mto_filehandle\u001b[0m\u001b[0;34m(\u001b[0m\u001b[0mpath_or_file\u001b[0m\u001b[0;34m,\u001b[0m \u001b[0mmode\u001b[0m\u001b[0;34m,\u001b[0m \u001b[0;32mTrue\u001b[0m\u001b[0;34m,\u001b[0m \u001b[0mencoding\u001b[0m\u001b[0;34m)\u001b[0m\u001b[0;34m\u001b[0m\u001b[0;34m\u001b[0m\u001b[0m\n\u001b[0m\u001b[1;32m    448\u001b[0m     \u001b[0;32mif\u001b[0m \u001b[0mopened\u001b[0m\u001b[0;34m:\u001b[0m\u001b[0;34m\u001b[0m\u001b[0;34m\u001b[0m\u001b[0m\n\u001b[1;32m    449\u001b[0m         \u001b[0;32mwith\u001b[0m \u001b[0mfh\u001b[0m\u001b[0;34m:\u001b[0m\u001b[0;34m\u001b[0m\u001b[0;34m\u001b[0m\u001b[0m\n",
      "\u001b[0;32m~/anaconda3/lib/python3.7/site-packages/matplotlib/cbook/__init__.py\u001b[0m in \u001b[0;36mto_filehandle\u001b[0;34m(fname, flag, return_opened, encoding)\u001b[0m\n\u001b[1;32m    430\u001b[0m             \u001b[0mfh\u001b[0m \u001b[0;34m=\u001b[0m \u001b[0mbz2\u001b[0m\u001b[0;34m.\u001b[0m\u001b[0mBZ2File\u001b[0m\u001b[0;34m(\u001b[0m\u001b[0mfname\u001b[0m\u001b[0;34m,\u001b[0m \u001b[0mflag\u001b[0m\u001b[0;34m)\u001b[0m\u001b[0;34m\u001b[0m\u001b[0;34m\u001b[0m\u001b[0m\n\u001b[1;32m    431\u001b[0m         \u001b[0;32melse\u001b[0m\u001b[0;34m:\u001b[0m\u001b[0;34m\u001b[0m\u001b[0;34m\u001b[0m\u001b[0m\n\u001b[0;32m--> 432\u001b[0;31m             \u001b[0mfh\u001b[0m \u001b[0;34m=\u001b[0m \u001b[0mopen\u001b[0m\u001b[0;34m(\u001b[0m\u001b[0mfname\u001b[0m\u001b[0;34m,\u001b[0m \u001b[0mflag\u001b[0m\u001b[0;34m,\u001b[0m \u001b[0mencoding\u001b[0m\u001b[0;34m=\u001b[0m\u001b[0mencoding\u001b[0m\u001b[0;34m)\u001b[0m\u001b[0;34m\u001b[0m\u001b[0;34m\u001b[0m\u001b[0m\n\u001b[0m\u001b[1;32m    433\u001b[0m         \u001b[0mopened\u001b[0m \u001b[0;34m=\u001b[0m \u001b[0;32mTrue\u001b[0m\u001b[0;34m\u001b[0m\u001b[0;34m\u001b[0m\u001b[0m\n\u001b[1;32m    434\u001b[0m     \u001b[0;32melif\u001b[0m \u001b[0mhasattr\u001b[0m\u001b[0;34m(\u001b[0m\u001b[0mfname\u001b[0m\u001b[0;34m,\u001b[0m \u001b[0;34m'seek'\u001b[0m\u001b[0;34m)\u001b[0m\u001b[0;34m:\u001b[0m\u001b[0;34m\u001b[0m\u001b[0;34m\u001b[0m\u001b[0m\n",
      "\u001b[0;31mFileNotFoundError\u001b[0m: [Errno 2] No such file or directory: './predict/img/CNN_learning_rate_acc_01.png'"
     ]
    },
    {
     "data": {
      "image/png": "[encoded data removed]",
      "text/plain": [
       "<Figure size 432x288 with 1 Axes>"
      ]
     },
     "metadata": {
      "needs_background": "light"
     },
     "output_type": "display_data"
    }
   ],
   "source": [
    "plt.figure()\n",
    "plt.plot()\n",
    "plt.savefig('./predict/img/CNN_learning_rate_acc_01.png')\n",
    "plt.close('all')"
   ]
  },
  {
   "cell_type": "code",
   "execution_count": 31,
   "metadata": {},
   "outputs": [
    {
     "data": {
      "image/png": "[encoded data removed]",
      "text/plain": [
       "<Figure size 432x288 with 1 Axes>"
      ]
     },
     "metadata": {
      "needs_background": "light"
     },
     "output_type": "display_data"
    }
   ],
   "source": [
    "plt.plot(range(1, NUM_EPOCHS+1), df3['loss'], \"-o\")\n",
    "plt.plot(range(1, NUM_EPOCHS+1), df3['val_loss'], \"-o\")\n",
    "plt.title('model loss')\n",
    "plt.ylabel('loss')  # Y軸ラベル\n",
    "plt.xlabel('epoch')  # X軸ラベル\n",
    "plt.grid()\n",
    "plt.legend(['loss', 'val_loss'], loc='best')\n",
    "#plt.xlim(0,NUM_EPOCHS)\n",
    "plt.ylim(0.0,1.0)\n",
    "plt.show()"
   ]
  },
  {
   "cell_type": "code",
   "execution_count": null,
   "metadata": {},
   "outputs": [],
   "source": [
    "plt.figure()\n",
    "plt.plot()\n",
    "plt.savefig('./predict/img/CNN_learning_rate_loss_01.png')\n",
    "plt.close('all')"
   ]
  },
  {
   "cell_type": "code",
   "execution_count": 32,
   "metadata": {},
   "outputs": [
    {
     "name": "stdout",
     "output_type": "stream",
     "text": [
      "78/78 [==============================] - 0s 24us/sample - loss: 0.6919 - acc: 0.5256\n",
      "Test Loss: 69.1881957726601%\n",
      "Test Acc: 52.56410241127014%\n"
     ]
    }
   ],
   "source": [
    "#old_session = KTF.get_session()\n",
    "\n",
    "#session = tf.Session('')\n",
    "#KTF.set_session(session)\n",
    "#KTF.set_learning_phase(1)\n",
    "\n",
    "\n",
    "loss, acc = model.evaluate(x_val, y_val)\n",
    "print(f\"Test Loss: {loss*100}%\")\n",
    "print(f\"Test Acc: {acc*100}%\")\n",
    "\n",
    "### add for TensorBoard\n",
    "#KTF.set_session(old_session)"
   ]
  },
  {
   "cell_type": "code",
   "execution_count": 33,
   "metadata": {},
   "outputs": [],
   "source": [
    "#predict_list = model.predict(x_train_positive_all_5crossval)"
   ]
  },
  {
   "cell_type": "code",
   "execution_count": 75,
   "metadata": {},
   "outputs": [],
   "source": [
    "#print(predict_list)"
   ]
  },
  {
   "cell_type": "code",
   "execution_count": 24,
   "metadata": {},
   "outputs": [],
   "source": [
    "x_train_positive_all_5crossval = np.load('./saving_ndarray/x_train/x_train_positive_all_ 5crossval.npy')"
   ]
  },
  {
   "cell_type": "code",
   "execution_count": 27,
   "metadata": {},
   "outputs": [],
   "source": [
    "x_train_negative_all_5crossval = np.load('./saving_ndarray/x_train/x_train_negative_all_5crossval.npy')"
   ]
  },
  {
   "cell_type": "code",
   "execution_count": 10,
   "metadata": {},
   "outputs": [],
   "source": [
    "predict_positive_list = model.predict(x_train_positive_all_5crossval)"
   ]
  },
  {
   "cell_type": "code",
   "execution_count": 11,
   "metadata": {},
   "outputs": [
    {
     "data": {
      "text/plain": [
       "41"
      ]
     },
     "execution_count": 11,
     "metadata": {},
     "output_type": "execute_result"
    }
   ],
   "source": [
    "len(predict_positive_list)"
   ]
  },
  {
   "cell_type": "code",
   "execution_count": 12,
   "metadata": {},
   "outputs": [],
   "source": [
    "predict_negative_list = model.predict(x_train_negative_all_5crossval)"
   ]
  },
  {
   "cell_type": "code",
   "execution_count": 13,
   "metadata": {},
   "outputs": [
    {
     "data": {
      "text/plain": [
       "38"
      ]
     },
     "execution_count": 13,
     "metadata": {},
     "output_type": "execute_result"
    }
   ],
   "source": [
    "len(predict_negative_list)"
   ]
  },
  {
   "cell_type": "code",
   "execution_count": 14,
   "metadata": {},
   "outputs": [
    {
     "data": {
      "text/plain": [
       "array([[0.5206323, 0.4793677],\n",
       "       [0.5206323, 0.4793677],\n",
       "       [0.5206323, 0.4793677],\n",
       "       [0.5206323, 0.4793677],\n",
       "       [0.5206323, 0.4793677],\n",
       "       [0.5206323, 0.4793677],\n",
       "       [0.5206323, 0.4793677],\n",
       "       [0.5206323, 0.4793677],\n",
       "       [0.5206323, 0.4793677],\n",
       "       [0.5206323, 0.4793677],\n",
       "       [0.5206323, 0.4793677],\n",
       "       [0.5206323, 0.4793677],\n",
       "       [0.5206323, 0.4793677],\n",
       "       [0.5206323, 0.4793677],\n",
       "       [0.5206323, 0.4793677],\n",
       "       [0.5206323, 0.4793677],\n",
       "       [0.5206323, 0.4793677],\n",
       "       [0.5206323, 0.4793677],\n",
       "       [0.5206323, 0.4793677],\n",
       "       [0.5206323, 0.4793677],\n",
       "       [0.5206323, 0.4793677],\n",
       "       [0.5206323, 0.4793677],\n",
       "       [0.5206323, 0.4793677],\n",
       "       [0.5206323, 0.4793677],\n",
       "       [0.5206323, 0.4793677],\n",
       "       [0.5206323, 0.4793677],\n",
       "       [0.5206323, 0.4793677],\n",
       "       [0.5206323, 0.4793677],\n",
       "       [0.5206323, 0.4793677],\n",
       "       [0.5206323, 0.4793677],\n",
       "       [0.5206323, 0.4793677],\n",
       "       [0.5206323, 0.4793677],\n",
       "       [0.5206323, 0.4793677],\n",
       "       [0.5206323, 0.4793677],\n",
       "       [0.5206323, 0.4793677],\n",
       "       [0.5206323, 0.4793677],\n",
       "       [0.5206323, 0.4793677],\n",
       "       [0.5206323, 0.4793677],\n",
       "       [0.5206323, 0.4793677],\n",
       "       [0.5206323, 0.4793677],\n",
       "       [0.5206323, 0.4793677]], dtype=float32)"
      ]
     },
     "execution_count": 14,
     "metadata": {},
     "output_type": "execute_result"
    }
   ],
   "source": [
    "predict_positive_list"
   ]
  },
  {
   "cell_type": "code",
   "execution_count": 15,
   "metadata": {},
   "outputs": [
    {
     "data": {
      "text/plain": [
       "array([[0.5206323, 0.4793677],\n",
       "       [0.5206323, 0.4793677],\n",
       "       [0.5206323, 0.4793677],\n",
       "       [0.5206323, 0.4793677],\n",
       "       [0.5206323, 0.4793677],\n",
       "       [0.5206323, 0.4793677],\n",
       "       [0.5206323, 0.4793677],\n",
       "       [0.5206323, 0.4793677],\n",
       "       [0.5206323, 0.4793677],\n",
       "       [0.5206323, 0.4793677],\n",
       "       [0.5206323, 0.4793677],\n",
       "       [0.5206323, 0.4793677],\n",
       "       [0.5206323, 0.4793677],\n",
       "       [0.5206323, 0.4793677],\n",
       "       [0.5206323, 0.4793677],\n",
       "       [0.5206323, 0.4793677],\n",
       "       [0.5206323, 0.4793677],\n",
       "       [0.5206323, 0.4793677],\n",
       "       [0.5206323, 0.4793677],\n",
       "       [0.5206323, 0.4793677],\n",
       "       [0.5206323, 0.4793677],\n",
       "       [0.5206323, 0.4793677],\n",
       "       [0.5206323, 0.4793677],\n",
       "       [0.5206323, 0.4793677],\n",
       "       [0.5206323, 0.4793677],\n",
       "       [0.5206323, 0.4793677],\n",
       "       [0.5206323, 0.4793677],\n",
       "       [0.5206323, 0.4793677],\n",
       "       [0.5206323, 0.4793677],\n",
       "       [0.5206323, 0.4793677],\n",
       "       [0.5206323, 0.4793677],\n",
       "       [0.5206323, 0.4793677],\n",
       "       [0.5206323, 0.4793677],\n",
       "       [0.5206323, 0.4793677],\n",
       "       [0.5206323, 0.4793677],\n",
       "       [0.5206323, 0.4793677],\n",
       "       [0.5206323, 0.4793677],\n",
       "       [0.5206323, 0.4793677]], dtype=float32)"
      ]
     },
     "execution_count": 15,
     "metadata": {},
     "output_type": "execute_result"
    }
   ],
   "source": [
    "predict_negative_list"
   ]
  },
  {
   "cell_type": "code",
   "execution_count": null,
   "metadata": {},
   "outputs": [],
   "source": [
    "from sklearn.metrics import roc_curve\n",
    "import matplotlib.pyplot as plt\n",
    "\n",
    "y_true = [0, 0, 0, 0, 1, 1, 1, 1]\n",
    "y_score = [0.2, 0.3, 0.6, 0.8, 0.4, 0.5, 0.7, 0.9]\n",
    "\n",
    "y_true01 = []\n",
    "y_score01 = []\n",
    "for i in range(len(predict_positive_list)):\n",
    "    y_true01.append(predict_positive_list[i][0])\n",
    "    y_score01.append(1)\n",
    "for i  in range(len(predict_negative_list)):\n",
    "    y_true01.append(predict_negative_list[i][0])\n",
    "    y_score01.append(0)\n",
    "        \n",
    "y_true01 = list(y_true01)\n",
    "y_score01 = list(y_score01)\n",
    "\n",
    "#roc = roc_curve(y_true01, y_score01)\n",
    "\n",
    "#print(type(roc))\n",
    "# <class 'tuple'>\n",
    "\n",
    "#print(len(roc))\n",
    "# 3"
   ]
  },
  {
   "cell_type": "code",
   "execution_count": 134,
   "metadata": {},
   "outputs": [
    {
     "ename": "ValueError",
     "evalue": "continuous format is not supported",
     "output_type": "error",
     "traceback": [
      "\u001b[0;31m---------------------------------------------------------------------------\u001b[0m",
      "\u001b[0;31mValueError\u001b[0m                                Traceback (most recent call last)",
      "\u001b[0;32m<ipython-input-134-ea0a876a96ac>\u001b[0m in \u001b[0;36m<module>\u001b[0;34m\u001b[0m\n\u001b[0;32m----> 1\u001b[0;31m \u001b[0mfpr\u001b[0m\u001b[0;34m,\u001b[0m \u001b[0mtpr\u001b[0m\u001b[0;34m,\u001b[0m \u001b[0mthresholds\u001b[0m \u001b[0;34m=\u001b[0m \u001b[0mroc_curve\u001b[0m\u001b[0;34m(\u001b[0m\u001b[0my_score01\u001b[0m\u001b[0;34m,\u001b[0m \u001b[0my_true01\u001b[0m\u001b[0;34m)\u001b[0m\u001b[0;34m\u001b[0m\u001b[0;34m\u001b[0m\u001b[0m\n\u001b[0m\u001b[1;32m      2\u001b[0m \u001b[0;34m\u001b[0m\u001b[0m\n\u001b[1;32m      3\u001b[0m \u001b[0mprint\u001b[0m\u001b[0;34m(\u001b[0m\u001b[0mfpr\u001b[0m\u001b[0;34m)\u001b[0m\u001b[0;34m\u001b[0m\u001b[0;34m\u001b[0m\u001b[0m\n\u001b[1;32m      4\u001b[0m \u001b[0;31m# [0.   0.   0.25 0.25 0.5  0.5  1.  ]\u001b[0m\u001b[0;34m\u001b[0m\u001b[0;34m\u001b[0m\u001b[0;34m\u001b[0m\u001b[0m\n\u001b[1;32m      5\u001b[0m \u001b[0;34m\u001b[0m\u001b[0m\n",
      "\u001b[0;32m~/anaconda3/lib/python3.7/site-packages/sklearn/metrics/_ranking.py\u001b[0m in \u001b[0;36mroc_curve\u001b[0;34m(y_true, y_score, pos_label, sample_weight, drop_intermediate)\u001b[0m\n\u001b[1;32m    769\u001b[0m     \"\"\"\n\u001b[1;32m    770\u001b[0m     fps, tps, thresholds = _binary_clf_curve(\n\u001b[0;32m--> 771\u001b[0;31m         y_true, y_score, pos_label=pos_label, sample_weight=sample_weight)\n\u001b[0m\u001b[1;32m    772\u001b[0m \u001b[0;34m\u001b[0m\u001b[0m\n\u001b[1;32m    773\u001b[0m     \u001b[0;31m# Attempt to drop thresholds corresponding to points in between and\u001b[0m\u001b[0;34m\u001b[0m\u001b[0;34m\u001b[0m\u001b[0;34m\u001b[0m\u001b[0m\n",
      "\u001b[0;32m~/anaconda3/lib/python3.7/site-packages/sklearn/metrics/_ranking.py\u001b[0m in \u001b[0;36m_binary_clf_curve\u001b[0;34m(y_true, y_score, pos_label, sample_weight)\u001b[0m\n\u001b[1;32m    534\u001b[0m     if not (y_type == \"binary\" or\n\u001b[1;32m    535\u001b[0m             (y_type == \"multiclass\" and pos_label is not None)):\n\u001b[0;32m--> 536\u001b[0;31m         \u001b[0;32mraise\u001b[0m \u001b[0mValueError\u001b[0m\u001b[0;34m(\u001b[0m\u001b[0;34m\"{0} format is not supported\"\u001b[0m\u001b[0;34m.\u001b[0m\u001b[0mformat\u001b[0m\u001b[0;34m(\u001b[0m\u001b[0my_type\u001b[0m\u001b[0;34m)\u001b[0m\u001b[0;34m)\u001b[0m\u001b[0;34m\u001b[0m\u001b[0;34m\u001b[0m\u001b[0m\n\u001b[0m\u001b[1;32m    537\u001b[0m \u001b[0;34m\u001b[0m\u001b[0m\n\u001b[1;32m    538\u001b[0m     \u001b[0mcheck_consistent_length\u001b[0m\u001b[0;34m(\u001b[0m\u001b[0my_true\u001b[0m\u001b[0;34m,\u001b[0m \u001b[0my_score\u001b[0m\u001b[0;34m,\u001b[0m \u001b[0msample_weight\u001b[0m\u001b[0;34m)\u001b[0m\u001b[0;34m\u001b[0m\u001b[0;34m\u001b[0m\u001b[0m\n",
      "\u001b[0;31mValueError\u001b[0m: continuous format is not supported"
     ]
    }
   ],
   "source": [
    "fpr, tpr, thresholds = roc_curve(y_score01, y_true01)\n",
    "\n",
    "print(fpr)\n",
    "# [0.   0.   0.25 0.25 0.5  0.5  1.  ]\n",
    "\n",
    "print(tpr)\n",
    "# [0.   0.25 0.25 0.5  0.5  1.   1.  ]\n",
    "\n",
    "print(thresholds)\n",
    "# [1.9 0.9 0.8 0.7 0.6 0.4 0.2]"
   ]
  },
  {
   "cell_type": "code",
   "execution_count": 44,
   "metadata": {},
   "outputs": [],
   "source": [
    "#fpr = [0, 1]\n",
    "#tpr = [0, 1]"
   ]
  },
  {
   "cell_type": "code",
   "execution_count": 45,
   "metadata": {},
   "outputs": [
    {
     "data": {
      "image/png": "[encoded data removed]",
      "text/plain": [
       "<Figure size 432x288 with 1 Axes>"
      ]
     },
     "metadata": {
      "needs_background": "light"
     },
     "output_type": "display_data"
    }
   ],
   "source": [
    "plt.plot(fpr, tpr, marker='o')\n",
    "plt.xlabel('FPR: False positive rate')\n",
    "plt.ylabel('TPR: True positive rate')\n",
    "plt.grid()"
   ]
  },
  {
   "cell_type": "markdown",
   "metadata": {},
   "source": [
    "# 感度（再現率），特異度，精度（適合度），正確度を計算する．"
   ]
  },
  {
   "cell_type": "code",
   "execution_count": 16,
   "metadata": {},
   "outputs": [],
   "source": [
    "true_p = 0\n",
    "false_n = 0\n",
    "total_posi_data = len(predict_positive_list)\n",
    "\n",
    "false_p = 0\n",
    "true_n = 0\n",
    "total_nega_data = len(predict_negative_list)\n",
    "\n",
    "for i in range(total_posi_data):\n",
    "    if predict_positive_list[i][0] > predict_positive_list[i][1]:\n",
    "        true_p = true_p + 1\n",
    "    else:\n",
    "        false_n = false_n + 1\n",
    "for i in range(total_nega_data):\n",
    "    if predict_negative_list[i][0] < predict_negative_list[i][1]:\n",
    "        turue_n = false_n + 1\n",
    "    else:\n",
    "        false_p = false_p + 1\n",
    "    \n",
    "sensitivity = true_p/total_posi_data\n",
    "specificity = true_n/total_nega_data\n",
    "\n",
    "precision = true_p/(true_p+false_p)\n",
    "accuracy = (true_p+true_n)/(total_posi_data+total_nega_data)"
   ]
  },
  {
   "cell_type": "code",
   "execution_count": 17,
   "metadata": {},
   "outputs": [
    {
     "name": "stdout",
     "output_type": "stream",
     "text": [
      "41\n",
      "0\n",
      "38\n",
      "0\n"
     ]
    }
   ],
   "source": [
    "print(true_p)\n",
    "print(false_n)\n",
    "print(false_p)\n",
    "print(true_n)\n"
   ]
  },
  {
   "cell_type": "code",
   "execution_count": 48,
   "metadata": {},
   "outputs": [
    {
     "name": "stdout",
     "output_type": "stream",
     "text": [
      "1.0\n"
     ]
    }
   ],
   "source": [
    "print(sensitivity)"
   ]
  },
  {
   "cell_type": "code",
   "execution_count": 49,
   "metadata": {},
   "outputs": [
    {
     "name": "stdout",
     "output_type": "stream",
     "text": [
      "0.0\n"
     ]
    }
   ],
   "source": [
    "print(specificity)"
   ]
  },
  {
   "cell_type": "code",
   "execution_count": 50,
   "metadata": {},
   "outputs": [
    {
     "name": "stdout",
     "output_type": "stream",
     "text": [
      "0.5189873417721519\n"
     ]
    }
   ],
   "source": [
    "print(precision)"
   ]
  },
  {
   "cell_type": "code",
   "execution_count": 51,
   "metadata": {},
   "outputs": [
    {
     "name": "stdout",
     "output_type": "stream",
     "text": [
      "0.5189873417721519\n"
     ]
    }
   ],
   "source": [
    "print(accuracy)"
   ]
  },
  {
   "cell_type": "code",
   "execution_count": null,
   "metadata": {},
   "outputs": [],
   "source": [
    "print(sensitivity)\n",
    "print(specificity)\n",
    "print(precision)\n",
    "print(accuracy)"
   ]
  },
  {
   "cell_type": "code",
   "execution_count": 20,
   "metadata": {},
   "outputs": [
    {
     "data": {
      "text/html": [
       "<div>\n",
       "<style scoped>\n",
       "    .dataframe tbody tr th:only-of-type {\n",
       "        vertical-align: middle;\n",
       "    }\n",
       "\n",
       "    .dataframe tbody tr th {\n",
       "        vertical-align: top;\n",
       "    }\n",
       "\n",
       "    .dataframe thead th {\n",
       "        text-align: right;\n",
       "    }\n",
       "</style>\n",
       "<table border=\"1\" class=\"dataframe\">\n",
       "  <thead>\n",
       "    <tr style=\"text-align: right;\">\n",
       "      <th></th>\n",
       "      <th>予測（開裂）</th>\n",
       "      <th>予測（非開裂）</th>\n",
       "    </tr>\n",
       "  </thead>\n",
       "  <tbody>\n",
       "    <tr>\n",
       "      <th>実際（開裂）</th>\n",
       "      <td>41</td>\n",
       "      <td>0</td>\n",
       "    </tr>\n",
       "    <tr>\n",
       "      <th>実際（非開裂）</th>\n",
       "      <td>38</td>\n",
       "      <td>0</td>\n",
       "    </tr>\n",
       "  </tbody>\n",
       "</table>\n",
       "</div>"
      ],
      "text/plain": [
       "         予測（開裂）  予測（非開裂）\n",
       "実際（開裂）       41        0\n",
       "実際（非開裂）      38        0"
      ]
     },
     "execution_count": 20,
     "metadata": {},
     "output_type": "execute_result"
    }
   ],
   "source": [
    "df_table01 = pd.DataFrame(\n",
    "    data={'予測（開裂）': [41, 38], \n",
    "          '予測（非開裂）': [0, 0]},\n",
    "    index=['実際（開裂）', '実際（非開裂）']\n",
    ")\n",
    " \n",
    "df_table01"
   ]
  },
  {
   "cell_type": "code",
   "execution_count": null,
   "metadata": {},
   "outputs": [],
   "source": [
    "df3 = pd.DataFrame(\n",
    "    data=np.array([[10, 20, 30, 40],\n",
    "                   [11, 21, 31, 41],\n",
    "                   [12, 22, 32, 42]]),\n",
    "    index=['行1', '行2', '行3'],\n",
    "    columns=['列1', '列2', '列3', '列4']\n",
    "             )\n",
    "df3"
   ]
  },
  {
   "cell_type": "code",
   "execution_count": null,
   "metadata": {},
   "outputs": [],
   "source": []
  },
  {
   "cell_type": "code",
   "execution_count": 28,
   "metadata": {},
   "outputs": [],
   "source": [
    "#predict_negative_list = model.predict(x_train_5crossval_negative)"
   ]
  },
  {
   "cell_type": "code",
   "execution_count": 43,
   "metadata": {},
   "outputs": [],
   "source": [
    "#print(predict_negative_list)"
   ]
  },
  {
   "cell_type": "code",
   "execution_count": 44,
   "metadata": {},
   "outputs": [
    {
     "name": "stdout",
     "output_type": "stream",
     "text": [
      "38\n"
     ]
    }
   ],
   "source": [
    "print(len(predict_negative_list))"
   ]
  },
  {
   "cell_type": "markdown",
   "metadata": {},
   "source": [
    "## saving the model."
   ]
  },
  {
   "cell_type": "code",
   "execution_count": 52,
   "metadata": {},
   "outputs": [
    {
     "name": "stdout",
     "output_type": "stream",
     "text": [
      "Saved trained model at ./model_saving/20220731-232214 \n"
     ]
    }
   ],
   "source": [
    "#saving the model.\n",
    "save_dir = \"./saving_model/\"\n",
    "model_name = datetime.datetime.now().strftime(\"%Y%m%d-%H%M%S\")\n",
    "if not os.path.isdir(save_dir):\n",
    "    os.makedirs(save_dir)\n",
    "model_path = os.path.join(save_dir, model_name)\n",
    "model.save(model_path)\n",
    "print('Saved trained model at %s ' % model_path)"
   ]
  },
  {
   "cell_type": "markdown",
   "metadata": {},
   "source": [
    "## load model してみる．"
   ]
  },
  {
   "cell_type": "markdown",
   "metadata": {},
   "source": [
    "https://www.tensorflow.org/guide/keras/save_and_serialize<br>\n",
    "from tensorflow import keras model = keras.models.load_model('path/to/location')"
   ]
  },
  {
   "cell_type": "code",
   "execution_count": 9,
   "metadata": {},
   "outputs": [
    {
     "name": "stdout",
     "output_type": "stream",
     "text": [
      "WARNING:tensorflow:From /home/3a16057/anaconda3/lib/python3.7/site-packages/tensorflow_core/python/ops/init_ops.py:97: calling GlorotUniform.__init__ (from tensorflow.python.ops.init_ops) with dtype is deprecated and will be removed in a future version.\n",
      "Instructions for updating:\n",
      "Call initializer instance with the dtype argument instead of passing it to the constructor\n",
      "WARNING:tensorflow:From /home/3a16057/anaconda3/lib/python3.7/site-packages/tensorflow_core/python/ops/init_ops.py:97: calling Zeros.__init__ (from tensorflow.python.ops.init_ops) with dtype is deprecated and will be removed in a future version.\n",
      "Instructions for updating:\n",
      "Call initializer instance with the dtype argument instead of passing it to the constructor\n",
      "WARNING:tensorflow:From /home/3a16057/anaconda3/lib/python3.7/site-packages/tensorflow_core/python/ops/resource_variable_ops.py:1630: calling BaseResourceVariable.__init__ (from tensorflow.python.ops.resource_variable_ops) with constraint is deprecated and will be removed in a future version.\n",
      "Instructions for updating:\n",
      "If using Keras pass *_constraint arguments to layers.\n",
      "Model: \"sequential_1\"\n",
      "_________________________________________________________________\n",
      "Layer (type)                 Output Shape              Param #   \n",
      "=================================================================\n",
      "Conv2D_01 (Conv2D)           (None, 1, 5, 3)           171       \n",
      "_________________________________________________________________\n",
      "Flatten_01 (Flatten)         (None, 15)                0         \n",
      "_________________________________________________________________\n",
      "Dense_out (Dense)            (None, 2)                 32        \n",
      "_________________________________________________________________\n",
      "activation_1 (Activation)    (None, 2)                 0         \n",
      "=================================================================\n",
      "Total params: 203\n",
      "Trainable params: 203\n",
      "Non-trainable params: 0\n",
      "_________________________________________________________________\n"
     ]
    }
   ],
   "source": [
    "#model = load_model(\"./model_saving/20220724-203049\")\n",
    "#from tensorflow import keras \n",
    "from tensorflow.keras.models import load_model\n",
    "#model = load_model(\"./model_saving/20220724-203049\")\n",
    "model = load_model(\"./saving_model/20220731-232214\")\n",
    "#./model_saving/20220725-045012 \n",
    "#モデルの構造を表示\n",
    "model.summary()"
   ]
  },
  {
   "cell_type": "code",
   "execution_count": null,
   "metadata": {},
   "outputs": [],
   "source": [
    "plt.plot(range(1, NUM_EPOCHS+1), history.history['acc'], \"-o\")\n",
    "plt.plot(range(1, NUM_EPOCHS+1), history.history['val_acc'], \"-o\")\n",
    "plt.title('model accuracy')\n",
    "plt.ylabel('accuracy')  # Y軸ラベル\n",
    "plt.xlabel('epoch')  # X軸ラベル\n",
    "plt.grid()\n",
    "plt.legend(['acc', 'val_acc'], loc='best')\n",
    "#plt.xlim(0,NUM_EPOCHS)\n",
    "#plt.ylim(0.95,1.0)\n",
    "plt.show()\n",
    "\n",
    "plt.plot(range(1, NUM_EPOCHS+1), history.history['loss'], \"-o\")\n",
    "plt.plot(range(1, NUM_EPOCHS+1), history.history['val_loss'], \"-o\")\n",
    "plt.title('model loss')\n",
    "plt.ylabel('loss')  # Y軸ラベル\n",
    "plt.xlabel('epoch')  # X軸ラベル\n",
    "plt.grid()\n",
    "plt.legend(['loss', 'val_loss'], loc='best')\n",
    "#plt.xlim(0,NUM_EPOCHS)\n",
    "#plt.ylim(0.95,1.0)\n",
    "plt.show()"
   ]
  },
  {
   "cell_type": "code",
   "execution_count": null,
   "metadata": {},
   "outputs": [],
   "source": [
    "%load_ext tensorboard"
   ]
  },
  {
   "cell_type": "code",
   "execution_count": null,
   "metadata": {},
   "outputs": [],
   "source": [
    "%tensorboard --logdir ./log02/"
   ]
  },
  {
   "cell_type": "markdown",
   "metadata": {},
   "source": [
    "## 学習後のモデルのパラメータを確認する．"
   ]
  },
  {
   "cell_type": "code",
   "execution_count": null,
   "metadata": {},
   "outputs": [],
   "source": [
    "\"\"\"\n",
    "# Load the TensorBoard notebook extension\n",
    "%load_ext tensorboard"
   ]
  },
  {
   "cell_type": "code",
   "execution_count": 2,
   "metadata": {},
   "outputs": [
    {
     "name": "stderr",
     "output_type": "stream",
     "text": [
      "UsageError: Line magic function `%tensorboard` not found.\n"
     ]
    }
   ],
   "source": [
    "%tensorboard --logdir=~/log/\n",
    "%tensorboard --logdir=log02/ --port 43876"
   ]
  },
  {
   "cell_type": "code",
   "execution_count": null,
   "metadata": {},
   "outputs": [],
   "source": [
    "weights = model.get_weights()\n",
    "print(weights)"
   ]
  },
  {
   "cell_type": "code",
   "execution_count": null,
   "metadata": {},
   "outputs": [],
   "source": [
    "print(weights.shape())"
   ]
  },
  {
   "cell_type": "code",
   "execution_count": null,
   "metadata": {},
   "outputs": [],
   "source": [
    "lay0 = model.layers[0] "
   ]
  },
  {
   "cell_type": "code",
   "execution_count": null,
   "metadata": {},
   "outputs": [],
   "source": [
    "print(lay0)"
   ]
  },
  {
   "cell_type": "code",
   "execution_count": null,
   "metadata": {},
   "outputs": [],
   "source": [
    "print(lay0.get_weights())"
   ]
  },
  {
   "cell_type": "code",
   "execution_count": null,
   "metadata": {},
   "outputs": [],
   "source": [
    "print(len(lay0.get_weights()))"
   ]
  },
  {
   "cell_type": "code",
   "execution_count": null,
   "metadata": {},
   "outputs": [],
   "source": [
    "print(len(lay0.get_weights()[0]))"
   ]
  },
  {
   "cell_type": "code",
   "execution_count": null,
   "metadata": {},
   "outputs": [],
   "source": [
    "print(lay0.get_weights()[0][0])"
   ]
  },
  {
   "cell_type": "code",
   "execution_count": null,
   "metadata": {},
   "outputs": [],
   "source": [
    "print(len(lay0.get_weights()[0][0]))"
   ]
  },
  {
   "cell_type": "code",
   "execution_count": null,
   "metadata": {},
   "outputs": [],
   "source": [
    "print(len(lay0.get_weights()[0][0][0]))"
   ]
  },
  {
   "cell_type": "code",
   "execution_count": null,
   "metadata": {},
   "outputs": [],
   "source": [
    "lay1 = model.layers[1]"
   ]
  },
  {
   "cell_type": "code",
   "execution_count": null,
   "metadata": {},
   "outputs": [],
   "source": [
    "print(lay1)"
   ]
  },
  {
   "cell_type": "code",
   "execution_count": null,
   "metadata": {},
   "outputs": [],
   "source": [
    "print(lay1.get_weights())"
   ]
  },
  {
   "cell_type": "code",
   "execution_count": null,
   "metadata": {},
   "outputs": [],
   "source": [
    "lay2 = model.layers[2]\n",
    "print(lay2)"
   ]
  },
  {
   "cell_type": "code",
   "execution_count": null,
   "metadata": {},
   "outputs": [],
   "source": [
    "print(lay2.get_weights())"
   ]
  },
  {
   "cell_type": "code",
   "execution_count": null,
   "metadata": {},
   "outputs": [],
   "source": [
    "lay3 = model.layers[3]\n",
    "print(lay3)"
   ]
  },
  {
   "cell_type": "code",
   "execution_count": null,
   "metadata": {},
   "outputs": [],
   "source": [
    "print(len(lay3.get_weights()[0]))"
   ]
  },
  {
   "cell_type": "code",
   "execution_count": null,
   "metadata": {},
   "outputs": [],
   "source": [
    "print(lay3.get_weights())"
   ]
  },
  {
   "cell_type": "code",
   "execution_count": null,
   "metadata": {},
   "outputs": [],
   "source": [
    "lay4 = model.layers[4]\n",
    "print(lay4)"
   ]
  },
  {
   "cell_type": "code",
   "execution_count": null,
   "metadata": {},
   "outputs": [],
   "source": [
    "print(lay4.get_weights())"
   ]
  },
  {
   "cell_type": "markdown",
   "metadata": {},
   "source": [
    "# FCで試す．"
   ]
  },
  {
   "cell_type": "code",
   "execution_count": 64,
   "metadata": {},
   "outputs": [
    {
     "name": "stdout",
     "output_type": "stream",
     "text": [
      "Model: \"sequential_3\"\n",
      "_________________________________________________________________\n",
      "Layer (type)                 Output Shape              Param #   \n",
      "=================================================================\n",
      "Dense_01 (Conv2D)            (None, 1, 1, 3)           339       \n",
      "_________________________________________________________________\n",
      "Flatten_01 (Flatten)         (None, 3)                 0         \n",
      "_________________________________________________________________\n",
      "Dense_out (Dense)            (None, 2)                 8         \n",
      "_________________________________________________________________\n",
      "activation_3 (Activation)    (None, 2)                 0         \n",
      "=================================================================\n",
      "Total params: 347\n",
      "Trainable params: 347\n",
      "Non-trainable params: 0\n",
      "_________________________________________________________________\n",
      "\n",
      "Epoch 00001: val_loss improved from inf to 0.69286, saving model to ../callbacks/99_01-0.6929.hdf5\n",
      "\n",
      "Epoch 00002: val_loss improved from 0.69286 to 0.69279, saving model to ../callbacks/99_02-0.6928.hdf5\n",
      "\n",
      "Epoch 00003: val_loss improved from 0.69279 to 0.69272, saving model to ../callbacks/99_03-0.6927.hdf5\n",
      "\n",
      "Epoch 00004: val_loss improved from 0.69272 to 0.69265, saving model to ../callbacks/99_04-0.6926.hdf5\n",
      "\n",
      "Epoch 00005: val_loss improved from 0.69265 to 0.69260, saving model to ../callbacks/99_05-0.6926.hdf5\n",
      "\n",
      "Epoch 00006: val_loss improved from 0.69260 to 0.69254, saving model to ../callbacks/99_06-0.6925.hdf5\n",
      "\n",
      "Epoch 00007: val_loss improved from 0.69254 to 0.69249, saving model to ../callbacks/99_07-0.6925.hdf5\n",
      "\n",
      "Epoch 00008: val_loss improved from 0.69249 to 0.69245, saving model to ../callbacks/99_08-0.6924.hdf5\n",
      "\n",
      "Epoch 00009: val_loss improved from 0.69245 to 0.69240, saving model to ../callbacks/99_09-0.6924.hdf5\n",
      "\n",
      "Epoch 00010: val_loss improved from 0.69240 to 0.69236, saving model to ../callbacks/99_10-0.6924.hdf5\n",
      "\n",
      "Epoch 00011: val_loss improved from 0.69236 to 0.69233, saving model to ../callbacks/99_11-0.6923.hdf5\n",
      "\n",
      "Epoch 00012: val_loss improved from 0.69233 to 0.69229, saving model to ../callbacks/99_12-0.6923.hdf5\n",
      "\n",
      "Epoch 00013: val_loss improved from 0.69229 to 0.69227, saving model to ../callbacks/99_13-0.6923.hdf5\n",
      "\n",
      "Epoch 00014: val_loss improved from 0.69227 to 0.69224, saving model to ../callbacks/99_14-0.6922.hdf5\n",
      "\n",
      "Epoch 00015: val_loss improved from 0.69224 to 0.69221, saving model to ../callbacks/99_15-0.6922.hdf5\n",
      "\n",
      "Epoch 00016: val_loss improved from 0.69221 to 0.69220, saving model to ../callbacks/99_16-0.6922.hdf5\n",
      "\n",
      "Epoch 00017: val_loss improved from 0.69220 to 0.69217, saving model to ../callbacks/99_17-0.6922.hdf5\n",
      "\n",
      "Epoch 00018: val_loss improved from 0.69217 to 0.69215, saving model to ../callbacks/99_18-0.6922.hdf5\n",
      "\n",
      "Epoch 00019: val_loss improved from 0.69215 to 0.69213, saving model to ../callbacks/99_19-0.6921.hdf5\n",
      "\n",
      "Epoch 00020: val_loss improved from 0.69213 to 0.69211, saving model to ../callbacks/99_20-0.6921.hdf5\n",
      "\n",
      "Epoch 00021: val_loss improved from 0.69211 to 0.69210, saving model to ../callbacks/99_21-0.6921.hdf5\n",
      "\n",
      "Epoch 00022: val_loss improved from 0.69210 to 0.69208, saving model to ../callbacks/99_22-0.6921.hdf5\n",
      "\n",
      "Epoch 00023: val_loss improved from 0.69208 to 0.69207, saving model to ../callbacks/99_23-0.6921.hdf5\n",
      "\n",
      "Epoch 00024: val_loss improved from 0.69207 to 0.69206, saving model to ../callbacks/99_24-0.6921.hdf5\n",
      "\n",
      "Epoch 00025: val_loss improved from 0.69206 to 0.69205, saving model to ../callbacks/99_25-0.6920.hdf5\n",
      "\n",
      "Epoch 00026: val_loss improved from 0.69205 to 0.69203, saving model to ../callbacks/99_26-0.6920.hdf5\n",
      "\n",
      "Epoch 00027: val_loss improved from 0.69203 to 0.69202, saving model to ../callbacks/99_27-0.6920.hdf5\n",
      "\n",
      "Epoch 00028: val_loss improved from 0.69202 to 0.69202, saving model to ../callbacks/99_28-0.6920.hdf5\n",
      "\n",
      "Epoch 00029: val_loss improved from 0.69202 to 0.69200, saving model to ../callbacks/99_29-0.6920.hdf5\n",
      "\n",
      "Epoch 00030: val_loss improved from 0.69200 to 0.69199, saving model to ../callbacks/99_30-0.6920.hdf5\n",
      "\n",
      "Epoch 00031: val_loss improved from 0.69199 to 0.69199, saving model to ../callbacks/99_31-0.6920.hdf5\n",
      "\n",
      "Epoch 00032: val_loss improved from 0.69199 to 0.69198, saving model to ../callbacks/99_32-0.6920.hdf5\n",
      "\n",
      "Epoch 00033: val_loss improved from 0.69198 to 0.69197, saving model to ../callbacks/99_33-0.6920.hdf5\n",
      "\n",
      "Epoch 00034: val_loss improved from 0.69197 to 0.69197, saving model to ../callbacks/99_34-0.6920.hdf5\n",
      "\n",
      "Epoch 00035: val_loss improved from 0.69197 to 0.69196, saving model to ../callbacks/99_35-0.6920.hdf5\n",
      "\n",
      "Epoch 00036: val_loss improved from 0.69196 to 0.69196, saving model to ../callbacks/99_36-0.6920.hdf5\n",
      "\n",
      "Epoch 00037: val_loss improved from 0.69196 to 0.69195, saving model to ../callbacks/99_37-0.6920.hdf5\n",
      "\n",
      "Epoch 00038: val_loss improved from 0.69195 to 0.69195, saving model to ../callbacks/99_38-0.6920.hdf5\n",
      "\n",
      "Epoch 00039: val_loss improved from 0.69195 to 0.69195, saving model to ../callbacks/99_39-0.6919.hdf5\n",
      "\n",
      "Epoch 00040: val_loss improved from 0.69195 to 0.69194, saving model to ../callbacks/99_40-0.6919.hdf5\n",
      "\n",
      "Epoch 00041: val_loss improved from 0.69194 to 0.69194, saving model to ../callbacks/99_41-0.6919.hdf5\n",
      "\n",
      "Epoch 00042: val_loss improved from 0.69194 to 0.69194, saving model to ../callbacks/99_42-0.6919.hdf5\n",
      "\n",
      "Epoch 00043: val_loss improved from 0.69194 to 0.69194, saving model to ../callbacks/99_43-0.6919.hdf5\n",
      "\n",
      "Epoch 00044: val_loss improved from 0.69194 to 0.69193, saving model to ../callbacks/99_44-0.6919.hdf5\n",
      "\n",
      "Epoch 00045: val_loss improved from 0.69193 to 0.69193, saving model to ../callbacks/99_45-0.6919.hdf5\n",
      "\n",
      "Epoch 00046: val_loss improved from 0.69193 to 0.69193, saving model to ../callbacks/99_46-0.6919.hdf5\n",
      "\n",
      "Epoch 00047: val_loss improved from 0.69193 to 0.69193, saving model to ../callbacks/99_47-0.6919.hdf5\n",
      "\n",
      "Epoch 00048: val_loss improved from 0.69193 to 0.69192, saving model to ../callbacks/99_48-0.6919.hdf5\n",
      "\n",
      "Epoch 00049: val_loss improved from 0.69192 to 0.69192, saving model to ../callbacks/99_49-0.6919.hdf5\n",
      "\n",
      "Epoch 00050: val_loss improved from 0.69192 to 0.69192, saving model to ../callbacks/99_50-0.6919.hdf5\n",
      "\n",
      "Epoch 00051: val_loss improved from 0.69192 to 0.69192, saving model to ../callbacks/99_51-0.6919.hdf5\n",
      "\n",
      "Epoch 00052: val_loss improved from 0.69192 to 0.69192, saving model to ../callbacks/99_52-0.6919.hdf5\n",
      "\n",
      "Epoch 00053: val_loss improved from 0.69192 to 0.69192, saving model to ../callbacks/99_53-0.6919.hdf5\n",
      "\n",
      "Epoch 00054: val_loss improved from 0.69192 to 0.69191, saving model to ../callbacks/99_54-0.6919.hdf5\n",
      "\n",
      "Epoch 00055: val_loss improved from 0.69191 to 0.69191, saving model to ../callbacks/99_55-0.6919.hdf5\n",
      "\n",
      "Epoch 00056: val_loss improved from 0.69191 to 0.69191, saving model to ../callbacks/99_56-0.6919.hdf5\n",
      "\n",
      "Epoch 00057: val_loss did not improve from 0.69191\n",
      "\n",
      "Epoch 00058: val_loss did not improve from 0.69191\n",
      "\n",
      "Epoch 00059: val_loss improved from 0.69191 to 0.69191, saving model to ../callbacks/99_59-0.6919.hdf5\n",
      "\n",
      "Epoch 00060: val_loss improved from 0.69191 to 0.69190, saving model to ../callbacks/99_60-0.6919.hdf5\n",
      "\n",
      "Epoch 00061: val_loss improved from 0.69190 to 0.69190, saving model to ../callbacks/99_61-0.6919.hdf5\n",
      "\n",
      "Epoch 00062: val_loss improved from 0.69190 to 0.69190, saving model to ../callbacks/99_62-0.6919.hdf5\n",
      "\n",
      "Epoch 00063: val_loss improved from 0.69190 to 0.69190, saving model to ../callbacks/99_63-0.6919.hdf5\n",
      "\n",
      "Epoch 00064: val_loss improved from 0.69190 to 0.69190, saving model to ../callbacks/99_64-0.6919.hdf5\n",
      "\n",
      "Epoch 00065: val_loss did not improve from 0.69190\n",
      "\n",
      "Epoch 00066: val_loss did not improve from 0.69190\n",
      "\n",
      "Epoch 00067: val_loss did not improve from 0.69190\n",
      "\n",
      "Epoch 00068: val_loss improved from 0.69190 to 0.69190, saving model to ../callbacks/99_68-0.6919.hdf5\n",
      "\n",
      "Epoch 00069: val_loss improved from 0.69190 to 0.69189, saving model to ../callbacks/99_69-0.6919.hdf5\n",
      "\n",
      "Epoch 00070: val_loss did not improve from 0.69189\n",
      "\n",
      "Epoch 00071: val_loss improved from 0.69189 to 0.69189, saving model to ../callbacks/99_71-0.6919.hdf5\n",
      "\n",
      "Epoch 00072: val_loss improved from 0.69189 to 0.69189, saving model to ../callbacks/99_72-0.6919.hdf5\n",
      "\n",
      "Epoch 00073: val_loss improved from 0.69189 to 0.69189, saving model to ../callbacks/99_73-0.6919.hdf5\n",
      "\n",
      "Epoch 00074: val_loss did not improve from 0.69189\n",
      "\n",
      "Epoch 00075: val_loss improved from 0.69189 to 0.69189, saving model to ../callbacks/99_75-0.6919.hdf5\n",
      "\n",
      "Epoch 00076: val_loss improved from 0.69189 to 0.69189, saving model to ../callbacks/99_76-0.6919.hdf5\n",
      "\n",
      "Epoch 00077: val_loss improved from 0.69189 to 0.69189, saving model to ../callbacks/99_77-0.6919.hdf5\n",
      "\n",
      "Epoch 00078: val_loss improved from 0.69189 to 0.69189, saving model to ../callbacks/99_78-0.6919.hdf5\n",
      "\n",
      "Epoch 00079: val_loss improved from 0.69189 to 0.69189, saving model to ../callbacks/99_79-0.6919.hdf5\n",
      "\n",
      "Epoch 00080: val_loss improved from 0.69189 to 0.69188, saving model to ../callbacks/99_80-0.6919.hdf5\n",
      "\n",
      "Epoch 00081: val_loss did not improve from 0.69188\n",
      "\n",
      "Epoch 00082: val_loss did not improve from 0.69188\n",
      "\n",
      "Epoch 00083: val_loss did not improve from 0.69188\n",
      "\n",
      "Epoch 00084: val_loss did not improve from 0.69188\n",
      "\n",
      "Epoch 00085: val_loss did not improve from 0.69188\n",
      "\n",
      "Epoch 00086: val_loss did not improve from 0.69188\n",
      "\n",
      "Epoch 00087: val_loss did not improve from 0.69188\n",
      "\n",
      "Epoch 00088: val_loss did not improve from 0.69188\n",
      "\n",
      "Epoch 00089: val_loss did not improve from 0.69188\n",
      "\n",
      "Epoch 00090: val_loss improved from 0.69188 to 0.69188, saving model to ../callbacks/99_90-0.6919.hdf5\n",
      "\n",
      "Epoch 00091: val_loss did not improve from 0.69188\n",
      "\n",
      "Epoch 00092: val_loss improved from 0.69188 to 0.69188, saving model to ../callbacks/99_92-0.6919.hdf5\n",
      "\n",
      "Epoch 00093: val_loss did not improve from 0.69188\n",
      "\n",
      "Epoch 00094: val_loss improved from 0.69188 to 0.69188, saving model to ../callbacks/99_94-0.6919.hdf5\n",
      "\n",
      "Epoch 00095: val_loss did not improve from 0.69188\n",
      "\n",
      "Epoch 00096: val_loss did not improve from 0.69188\n"
     ]
    },
    {
     "name": "stdout",
     "output_type": "stream",
     "text": [
      "\n",
      "Epoch 00097: val_loss did not improve from 0.69188\n",
      "\n",
      "Epoch 00098: val_loss did not improve from 0.69188\n",
      "\n",
      "Epoch 00099: val_loss did not improve from 0.69188\n",
      "\n",
      "Epoch 00100: val_loss did not improve from 0.69188\n",
      "<class 'tensorflow.python.keras.callbacks.History'>\n",
      "<class 'dict'>\n",
      "dict_keys(['loss', 'acc', 'val_loss', 'val_acc'])\n",
      "[1.8507559365278539, 0.6930148633496619, 0.6929257861823314, 0.6929196848854281, 0.6927812296885422, 0.6927599209340213, 0.6927274292575825, 0.6926768132564773, 0.6926901231428803, 0.6926038351720816, 0.6926246411416809, 0.692551650459458, 0.6926490153047941, 0.692517302577804, 0.692563861138437, 0.6924924903111503, 0.6925193958854073, 0.6924716452318788, 0.6924807275131297, 0.692553431453765, 0.6924201024443569, 0.692481974321961, 0.6924819748860428, 0.6924320587224388, 0.6924239120648863, 0.6924298153690736, 0.6924153987541559, 0.6923782421211339, 0.6924041757824293, 0.6923890503047017, 0.6924025519789205, 0.6923842097306477, 0.6923592985616498, 0.6924110201631059, 0.6924102024325061, 0.6923754880857016, 0.692460563280605, 0.6923711478522148, 0.6923556865577818, 0.6923669542799988, 0.6923916527901538, 0.6923784961459765, 0.6923619988212826, 0.6924130709765461, 0.6923731554193827, 0.6923915435463096, 0.6923361924544494, 0.6923296169527697, 0.6923968154549223, 0.6923782253867068, 0.6923541866642443, 0.6924228482065893, 0.6923725029647538, 0.692359981852751, 0.6924957977108399, 0.6923518643394254, 0.6923914982317374, 0.6923633575063398, 0.6923267098631393, 0.6923878328281247, 0.6923874421074563, 0.6923357930845266, 0.6923547054314839, 0.6923549256114178, 0.6924254200435963, 0.6923413756141903, 0.6923691427294012, 0.6924178421685372, 0.6923312616273055, 0.6923878717497697, 0.6923657732807124, 0.692348857971396, 0.6923995734389272, 0.6924048299293036, 0.6923981305176528, 0.6924336234853847, 0.6923752489150135, 0.692347414674067, 0.6923507265864111, 0.692339230975142, 0.6923688238351503, 0.6923603092082291, 0.6923841913039752, 0.69238719936425, 0.6923906754244014, 0.692355975743724, 0.6923449644907039, 0.6923567475956697, 0.6923429067202547, 0.6924189237013977, 0.692384664380588, 0.692385856097429, 0.6923383211111797, 0.692335122767307, 0.6923882921787466, 0.6923893402427529, 0.6923976525523309, 0.6923338650528941, 0.6923621223551993, 0.6924548070137433]\n",
      "[0.52681386, 0.5205047, 0.5205047, 0.5205047, 0.5205047, 0.5205047, 0.5205047, 0.5205047, 0.5205047, 0.5205047, 0.5205047, 0.5205047, 0.5205047, 0.5205047, 0.5205047, 0.5205047, 0.5205047, 0.5205047, 0.5205047, 0.5205047, 0.5205047, 0.5205047, 0.5205047, 0.5205047, 0.5205047, 0.5205047, 0.5205047, 0.5205047, 0.5205047, 0.5205047, 0.5205047, 0.5205047, 0.5205047, 0.5205047, 0.5205047, 0.5205047, 0.5205047, 0.5205047, 0.5205047, 0.5205047, 0.5205047, 0.5205047, 0.5205047, 0.5205047, 0.5205047, 0.5205047, 0.5205047, 0.5205047, 0.5205047, 0.5205047, 0.5205047, 0.5205047, 0.5205047, 0.5205047, 0.5205047, 0.5205047, 0.5205047, 0.5205047, 0.5205047, 0.5205047, 0.5205047, 0.5205047, 0.5205047, 0.5205047, 0.5205047, 0.5205047, 0.5205047, 0.5205047, 0.5205047, 0.5205047, 0.5205047, 0.5205047, 0.5205047, 0.5205047, 0.5205047, 0.5205047, 0.5205047, 0.5205047, 0.5205047, 0.5205047, 0.5205047, 0.5205047, 0.5205047, 0.5205047, 0.5205047, 0.5205047, 0.5205047, 0.5205047, 0.5205047, 0.5205047, 0.5205047, 0.5205047, 0.5205047, 0.5205047, 0.5205047, 0.5205047, 0.5205047, 0.5205047, 0.5205047, 0.5205047]\n",
      "[0.6928619482578375, 0.6927941135871105, 0.6927230174724872, 0.6926491336944776, 0.6925966311723758, 0.6925432957135714, 0.692490924627353, 0.6924477846194537, 0.6924040883015363, 0.6923644527410849, 0.6923253077727097, 0.69229228527118, 0.6922664902149103, 0.6922390537384229, 0.6922149276122068, 0.6921963355480096, 0.6921711701613206, 0.6921506019739004, 0.6921293292290125, 0.6921109266770191, 0.6920952430138221, 0.6920798589021732, 0.6920712758333255, 0.6920560934604743, 0.6920466835682209, 0.6920337631152227, 0.6920241530124958, 0.6920157839090396, 0.6920025623761691, 0.6919933007313654, 0.6919863071197119, 0.691978816802685, 0.6919722083287362, 0.6919665596424005, 0.6919635350887592, 0.6919569617662674, 0.6919544614278353, 0.6919515881782923, 0.6919474219664549, 0.6919442247121762, 0.6919417977333069, 0.6919403779201019, 0.6919365173731095, 0.6919331627014356, 0.6919303597548069, 0.6919288650537149, 0.6919265358875959, 0.6919243977620051, 0.6919235128622788, 0.6919211363181089, 0.6919183364281287, 0.6919157184087313, 0.6919151850235767, 0.6919122154896076, 0.6919098053223047, 0.6919082999229431, 0.6919091527278607, 0.6919085704363309, 0.6919065148402483, 0.6919030898656601, 0.6919023547417078, 0.6919020001704876, 0.6918990382781396, 0.6918974671608362, 0.6918991788839682, 0.6918989129555531, 0.6918976475030948, 0.6918952403924404, 0.6918945297216758, 0.6918955307740432, 0.6918937716728601, 0.6918927568655747, 0.6918906202683082, 0.6918911811632987, 0.6918902473571973, 0.6918892738146659, 0.6918889161867973, 0.6918883690467248, 0.6918860933719537, 0.6918848982224097, 0.6918859206713163, 0.6918861820147588, 0.6918856501579285, 0.69188503577159, 0.6918856807244129, 0.691886536585979, 0.6918853322664896, 0.6918869507618439, 0.6918858289718628, 0.6918847209367996, 0.6918852848884387, 0.6918839139816089, 0.6918840943238674, 0.6918830841015546, 0.6918843373274192, 0.6918837550358895, 0.6918856302897135, 0.6918850418848869, 0.691885613478147, 0.6918841676834302]\n",
      "[0.525641, 0.525641, 0.525641, 0.525641, 0.525641, 0.525641, 0.525641, 0.525641, 0.525641, 0.525641, 0.525641, 0.525641, 0.525641, 0.525641, 0.525641, 0.525641, 0.525641, 0.525641, 0.525641, 0.525641, 0.525641, 0.525641, 0.525641, 0.525641, 0.525641, 0.525641, 0.525641, 0.525641, 0.525641, 0.525641, 0.525641, 0.525641, 0.525641, 0.525641, 0.525641, 0.525641, 0.525641, 0.525641, 0.525641, 0.525641, 0.525641, 0.525641, 0.525641, 0.525641, 0.525641, 0.525641, 0.525641, 0.525641, 0.525641, 0.525641, 0.525641, 0.525641, 0.525641, 0.525641, 0.525641, 0.525641, 0.525641, 0.525641, 0.525641, 0.525641, 0.525641, 0.525641, 0.525641, 0.525641, 0.525641, 0.525641, 0.525641, 0.525641, 0.525641, 0.525641, 0.525641, 0.525641, 0.525641, 0.525641, 0.525641, 0.525641, 0.525641, 0.525641, 0.525641, 0.525641, 0.525641, 0.525641, 0.525641, 0.525641, 0.525641, 0.525641, 0.525641, 0.525641, 0.525641, 0.525641, 0.525641, 0.525641, 0.525641, 0.525641, 0.525641, 0.525641, 0.525641, 0.525641, 0.525641, 0.525641]\n"
     ]
    }
   ],
   "source": [
    "#訓練データ\n",
    "x_train = x_train_all\n",
    "y_train = y_train_all\n",
    "\n",
    "#検証データ\n",
    "x_val = x_train_all_5crossval \n",
    "y_val = y_train_all_5crossval \n",
    "\n",
    "\n",
    "#old_session = KTF.get_session()\n",
    "#session = tf.Session('')\n",
    "#KTF.set_session(session)\n",
    "#KTF.set_learning_phase(1)\n",
    "\n",
    "#modelの定義の前に重みのリセットが必要で，これ？\n",
    "tf.compat.v1.Session()\n",
    "#sess = tf.compat.v1.Session()\n",
    "\n",
    "#モデル構築\n",
    "model = Sequential()\n",
    "model.add(Conv2D(filters=3, kernel_size=(14, 8), strides=(1, 1), padding='valid', \n",
    "                 data_format=\"channels_last\", dilation_rate=(1, 1), activation='relu', \n",
    "                 use_bias=True, input_shape=(14, 8, 1), kernel_initializer='glorot_uniform', \n",
    "                 bias_initializer='zeros',  name='Dense_01'))\n",
    "#model.add(MaxPooling2D(pool_size=(2, 2), strides=None, padding='valid', data_format=None, \n",
    "#                       name='MaxPooling2D_01'))\n",
    "model.add(Flatten(name='Flatten_01'))\n",
    "#model.add(Dropout(0.50))\n",
    "#model.add(Dense(units=3, name='Denese_02', activation='relu'))\n",
    "#model.add(Dense(units=50, name='Dense_01', activation='relu')\n",
    "#model.add(Dense(units=10, name='Denese_03', activation='relu'))\n",
    "model.add(Dense(units=2, name='Dense_out'))\n",
    "model.add(Activation('softmax'))\n",
    "\n",
    "#モデルの構造を表示\n",
    "model.summary()\n",
    "\n",
    "#訓練（学習）プロセスの設定\n",
    "model.compile(optimizer='sgd', loss='categorical_crossentropy', metrics=['accuracy'])\n",
    "\n",
    "\n",
    "\n",
    "#バリデーションロスが減少した場合に，各エポック終了後，モデルの重みを保存します\n",
    "#checkpointer = ModelCheckpoint(filepath='./weights.hdf5', verbose=0, save_best_only=True, save_format=\"h5\")\n",
    "### add for TensorBoard\n",
    "erly_stpg = EarlyStopping(patience=10, verbose=1,monitor='val_loss' , mode = 'min') \n",
    "chkfile = './callbacks/' + '{0:2d}'.format(Vernum)+'_{epoch:02d}-{val_loss:.4f}.hdf5' #format関数\n",
    "check_point = ModelCheckpoint(filepath = chkfile, monitor='val_loss', verbose=1, save_best_only=True, mode='min')\n",
    "check_point = [check_point]\n",
    "\n",
    "log_dir = \"log/\" + datetime.datetime.now().strftime(\"%Y%m%d-%H%M%S\")\n",
    "tensorboard_callback = tf.keras.callbacks.TensorBoard(log_dir=log_dir, histogram_freq=1)\n",
    "cbks=[tensorboard_callback]\n",
    "\n",
    "#訓練の実行 \n",
    "NUM_EPOCHS=100\n",
    "NUM_BATCH=32\n",
    "#history = model.fit(x_train, y_train, batch_size=NUM_BATCH, epochs=NUM_EPOCHS, validation_split=0.2, shuffle = True ,\n",
    "#                    callbacks=[erly_stpg , chck_pont], verbose = 0, )\n",
    "history = model.fit(x_train, y_train, batch_size=NUM_BATCH, epochs=NUM_EPOCHS, \n",
    "                    validation_split=0.2, shuffle = True, verbose = 0,\n",
    "                    callbacks=check_point,\n",
    "                   validation_data=(x_val, y_val))\n",
    "\n",
    "print(type(history))\n",
    "print(type(history.history))\n",
    "print(history.history.keys())\n",
    "print(history.history['loss'])\n",
    "print(history.history['acc'])\n",
    "print(history.history['val_loss'])\n",
    "print(history.history['val_acc'])"
   ]
  },
  {
   "cell_type": "code",
   "execution_count": 66,
   "metadata": {},
   "outputs": [
    {
     "data": {
      "text/html": [
       "<div>\n",
       "<style scoped>\n",
       "    .dataframe tbody tr th:only-of-type {\n",
       "        vertical-align: middle;\n",
       "    }\n",
       "\n",
       "    .dataframe tbody tr th {\n",
       "        vertical-align: top;\n",
       "    }\n",
       "\n",
       "    .dataframe thead th {\n",
       "        text-align: right;\n",
       "    }\n",
       "</style>\n",
       "<table border=\"1\" class=\"dataframe\">\n",
       "  <thead>\n",
       "    <tr style=\"text-align: right;\">\n",
       "      <th></th>\n",
       "      <th>loss</th>\n",
       "      <th>acc</th>\n",
       "      <th>val_loss</th>\n",
       "      <th>val_acc</th>\n",
       "    </tr>\n",
       "  </thead>\n",
       "  <tbody>\n",
       "    <tr>\n",
       "      <th>0</th>\n",
       "      <td>1.850756</td>\n",
       "      <td>0.526814</td>\n",
       "      <td>0.692862</td>\n",
       "      <td>0.525641</td>\n",
       "    </tr>\n",
       "    <tr>\n",
       "      <th>1</th>\n",
       "      <td>0.693015</td>\n",
       "      <td>0.520505</td>\n",
       "      <td>0.692794</td>\n",
       "      <td>0.525641</td>\n",
       "    </tr>\n",
       "    <tr>\n",
       "      <th>2</th>\n",
       "      <td>0.692926</td>\n",
       "      <td>0.520505</td>\n",
       "      <td>0.692723</td>\n",
       "      <td>0.525641</td>\n",
       "    </tr>\n",
       "    <tr>\n",
       "      <th>3</th>\n",
       "      <td>0.692920</td>\n",
       "      <td>0.520505</td>\n",
       "      <td>0.692649</td>\n",
       "      <td>0.525641</td>\n",
       "    </tr>\n",
       "    <tr>\n",
       "      <th>4</th>\n",
       "      <td>0.692781</td>\n",
       "      <td>0.520505</td>\n",
       "      <td>0.692597</td>\n",
       "      <td>0.525641</td>\n",
       "    </tr>\n",
       "    <tr>\n",
       "      <th>...</th>\n",
       "      <td>...</td>\n",
       "      <td>...</td>\n",
       "      <td>...</td>\n",
       "      <td>...</td>\n",
       "    </tr>\n",
       "    <tr>\n",
       "      <th>95</th>\n",
       "      <td>0.692389</td>\n",
       "      <td>0.520505</td>\n",
       "      <td>0.691884</td>\n",
       "      <td>0.525641</td>\n",
       "    </tr>\n",
       "    <tr>\n",
       "      <th>96</th>\n",
       "      <td>0.692398</td>\n",
       "      <td>0.520505</td>\n",
       "      <td>0.691886</td>\n",
       "      <td>0.525641</td>\n",
       "    </tr>\n",
       "    <tr>\n",
       "      <th>97</th>\n",
       "      <td>0.692334</td>\n",
       "      <td>0.520505</td>\n",
       "      <td>0.691885</td>\n",
       "      <td>0.525641</td>\n",
       "    </tr>\n",
       "    <tr>\n",
       "      <th>98</th>\n",
       "      <td>0.692362</td>\n",
       "      <td>0.520505</td>\n",
       "      <td>0.691886</td>\n",
       "      <td>0.525641</td>\n",
       "    </tr>\n",
       "    <tr>\n",
       "      <th>99</th>\n",
       "      <td>0.692455</td>\n",
       "      <td>0.520505</td>\n",
       "      <td>0.691884</td>\n",
       "      <td>0.525641</td>\n",
       "    </tr>\n",
       "  </tbody>\n",
       "</table>\n",
       "<p>100 rows × 4 columns</p>\n",
       "</div>"
      ],
      "text/plain": [
       "        loss       acc  val_loss   val_acc\n",
       "0   1.850756  0.526814  0.692862  0.525641\n",
       "1   0.693015  0.520505  0.692794  0.525641\n",
       "2   0.692926  0.520505  0.692723  0.525641\n",
       "3   0.692920  0.520505  0.692649  0.525641\n",
       "4   0.692781  0.520505  0.692597  0.525641\n",
       "..       ...       ...       ...       ...\n",
       "95  0.692389  0.520505  0.691884  0.525641\n",
       "96  0.692398  0.520505  0.691886  0.525641\n",
       "97  0.692334  0.520505  0.691885  0.525641\n",
       "98  0.692362  0.520505  0.691886  0.525641\n",
       "99  0.692455  0.520505  0.691884  0.525641\n",
       "\n",
       "[100 rows x 4 columns]"
      ]
     },
     "execution_count": 66,
     "metadata": {},
     "output_type": "execute_result"
    }
   ],
   "source": [
    "df1 = pd.DataFrame(\n",
    "    data={'loss':history.history['loss'], \n",
    "          'acc':history.history['acc'],\n",
    "          'val_loss':history.history['val_loss'], \n",
    "          'val_acc':history.history['val_acc']\n",
    "         }, \n",
    "    index=np.arange(0, 100)\n",
    ")\n",
    " \n",
    "df1"
   ]
  },
  {
   "cell_type": "code",
   "execution_count": 67,
   "metadata": {},
   "outputs": [
    {
     "data": {
      "text/html": [
       "<div>\n",
       "<style scoped>\n",
       "    .dataframe tbody tr th:only-of-type {\n",
       "        vertical-align: middle;\n",
       "    }\n",
       "\n",
       "    .dataframe tbody tr th {\n",
       "        vertical-align: top;\n",
       "    }\n",
       "\n",
       "    .dataframe thead th {\n",
       "        text-align: right;\n",
       "    }\n",
       "</style>\n",
       "<table border=\"1\" class=\"dataframe\">\n",
       "  <thead>\n",
       "    <tr style=\"text-align: right;\">\n",
       "      <th></th>\n",
       "      <th>Kernel</th>\n",
       "      <th>Conv2D</th>\n",
       "      <th>hidden01</th>\n",
       "      <th>Batch_size</th>\n",
       "      <th>epochs</th>\n",
       "    </tr>\n",
       "  </thead>\n",
       "  <tbody>\n",
       "    <tr>\n",
       "      <th>0</th>\n",
       "      <td>14x8</td>\n",
       "      <td>3</td>\n",
       "      <td>0</td>\n",
       "      <td>32</td>\n",
       "      <td>100</td>\n",
       "    </tr>\n",
       "    <tr>\n",
       "      <th>1</th>\n",
       "      <td>14x8</td>\n",
       "      <td>3</td>\n",
       "      <td>0</td>\n",
       "      <td>32</td>\n",
       "      <td>100</td>\n",
       "    </tr>\n",
       "    <tr>\n",
       "      <th>2</th>\n",
       "      <td>14x8</td>\n",
       "      <td>3</td>\n",
       "      <td>0</td>\n",
       "      <td>32</td>\n",
       "      <td>100</td>\n",
       "    </tr>\n",
       "    <tr>\n",
       "      <th>3</th>\n",
       "      <td>14x8</td>\n",
       "      <td>3</td>\n",
       "      <td>0</td>\n",
       "      <td>32</td>\n",
       "      <td>100</td>\n",
       "    </tr>\n",
       "  </tbody>\n",
       "</table>\n",
       "</div>"
      ],
      "text/plain": [
       "  Kernel Conv2D hidden01 Batch_size epochs\n",
       "0   14x8      3        0         32    100\n",
       "1   14x8      3        0         32    100\n",
       "2   14x8      3        0         32    100\n",
       "3   14x8      3        0         32    100"
      ]
     },
     "execution_count": 67,
     "metadata": {},
     "output_type": "execute_result"
    }
   ],
   "source": [
    "i=8\n",
    "j=3\n",
    "k=0\n",
    "m=32\n",
    "n=100\n",
    "\n",
    "df2 = pd.DataFrame(\n",
    "    data={'Kernel':f'14x{i}',\n",
    "         'Conv2D':str(j),\n",
    "         'hidden01':str(k),\n",
    "         'Batch_size':str(m),\n",
    "         'epochs':str(n)}, \n",
    "    index=np.arange(4)\n",
    ")\n",
    "df2"
   ]
  },
  {
   "cell_type": "code",
   "execution_count": 68,
   "metadata": {},
   "outputs": [
    {
     "name": "stdout",
     "output_type": "stream",
     "text": [
      "        loss       acc  val_loss   val_acc Kernel Conv2D hidden01 Batch_size  \\\n",
      "0   1.850756  0.526814  0.692862  0.525641   14x8      3        0         32   \n",
      "1   0.693015  0.520505  0.692794  0.525641   14x8      3        0         32   \n",
      "2   0.692926  0.520505  0.692723  0.525641   14x8      3        0         32   \n",
      "3   0.692920  0.520505  0.692649  0.525641   14x8      3        0         32   \n",
      "4   0.692781  0.520505  0.692597  0.525641    NaN    NaN      NaN        NaN   \n",
      "..       ...       ...       ...       ...    ...    ...      ...        ...   \n",
      "95  0.692389  0.520505  0.691884  0.525641    NaN    NaN      NaN        NaN   \n",
      "96  0.692398  0.520505  0.691886  0.525641    NaN    NaN      NaN        NaN   \n",
      "97  0.692334  0.520505  0.691885  0.525641    NaN    NaN      NaN        NaN   \n",
      "98  0.692362  0.520505  0.691886  0.525641    NaN    NaN      NaN        NaN   \n",
      "99  0.692455  0.520505  0.691884  0.525641    NaN    NaN      NaN        NaN   \n",
      "\n",
      "   epochs  \n",
      "0     100  \n",
      "1     100  \n",
      "2     100  \n",
      "3     100  \n",
      "4     NaN  \n",
      "..    ...  \n",
      "95    NaN  \n",
      "96    NaN  \n",
      "97    NaN  \n",
      "98    NaN  \n",
      "99    NaN  \n",
      "\n",
      "[100 rows x 9 columns]\n"
     ]
    }
   ],
   "source": [
    "print(pd.concat([df1, df2], axis=1))\n",
    "df3 = pd.concat([df1, df2], axis=1)"
   ]
  },
  {
   "cell_type": "code",
   "execution_count": 69,
   "metadata": {},
   "outputs": [],
   "source": [
    "var = \"FC_02\"\n",
    "filename = f'./fitting_model/FCvsCNN/FC/trial_{var}.csv'\n",
    "df3.to_csv(filename)"
   ]
  },
  {
   "cell_type": "code",
   "execution_count": 70,
   "metadata": {},
   "outputs": [
    {
     "data": {
      "text/html": [
       "<div>\n",
       "<style scoped>\n",
       "    .dataframe tbody tr th:only-of-type {\n",
       "        vertical-align: middle;\n",
       "    }\n",
       "\n",
       "    .dataframe tbody tr th {\n",
       "        vertical-align: top;\n",
       "    }\n",
       "\n",
       "    .dataframe thead th {\n",
       "        text-align: right;\n",
       "    }\n",
       "</style>\n",
       "<table border=\"1\" class=\"dataframe\">\n",
       "  <thead>\n",
       "    <tr style=\"text-align: right;\">\n",
       "      <th></th>\n",
       "      <th>loss</th>\n",
       "      <th>acc</th>\n",
       "      <th>val_loss</th>\n",
       "      <th>val_acc</th>\n",
       "      <th>Kernel</th>\n",
       "      <th>Conv2D</th>\n",
       "      <th>hidden01</th>\n",
       "      <th>Batch_size</th>\n",
       "      <th>epochs</th>\n",
       "    </tr>\n",
       "  </thead>\n",
       "  <tbody>\n",
       "    <tr>\n",
       "      <th>0</th>\n",
       "      <td>1.850756</td>\n",
       "      <td>0.526814</td>\n",
       "      <td>0.692862</td>\n",
       "      <td>0.525641</td>\n",
       "      <td>14x8</td>\n",
       "      <td>3</td>\n",
       "      <td>0</td>\n",
       "      <td>32</td>\n",
       "      <td>100</td>\n",
       "    </tr>\n",
       "    <tr>\n",
       "      <th>1</th>\n",
       "      <td>0.693015</td>\n",
       "      <td>0.520505</td>\n",
       "      <td>0.692794</td>\n",
       "      <td>0.525641</td>\n",
       "      <td>14x8</td>\n",
       "      <td>3</td>\n",
       "      <td>0</td>\n",
       "      <td>32</td>\n",
       "      <td>100</td>\n",
       "    </tr>\n",
       "    <tr>\n",
       "      <th>2</th>\n",
       "      <td>0.692926</td>\n",
       "      <td>0.520505</td>\n",
       "      <td>0.692723</td>\n",
       "      <td>0.525641</td>\n",
       "      <td>14x8</td>\n",
       "      <td>3</td>\n",
       "      <td>0</td>\n",
       "      <td>32</td>\n",
       "      <td>100</td>\n",
       "    </tr>\n",
       "    <tr>\n",
       "      <th>3</th>\n",
       "      <td>0.692920</td>\n",
       "      <td>0.520505</td>\n",
       "      <td>0.692649</td>\n",
       "      <td>0.525641</td>\n",
       "      <td>14x8</td>\n",
       "      <td>3</td>\n",
       "      <td>0</td>\n",
       "      <td>32</td>\n",
       "      <td>100</td>\n",
       "    </tr>\n",
       "    <tr>\n",
       "      <th>4</th>\n",
       "      <td>0.692781</td>\n",
       "      <td>0.520505</td>\n",
       "      <td>0.692597</td>\n",
       "      <td>0.525641</td>\n",
       "      <td>NaN</td>\n",
       "      <td>NaN</td>\n",
       "      <td>NaN</td>\n",
       "      <td>NaN</td>\n",
       "      <td>NaN</td>\n",
       "    </tr>\n",
       "  </tbody>\n",
       "</table>\n",
       "</div>"
      ],
      "text/plain": [
       "       loss       acc  val_loss   val_acc Kernel Conv2D hidden01 Batch_size  \\\n",
       "0  1.850756  0.526814  0.692862  0.525641   14x8      3        0         32   \n",
       "1  0.693015  0.520505  0.692794  0.525641   14x8      3        0         32   \n",
       "2  0.692926  0.520505  0.692723  0.525641   14x8      3        0         32   \n",
       "3  0.692920  0.520505  0.692649  0.525641   14x8      3        0         32   \n",
       "4  0.692781  0.520505  0.692597  0.525641    NaN    NaN      NaN        NaN   \n",
       "\n",
       "  epochs  \n",
       "0    100  \n",
       "1    100  \n",
       "2    100  \n",
       "3    100  \n",
       "4    NaN  "
      ]
     },
     "execution_count": 70,
     "metadata": {},
     "output_type": "execute_result"
    }
   ],
   "source": [
    "df3.iloc[0:5, :]"
   ]
  },
  {
   "cell_type": "code",
   "execution_count": 71,
   "metadata": {},
   "outputs": [
    {
     "data": {
      "text/html": [
       "<div>\n",
       "<style scoped>\n",
       "    .dataframe tbody tr th:only-of-type {\n",
       "        vertical-align: middle;\n",
       "    }\n",
       "\n",
       "    .dataframe tbody tr th {\n",
       "        vertical-align: top;\n",
       "    }\n",
       "\n",
       "    .dataframe thead th {\n",
       "        text-align: right;\n",
       "    }\n",
       "</style>\n",
       "<table border=\"1\" class=\"dataframe\">\n",
       "  <thead>\n",
       "    <tr style=\"text-align: right;\">\n",
       "      <th></th>\n",
       "      <th>loss</th>\n",
       "      <th>acc</th>\n",
       "      <th>val_loss</th>\n",
       "      <th>val_acc</th>\n",
       "      <th>Kernel</th>\n",
       "      <th>Conv2D</th>\n",
       "      <th>hidden01</th>\n",
       "      <th>Batch_size</th>\n",
       "      <th>epochs</th>\n",
       "    </tr>\n",
       "  </thead>\n",
       "  <tbody>\n",
       "  </tbody>\n",
       "</table>\n",
       "</div>"
      ],
      "text/plain": [
       "Empty DataFrame\n",
       "Columns: [loss, acc, val_loss, val_acc, Kernel, Conv2D, hidden01, Batch_size, epochs]\n",
       "Index: []"
      ]
     },
     "execution_count": 71,
     "metadata": {},
     "output_type": "execute_result"
    }
   ],
   "source": [
    "df3.iloc[300-5:300, :]"
   ]
  },
  {
   "cell_type": "code",
   "execution_count": 72,
   "metadata": {},
   "outputs": [
    {
     "data": {
      "image/png": "[encoded data removed]",
      "text/plain": [
       "<Figure size 432x288 with 1 Axes>"
      ]
     },
     "metadata": {
      "needs_background": "light"
     },
     "output_type": "display_data"
    }
   ],
   "source": [
    "plt.plot(range(1, NUM_EPOCHS+1), df3['acc'], \"-o\")\n",
    "plt.plot(range(1, NUM_EPOCHS+1), df3['val_acc'], \"-o\")\n",
    "plt.title('model accuracy')\n",
    "plt.ylabel('accuracy')  # Y軸ラベル\n",
    "plt.xlabel('epoch')  # X軸ラベル\n",
    "plt.grid()\n",
    "plt.legend(['acc', 'val_acc'], loc='best')\n",
    "#plt.xlim(0,NUM_EPOCHS)\n",
    "plt.ylim(0.0,1.0)\n",
    "plt.show()"
   ]
  },
  {
   "cell_type": "code",
   "execution_count": 73,
   "metadata": {},
   "outputs": [
    {
     "data": {
      "image/png": "[encoded data removed]",
      "text/plain": [
       "<Figure size 432x288 with 1 Axes>"
      ]
     },
     "metadata": {
      "needs_background": "light"
     },
     "output_type": "display_data"
    }
   ],
   "source": [
    "plt.plot(range(1, NUM_EPOCHS+1), df3['loss'], \"-o\")\n",
    "plt.plot(range(1, NUM_EPOCHS+1), df3['val_loss'], \"-o\")\n",
    "plt.title('model loss')\n",
    "plt.ylabel('loss')  # Y軸ラベル\n",
    "plt.xlabel('epoch')  # X軸ラベル\n",
    "plt.grid()\n",
    "plt.legend(['loss', 'val_loss'], loc='best')\n",
    "#plt.xlim(0,NUM_EPOCHS)\n",
    "plt.ylim(0.0,1.0)\n",
    "plt.show()"
   ]
  },
  {
   "cell_type": "code",
   "execution_count": 77,
   "metadata": {},
   "outputs": [
    {
     "name": "stdout",
     "output_type": "stream",
     "text": [
      "78/78 [==============================] - 0s 23us/sample - loss: 0.6919 - acc: 0.5256\n",
      "Test Loss: 69.18841340602972%\n",
      "Test Acc: 52.56410241127014%\n"
     ]
    }
   ],
   "source": [
    "loss, acc = model.evaluate(x_val, y_val)\n",
    "print(f\"Test Loss: {loss*100}%\")\n",
    "print(f\"Test Acc: {acc*100}%\")"
   ]
  },
  {
   "cell_type": "code",
   "execution_count": 22,
   "metadata": {},
   "outputs": [],
   "source": [
    "predict_positive_list = model.predict(x_train_positive_all_5crossval)"
   ]
  },
  {
   "cell_type": "code",
   "execution_count": 23,
   "metadata": {},
   "outputs": [],
   "source": [
    "predict_negative_list = model.predict(x_train_negative_all_5crossval)"
   ]
  },
  {
   "cell_type": "code",
   "execution_count": null,
   "metadata": {},
   "outputs": [],
   "source": [
    "#predict_positive_list = model.predict(x_train_positive_all_5crossval)\n",
    "#predict_negative_list = model.predict(x_train_negative_all_5crossval)"
   ]
  },
  {
   "cell_type": "code",
   "execution_count": 24,
   "metadata": {},
   "outputs": [
    {
     "data": {
      "text/plain": [
       "array([[0.52052575, 0.47947422],\n",
       "       [0.52052575, 0.47947422],\n",
       "       [0.52052575, 0.47947422],\n",
       "       [0.52052575, 0.47947422],\n",
       "       [0.52052575, 0.47947422],\n",
       "       [0.52052575, 0.47947422],\n",
       "       [0.52052575, 0.47947422],\n",
       "       [0.52052575, 0.47947422],\n",
       "       [0.52052575, 0.47947422],\n",
       "       [0.52052575, 0.47947422],\n",
       "       [0.52052575, 0.47947422],\n",
       "       [0.52052575, 0.47947422],\n",
       "       [0.52052575, 0.47947422],\n",
       "       [0.52052575, 0.47947422],\n",
       "       [0.52052575, 0.47947422],\n",
       "       [0.52052575, 0.47947422],\n",
       "       [0.52052575, 0.47947422],\n",
       "       [0.52052575, 0.47947422],\n",
       "       [0.52052575, 0.47947422],\n",
       "       [0.52052575, 0.47947422],\n",
       "       [0.52052575, 0.47947422],\n",
       "       [0.52052575, 0.47947422],\n",
       "       [0.52052575, 0.47947422],\n",
       "       [0.52052575, 0.47947422],\n",
       "       [0.52052575, 0.47947422],\n",
       "       [0.52052575, 0.47947422],\n",
       "       [0.52052575, 0.47947422],\n",
       "       [0.52052575, 0.47947422],\n",
       "       [0.52052575, 0.47947422],\n",
       "       [0.52052575, 0.47947422],\n",
       "       [0.52052575, 0.47947422],\n",
       "       [0.52052575, 0.47947422],\n",
       "       [0.52052575, 0.47947422],\n",
       "       [0.52052575, 0.47947422],\n",
       "       [0.52052575, 0.47947422],\n",
       "       [0.52052575, 0.47947422],\n",
       "       [0.52052575, 0.47947422],\n",
       "       [0.52052575, 0.47947422],\n",
       "       [0.52052575, 0.47947422],\n",
       "       [0.52052575, 0.47947422],\n",
       "       [0.52052575, 0.47947422]], dtype=float32)"
      ]
     },
     "execution_count": 24,
     "metadata": {},
     "output_type": "execute_result"
    }
   ],
   "source": [
    "predict_positive_list"
   ]
  },
  {
   "cell_type": "code",
   "execution_count": 25,
   "metadata": {},
   "outputs": [
    {
     "data": {
      "text/plain": [
       "array([[0.52052575, 0.47947422],\n",
       "       [0.52052575, 0.47947422],\n",
       "       [0.52052575, 0.47947422],\n",
       "       [0.52052575, 0.47947422],\n",
       "       [0.52052575, 0.47947422],\n",
       "       [0.52052575, 0.47947422],\n",
       "       [0.52052575, 0.47947422],\n",
       "       [0.52052575, 0.47947422],\n",
       "       [0.52052575, 0.47947422],\n",
       "       [0.52052575, 0.47947422],\n",
       "       [0.52052575, 0.47947422],\n",
       "       [0.52052575, 0.47947422],\n",
       "       [0.52052575, 0.47947422],\n",
       "       [0.52052575, 0.47947422],\n",
       "       [0.52052575, 0.47947422],\n",
       "       [0.52052575, 0.47947422],\n",
       "       [0.52052575, 0.47947422],\n",
       "       [0.52052575, 0.47947422],\n",
       "       [0.52052575, 0.47947422],\n",
       "       [0.52052575, 0.47947422],\n",
       "       [0.52052575, 0.47947422],\n",
       "       [0.52052575, 0.47947422],\n",
       "       [0.52052575, 0.47947422],\n",
       "       [0.52052575, 0.47947422],\n",
       "       [0.52052575, 0.47947422],\n",
       "       [0.52052575, 0.47947422],\n",
       "       [0.52052575, 0.47947422],\n",
       "       [0.52052575, 0.47947422],\n",
       "       [0.52052575, 0.47947422],\n",
       "       [0.52052575, 0.47947422],\n",
       "       [0.52052575, 0.47947422],\n",
       "       [0.52052575, 0.47947422],\n",
       "       [0.52052575, 0.47947422],\n",
       "       [0.52052575, 0.47947422],\n",
       "       [0.52052575, 0.47947422],\n",
       "       [0.52052575, 0.47947422],\n",
       "       [0.52052575, 0.47947422],\n",
       "       [0.52052575, 0.47947422]], dtype=float32)"
      ]
     },
     "execution_count": 25,
     "metadata": {},
     "output_type": "execute_result"
    }
   ],
   "source": [
    "predict_negative_list"
   ]
  },
  {
   "cell_type": "code",
   "execution_count": 39,
   "metadata": {},
   "outputs": [
    {
     "ename": "ValueError",
     "evalue": "continuous format is not supported",
     "output_type": "error",
     "traceback": [
      "\u001b[0;31m---------------------------------------------------------------------------\u001b[0m",
      "\u001b[0;31mValueError\u001b[0m                                Traceback (most recent call last)",
      "\u001b[0;32m<ipython-input-39-12a4f6594637>\u001b[0m in \u001b[0;36m<module>\u001b[0;34m\u001b[0m\n\u001b[1;32m     17\u001b[0m \u001b[0my_score01\u001b[0m \u001b[0;34m=\u001b[0m \u001b[0mlist\u001b[0m\u001b[0;34m(\u001b[0m\u001b[0my_score01\u001b[0m\u001b[0;34m)\u001b[0m\u001b[0;34m\u001b[0m\u001b[0;34m\u001b[0m\u001b[0m\n\u001b[1;32m     18\u001b[0m \u001b[0;34m\u001b[0m\u001b[0m\n\u001b[0;32m---> 19\u001b[0;31m \u001b[0mroc\u001b[0m \u001b[0;34m=\u001b[0m \u001b[0mroc_curve\u001b[0m\u001b[0;34m(\u001b[0m\u001b[0my_true01\u001b[0m\u001b[0;34m,\u001b[0m \u001b[0my_score01\u001b[0m\u001b[0;34m)\u001b[0m\u001b[0;34m\u001b[0m\u001b[0;34m\u001b[0m\u001b[0m\n\u001b[0m\u001b[1;32m     20\u001b[0m \u001b[0;34m\u001b[0m\u001b[0m\n\u001b[1;32m     21\u001b[0m \u001b[0mprint\u001b[0m\u001b[0;34m(\u001b[0m\u001b[0mtype\u001b[0m\u001b[0;34m(\u001b[0m\u001b[0mroc\u001b[0m\u001b[0;34m)\u001b[0m\u001b[0;34m)\u001b[0m\u001b[0;34m\u001b[0m\u001b[0;34m\u001b[0m\u001b[0m\n",
      "\u001b[0;32m~/anaconda3/lib/python3.7/site-packages/sklearn/metrics/_ranking.py\u001b[0m in \u001b[0;36mroc_curve\u001b[0;34m(y_true, y_score, pos_label, sample_weight, drop_intermediate)\u001b[0m\n\u001b[1;32m    769\u001b[0m     \"\"\"\n\u001b[1;32m    770\u001b[0m     fps, tps, thresholds = _binary_clf_curve(\n\u001b[0;32m--> 771\u001b[0;31m         y_true, y_score, pos_label=pos_label, sample_weight=sample_weight)\n\u001b[0m\u001b[1;32m    772\u001b[0m \u001b[0;34m\u001b[0m\u001b[0m\n\u001b[1;32m    773\u001b[0m     \u001b[0;31m# Attempt to drop thresholds corresponding to points in between and\u001b[0m\u001b[0;34m\u001b[0m\u001b[0;34m\u001b[0m\u001b[0;34m\u001b[0m\u001b[0m\n",
      "\u001b[0;32m~/anaconda3/lib/python3.7/site-packages/sklearn/metrics/_ranking.py\u001b[0m in \u001b[0;36m_binary_clf_curve\u001b[0;34m(y_true, y_score, pos_label, sample_weight)\u001b[0m\n\u001b[1;32m    534\u001b[0m     if not (y_type == \"binary\" or\n\u001b[1;32m    535\u001b[0m             (y_type == \"multiclass\" and pos_label is not None)):\n\u001b[0;32m--> 536\u001b[0;31m         \u001b[0;32mraise\u001b[0m \u001b[0mValueError\u001b[0m\u001b[0;34m(\u001b[0m\u001b[0;34m\"{0} format is not supported\"\u001b[0m\u001b[0;34m.\u001b[0m\u001b[0mformat\u001b[0m\u001b[0;34m(\u001b[0m\u001b[0my_type\u001b[0m\u001b[0;34m)\u001b[0m\u001b[0;34m)\u001b[0m\u001b[0;34m\u001b[0m\u001b[0;34m\u001b[0m\u001b[0m\n\u001b[0m\u001b[1;32m    537\u001b[0m \u001b[0;34m\u001b[0m\u001b[0m\n\u001b[1;32m    538\u001b[0m     \u001b[0mcheck_consistent_length\u001b[0m\u001b[0;34m(\u001b[0m\u001b[0my_true\u001b[0m\u001b[0;34m,\u001b[0m \u001b[0my_score\u001b[0m\u001b[0;34m,\u001b[0m \u001b[0msample_weight\u001b[0m\u001b[0;34m)\u001b[0m\u001b[0;34m\u001b[0m\u001b[0;34m\u001b[0m\u001b[0m\n",
      "\u001b[0;31mValueError\u001b[0m: continuous format is not supported"
     ]
    }
   ],
   "source": [
    "from sklearn.metrics import roc_curve\n",
    "import matplotlib.pyplot as plt\n",
    "\n",
    "y_true = [0, 0, 0, 0, 1, 1, 1, 1]\n",
    "y_score = [0.2, 0.3, 0.6, 0.8, 0.4, 0.5, 0.7, 0.9]\n",
    "\n",
    "y_true01 = []\n",
    "y_score01 = []\n",
    "for i in range(len(predict_positive_list)):\n",
    "    y_true01.append(predict_positive_list[i][0])\n",
    "    y_score01.append(1)\n",
    "for i  in range(len(predict_negative_list)):\n",
    "    y_true01.append(predict_negative_list[i][0])\n",
    "    y_score01.append(0)\n",
    "        \n",
    "y_true01 = list(y_true01)\n",
    "y_score01 = list(y_score01)\n",
    "\n",
    "#roc = roc_curve(y_true01, y_score01)\n",
    "\n",
    "#print(type(roc))\n",
    "# <class 'tuple'>\n",
    "\n",
    "#print(len(roc))\n",
    "# 3"
   ]
  },
  {
   "cell_type": "code",
   "execution_count": 40,
   "metadata": {},
   "outputs": [
    {
     "name": "stdout",
     "output_type": "stream",
     "text": [
      "[0.52052575, 0.52052575, 0.52052575, 0.52052575, 0.52052575, 0.52052575, 0.52052575, 0.52052575, 0.52052575, 0.52052575, 0.52052575, 0.52052575, 0.52052575, 0.52052575, 0.52052575, 0.52052575, 0.52052575, 0.52052575, 0.52052575, 0.52052575, 0.52052575, 0.52052575, 0.52052575, 0.52052575, 0.52052575, 0.52052575, 0.52052575, 0.52052575, 0.52052575, 0.52052575, 0.52052575, 0.52052575, 0.52052575, 0.52052575, 0.52052575, 0.52052575, 0.52052575, 0.52052575, 0.52052575, 0.52052575, 0.52052575, 0.52052575, 0.52052575, 0.52052575, 0.52052575, 0.52052575, 0.52052575, 0.52052575, 0.52052575, 0.52052575, 0.52052575, 0.52052575, 0.52052575, 0.52052575, 0.52052575, 0.52052575, 0.52052575, 0.52052575, 0.52052575, 0.52052575, 0.52052575, 0.52052575, 0.52052575, 0.52052575, 0.52052575, 0.52052575, 0.52052575, 0.52052575, 0.52052575, 0.52052575, 0.52052575, 0.52052575, 0.52052575, 0.52052575, 0.52052575, 0.52052575, 0.52052575, 0.52052575, 0.52052575]\n"
     ]
    }
   ],
   "source": [
    "print(y_true01)"
   ]
  },
  {
   "cell_type": "code",
   "execution_count": 41,
   "metadata": {
    "scrolled": true
   },
   "outputs": [
    {
     "data": {
      "text/plain": [
       "[1,\n",
       " 1,\n",
       " 1,\n",
       " 1,\n",
       " 1,\n",
       " 1,\n",
       " 1,\n",
       " 1,\n",
       " 1,\n",
       " 1,\n",
       " 1,\n",
       " 1,\n",
       " 1,\n",
       " 1,\n",
       " 1,\n",
       " 1,\n",
       " 1,\n",
       " 1,\n",
       " 1,\n",
       " 1,\n",
       " 1,\n",
       " 1,\n",
       " 1,\n",
       " 1,\n",
       " 1,\n",
       " 1,\n",
       " 1,\n",
       " 1,\n",
       " 1,\n",
       " 1,\n",
       " 1,\n",
       " 1,\n",
       " 1,\n",
       " 1,\n",
       " 1,\n",
       " 1,\n",
       " 1,\n",
       " 1,\n",
       " 1,\n",
       " 1,\n",
       " 1,\n",
       " 0,\n",
       " 0,\n",
       " 0,\n",
       " 0,\n",
       " 0,\n",
       " 0,\n",
       " 0,\n",
       " 0,\n",
       " 0,\n",
       " 0,\n",
       " 0,\n",
       " 0,\n",
       " 0,\n",
       " 0,\n",
       " 0,\n",
       " 0,\n",
       " 0,\n",
       " 0,\n",
       " 0,\n",
       " 0,\n",
       " 0,\n",
       " 0,\n",
       " 0,\n",
       " 0,\n",
       " 0,\n",
       " 0,\n",
       " 0,\n",
       " 0,\n",
       " 0,\n",
       " 0,\n",
       " 0,\n",
       " 0,\n",
       " 0,\n",
       " 0,\n",
       " 0,\n",
       " 0,\n",
       " 0,\n",
       " 0]"
      ]
     },
     "execution_count": 41,
     "metadata": {},
     "output_type": "execute_result"
    }
   ],
   "source": [
    "y_score01"
   ]
  },
  {
   "cell_type": "code",
   "execution_count": 36,
   "metadata": {},
   "outputs": [
    {
     "ename": "ValueError",
     "evalue": "continuous format is not supported",
     "output_type": "error",
     "traceback": [
      "\u001b[0;31m---------------------------------------------------------------------------\u001b[0m",
      "\u001b[0;31mValueError\u001b[0m                                Traceback (most recent call last)",
      "\u001b[0;32m<ipython-input-36-ec463b2a5b67>\u001b[0m in \u001b[0;36m<module>\u001b[0;34m\u001b[0m\n\u001b[0;32m----> 1\u001b[0;31m \u001b[0mfpr\u001b[0m\u001b[0;34m,\u001b[0m \u001b[0mtpr\u001b[0m\u001b[0;34m,\u001b[0m \u001b[0mthresholds\u001b[0m \u001b[0;34m=\u001b[0m \u001b[0mroc_curve\u001b[0m\u001b[0;34m(\u001b[0m\u001b[0my_true01\u001b[0m\u001b[0;34m,\u001b[0m \u001b[0my_score01\u001b[0m\u001b[0;34m)\u001b[0m\u001b[0;34m\u001b[0m\u001b[0;34m\u001b[0m\u001b[0m\n\u001b[0m\u001b[1;32m      2\u001b[0m \u001b[0;34m\u001b[0m\u001b[0m\n\u001b[1;32m      3\u001b[0m \u001b[0mprint\u001b[0m\u001b[0;34m(\u001b[0m\u001b[0mfpr\u001b[0m\u001b[0;34m)\u001b[0m\u001b[0;34m\u001b[0m\u001b[0;34m\u001b[0m\u001b[0m\n\u001b[1;32m      4\u001b[0m \u001b[0;31m# [0.   0.   0.25 0.25 0.5  0.5  1.  ]\u001b[0m\u001b[0;34m\u001b[0m\u001b[0;34m\u001b[0m\u001b[0;34m\u001b[0m\u001b[0m\n\u001b[1;32m      5\u001b[0m \u001b[0;34m\u001b[0m\u001b[0m\n",
      "\u001b[0;32m~/anaconda3/lib/python3.7/site-packages/sklearn/metrics/_ranking.py\u001b[0m in \u001b[0;36mroc_curve\u001b[0;34m(y_true, y_score, pos_label, sample_weight, drop_intermediate)\u001b[0m\n\u001b[1;32m    769\u001b[0m     \"\"\"\n\u001b[1;32m    770\u001b[0m     fps, tps, thresholds = _binary_clf_curve(\n\u001b[0;32m--> 771\u001b[0;31m         y_true, y_score, pos_label=pos_label, sample_weight=sample_weight)\n\u001b[0m\u001b[1;32m    772\u001b[0m \u001b[0;34m\u001b[0m\u001b[0m\n\u001b[1;32m    773\u001b[0m     \u001b[0;31m# Attempt to drop thresholds corresponding to points in between and\u001b[0m\u001b[0;34m\u001b[0m\u001b[0;34m\u001b[0m\u001b[0;34m\u001b[0m\u001b[0m\n",
      "\u001b[0;32m~/anaconda3/lib/python3.7/site-packages/sklearn/metrics/_ranking.py\u001b[0m in \u001b[0;36m_binary_clf_curve\u001b[0;34m(y_true, y_score, pos_label, sample_weight)\u001b[0m\n\u001b[1;32m    534\u001b[0m     if not (y_type == \"binary\" or\n\u001b[1;32m    535\u001b[0m             (y_type == \"multiclass\" and pos_label is not None)):\n\u001b[0;32m--> 536\u001b[0;31m         \u001b[0;32mraise\u001b[0m \u001b[0mValueError\u001b[0m\u001b[0;34m(\u001b[0m\u001b[0;34m\"{0} format is not supported\"\u001b[0m\u001b[0;34m.\u001b[0m\u001b[0mformat\u001b[0m\u001b[0;34m(\u001b[0m\u001b[0my_type\u001b[0m\u001b[0;34m)\u001b[0m\u001b[0;34m)\u001b[0m\u001b[0;34m\u001b[0m\u001b[0;34m\u001b[0m\u001b[0m\n\u001b[0m\u001b[1;32m    537\u001b[0m \u001b[0;34m\u001b[0m\u001b[0m\n\u001b[1;32m    538\u001b[0m     \u001b[0mcheck_consistent_length\u001b[0m\u001b[0;34m(\u001b[0m\u001b[0my_true\u001b[0m\u001b[0;34m,\u001b[0m \u001b[0my_score\u001b[0m\u001b[0;34m,\u001b[0m \u001b[0msample_weight\u001b[0m\u001b[0;34m)\u001b[0m\u001b[0;34m\u001b[0m\u001b[0;34m\u001b[0m\u001b[0m\n",
      "\u001b[0;31mValueError\u001b[0m: continuous format is not supported"
     ]
    }
   ],
   "source": [
    "fpr, tpr, thresholds = roc_curve(y_true01, y_score01)\n",
    "\n",
    "print(fpr)\n",
    "# [0.   0.   0.25 0.25 0.5  0.5  1.  ]\n",
    "\n",
    "print(tpr)\n",
    "# [0.   0.25 0.25 0.5  0.5  1.   1.  ]\n",
    "\n",
    "print(thresholds)\n",
    "# [1.9 0.9 0.8 0.7 0.6 0.4 0.2]"
   ]
  },
  {
   "cell_type": "code",
   "execution_count": 42,
   "metadata": {},
   "outputs": [],
   "source": [
    "fpr = [0, 1]\n",
    "tpr = [0, 1]"
   ]
  },
  {
   "cell_type": "code",
   "execution_count": 43,
   "metadata": {},
   "outputs": [
    {
     "data": {
      "image/png": "[encoded data removed]",
      "text/plain": [
       "<Figure size 432x288 with 1 Axes>"
      ]
     },
     "metadata": {
      "needs_background": "light"
     },
     "output_type": "display_data"
    }
   ],
   "source": [
    "plt.plot(fpr, tpr, marker='o')\n",
    "plt.xlabel('FPR: False positive rate')\n",
    "plt.ylabel('TPR: True positive rate')\n",
    "plt.grid()\n",
    "#plt.savefig('data/dst/sklearn_roc_curve.png')"
   ]
  },
  {
   "cell_type": "markdown",
   "metadata": {},
   "source": [
    "# 感度（再現率），特異度，精度（適合度），正確度を計算する．"
   ]
  },
  {
   "cell_type": "code",
   "execution_count": 26,
   "metadata": {},
   "outputs": [],
   "source": [
    "true_p = 0\n",
    "false_n = 0\n",
    "total_posi_data = len(predict_positive_list)\n",
    "\n",
    "false_p = 0\n",
    "true_n = 0\n",
    "total_nega_data = len(predict_negative_list)\n",
    "\n",
    "for i in range(total_posi_data):\n",
    "    if predict_positive_list[i][0] > predict_positive_list[i][1]:\n",
    "        true_p = true_p + 1\n",
    "    else:\n",
    "        false_n = false_n + 1\n",
    "for i in range(total_nega_data):\n",
    "    if predict_negative_list[i][0] < predict_negative_list[i][1]:\n",
    "        turue_n = false_n + 1\n",
    "    else:\n",
    "        false_p = false_p + 1\n",
    "    \n",
    "sensitivity = true_p/total_posi_data\n",
    "specificity = true_n/total_nega_data\n",
    "\n",
    "precision = true_p/(true_p+false_p)\n",
    "accuracy = (true_p+true_n)/(total_posi_data+total_nega_data)"
   ]
  },
  {
   "cell_type": "code",
   "execution_count": 27,
   "metadata": {},
   "outputs": [
    {
     "name": "stdout",
     "output_type": "stream",
     "text": [
      "41\n",
      "0\n",
      "38\n",
      "0\n"
     ]
    }
   ],
   "source": [
    "print(true_p)\n",
    "print(false_n)\n",
    "print(false_p)\n",
    "print(true_n)"
   ]
  },
  {
   "cell_type": "code",
   "execution_count": 28,
   "metadata": {},
   "outputs": [
    {
     "data": {
      "text/html": [
       "<div>\n",
       "<style scoped>\n",
       "    .dataframe tbody tr th:only-of-type {\n",
       "        vertical-align: middle;\n",
       "    }\n",
       "\n",
       "    .dataframe tbody tr th {\n",
       "        vertical-align: top;\n",
       "    }\n",
       "\n",
       "    .dataframe thead th {\n",
       "        text-align: right;\n",
       "    }\n",
       "</style>\n",
       "<table border=\"1\" class=\"dataframe\">\n",
       "  <thead>\n",
       "    <tr style=\"text-align: right;\">\n",
       "      <th></th>\n",
       "      <th>予測（開裂）</th>\n",
       "      <th>予測（非開裂）</th>\n",
       "    </tr>\n",
       "  </thead>\n",
       "  <tbody>\n",
       "    <tr>\n",
       "      <th>実際（開裂）</th>\n",
       "      <td>41</td>\n",
       "      <td>0</td>\n",
       "    </tr>\n",
       "    <tr>\n",
       "      <th>実際（非開裂）</th>\n",
       "      <td>38</td>\n",
       "      <td>0</td>\n",
       "    </tr>\n",
       "  </tbody>\n",
       "</table>\n",
       "</div>"
      ],
      "text/plain": [
       "         予測（開裂）  予測（非開裂）\n",
       "実際（開裂）       41        0\n",
       "実際（非開裂）      38        0"
      ]
     },
     "execution_count": 28,
     "metadata": {},
     "output_type": "execute_result"
    }
   ],
   "source": [
    "df_table02 = pd.DataFrame(\n",
    "    data={'予測（開裂）': [41, 38], \n",
    "          '予測（非開裂）': [0, 0]},\n",
    "    index=['実際（開裂）', '実際（非開裂）']\n",
    ")\n",
    " \n",
    "df_table02"
   ]
  },
  {
   "cell_type": "code",
   "execution_count": 83,
   "metadata": {},
   "outputs": [
    {
     "name": "stdout",
     "output_type": "stream",
     "text": [
      "1.0\n",
      "0.0\n",
      "0.5189873417721519\n",
      "0.5189873417721519\n"
     ]
    }
   ],
   "source": [
    "print(sensitivity)\n",
    "print(specificity)\n",
    "print(precision)\n",
    "print(accuracy)"
   ]
  },
  {
   "cell_type": "code",
   "execution_count": 76,
   "metadata": {},
   "outputs": [
    {
     "name": "stdout",
     "output_type": "stream",
     "text": [
      "Saved trained model at ./model_saving/20220731-232944_FC02 \n"
     ]
    }
   ],
   "source": [
    "#saving the model.\n",
    "save_dir = \"./saving_model/\"\n",
    "model_name = datetime.datetime.now().strftime(\"%Y%m%d-%H%M%S_FC02\")\n",
    "if not os.path.isdir(save_dir):\n",
    "    os.makedirs(save_dir)\n",
    "model_path = os.path.join(save_dir, model_name)\n",
    "model.save(model_path)\n",
    "print('Saved trained model at %s ' % model_path)"
   ]
  },
  {
   "cell_type": "code",
   "execution_count": 21,
   "metadata": {},
   "outputs": [],
   "source": [
    "model = load_model(\"./saving_model/20220731-232944_FC02\")"
   ]
  },
  {
   "cell_type": "markdown",
   "metadata": {},
   "source": [
    "## CNN various experiment"
   ]
  },
  {
   "cell_type": "code",
   "execution_count": 40,
   "metadata": {},
   "outputs": [],
   "source": [
    "#Vurnum = 実験番号\n",
    "Vernum = 92"
   ]
  },
  {
   "cell_type": "code",
   "execution_count": 53,
   "metadata": {
    "scrolled": true
   },
   "outputs": [
    {
     "name": "stdout",
     "output_type": "stream",
     "text": [
      "Model: \"sequential_4\"\n",
      "_________________________________________________________________\n",
      "Layer (type)                 Output Shape              Param #   \n",
      "=================================================================\n",
      "Conv2D_01 (Conv2D)           (None, 1, 5, 10)          570       \n",
      "_________________________________________________________________\n",
      "Flatten_01 (Flatten)         (None, 50)                0         \n",
      "_________________________________________________________________\n",
      "Denese_02 (Dense)            (None, 10)                510       \n",
      "_________________________________________________________________\n",
      "Dense_out (Dense)            (None, 2)                 22        \n",
      "_________________________________________________________________\n",
      "activation_4 (Activation)    (None, 2)                 0         \n",
      "=================================================================\n",
      "Total params: 1,102\n",
      "Trainable params: 1,102\n",
      "Non-trainable params: 0\n",
      "_________________________________________________________________\n",
      "\n",
      "Epoch 00001: val_loss improved from inf to 0.65646, saving model to ../callbacks/92_01-0.6565.hdf5\n",
      "\n",
      "Epoch 00002: val_loss improved from 0.65646 to 0.57341, saving model to ../callbacks/92_02-0.5734.hdf5\n",
      "\n",
      "Epoch 00003: val_loss improved from 0.57341 to 0.52797, saving model to ../callbacks/92_03-0.5280.hdf5\n",
      "\n",
      "Epoch 00004: val_loss improved from 0.52797 to 0.48667, saving model to ../callbacks/92_04-0.4867.hdf5\n",
      "\n",
      "Epoch 00005: val_loss did not improve from 0.48667\n",
      "\n",
      "Epoch 00006: val_loss improved from 0.48667 to 0.48649, saving model to ../callbacks/92_06-0.4865.hdf5\n",
      "\n",
      "Epoch 00007: val_loss improved from 0.48649 to 0.46779, saving model to ../callbacks/92_07-0.4678.hdf5\n",
      "\n",
      "Epoch 00008: val_loss improved from 0.46779 to 0.44842, saving model to ../callbacks/92_08-0.4484.hdf5\n",
      "\n",
      "Epoch 00009: val_loss did not improve from 0.44842\n",
      "\n",
      "Epoch 00010: val_loss improved from 0.44842 to 0.44406, saving model to ../callbacks/92_10-0.4441.hdf5\n",
      "\n",
      "Epoch 00011: val_loss did not improve from 0.44406\n",
      "\n",
      "Epoch 00012: val_loss did not improve from 0.44406\n",
      "\n",
      "Epoch 00013: val_loss did not improve from 0.44406\n",
      "\n",
      "Epoch 00014: val_loss did not improve from 0.44406\n",
      "\n",
      "Epoch 00015: val_loss did not improve from 0.44406\n",
      "\n",
      "Epoch 00016: val_loss did not improve from 0.44406\n",
      "\n",
      "Epoch 00017: val_loss improved from 0.44406 to 0.43773, saving model to ../callbacks/92_17-0.4377.hdf5\n",
      "\n",
      "Epoch 00018: val_loss did not improve from 0.43773\n",
      "\n",
      "Epoch 00019: val_loss did not improve from 0.43773\n",
      "\n",
      "Epoch 00020: val_loss improved from 0.43773 to 0.42487, saving model to ../callbacks/92_20-0.4249.hdf5\n",
      "\n",
      "Epoch 00021: val_loss improved from 0.42487 to 0.39621, saving model to ../callbacks/92_21-0.3962.hdf5\n",
      "\n",
      "Epoch 00022: val_loss did not improve from 0.39621\n",
      "\n",
      "Epoch 00023: val_loss improved from 0.39621 to 0.39537, saving model to ../callbacks/92_23-0.3954.hdf5\n",
      "\n",
      "Epoch 00024: val_loss improved from 0.39537 to 0.36184, saving model to ../callbacks/92_24-0.3618.hdf5\n",
      "\n",
      "Epoch 00025: val_loss did not improve from 0.36184\n",
      "\n",
      "Epoch 00026: val_loss did not improve from 0.36184\n",
      "\n",
      "Epoch 00027: val_loss improved from 0.36184 to 0.33842, saving model to ../callbacks/92_27-0.3384.hdf5\n",
      "\n",
      "Epoch 00028: val_loss did not improve from 0.33842\n",
      "\n",
      "Epoch 00029: val_loss did not improve from 0.33842\n",
      "\n",
      "Epoch 00030: val_loss did not improve from 0.33842\n",
      "\n",
      "Epoch 00031: val_loss did not improve from 0.33842\n",
      "\n",
      "Epoch 00032: val_loss did not improve from 0.33842\n",
      "\n",
      "Epoch 00033: val_loss did not improve from 0.33842\n",
      "\n",
      "Epoch 00034: val_loss did not improve from 0.33842\n",
      "\n",
      "Epoch 00035: val_loss did not improve from 0.33842\n",
      "\n",
      "Epoch 00036: val_loss did not improve from 0.33842\n",
      "\n",
      "Epoch 00037: val_loss did not improve from 0.33842\n",
      "\n",
      "Epoch 00038: val_loss did not improve from 0.33842\n",
      "\n",
      "Epoch 00039: val_loss did not improve from 0.33842\n",
      "\n",
      "Epoch 00040: val_loss did not improve from 0.33842\n",
      "\n",
      "Epoch 00041: val_loss did not improve from 0.33842\n",
      "\n",
      "Epoch 00042: val_loss did not improve from 0.33842\n",
      "\n",
      "Epoch 00043: val_loss did not improve from 0.33842\n",
      "\n",
      "Epoch 00044: val_loss did not improve from 0.33842\n",
      "\n",
      "Epoch 00045: val_loss did not improve from 0.33842\n",
      "\n",
      "Epoch 00046: val_loss did not improve from 0.33842\n",
      "\n",
      "Epoch 00047: val_loss did not improve from 0.33842\n",
      "\n",
      "Epoch 00048: val_loss did not improve from 0.33842\n",
      "\n",
      "Epoch 00049: val_loss did not improve from 0.33842\n",
      "\n",
      "Epoch 00050: val_loss did not improve from 0.33842\n",
      "\n",
      "Epoch 00051: val_loss did not improve from 0.33842\n",
      "\n",
      "Epoch 00052: val_loss did not improve from 0.33842\n",
      "\n",
      "Epoch 00053: val_loss did not improve from 0.33842\n",
      "\n",
      "Epoch 00054: val_loss did not improve from 0.33842\n",
      "\n",
      "Epoch 00055: val_loss did not improve from 0.33842\n",
      "\n",
      "Epoch 00056: val_loss did not improve from 0.33842\n",
      "\n",
      "Epoch 00057: val_loss did not improve from 0.33842\n",
      "\n",
      "Epoch 00058: val_loss did not improve from 0.33842\n",
      "\n",
      "Epoch 00059: val_loss did not improve from 0.33842\n",
      "\n",
      "Epoch 00060: val_loss did not improve from 0.33842\n",
      "\n",
      "Epoch 00061: val_loss did not improve from 0.33842\n",
      "\n",
      "Epoch 00062: val_loss did not improve from 0.33842\n",
      "\n",
      "Epoch 00063: val_loss did not improve from 0.33842\n",
      "\n",
      "Epoch 00064: val_loss did not improve from 0.33842\n",
      "\n",
      "Epoch 00065: val_loss did not improve from 0.33842\n",
      "\n",
      "Epoch 00066: val_loss did not improve from 0.33842\n",
      "\n",
      "Epoch 00067: val_loss did not improve from 0.33842\n",
      "\n",
      "Epoch 00068: val_loss did not improve from 0.33842\n",
      "\n",
      "Epoch 00069: val_loss did not improve from 0.33842\n",
      "\n",
      "Epoch 00070: val_loss did not improve from 0.33842\n",
      "\n",
      "Epoch 00071: val_loss did not improve from 0.33842\n",
      "\n",
      "Epoch 00072: val_loss did not improve from 0.33842\n",
      "\n",
      "Epoch 00073: val_loss did not improve from 0.33842\n",
      "\n",
      "Epoch 00074: val_loss did not improve from 0.33842\n",
      "\n",
      "Epoch 00075: val_loss did not improve from 0.33842\n",
      "\n",
      "Epoch 00076: val_loss did not improve from 0.33842\n",
      "\n",
      "Epoch 00077: val_loss did not improve from 0.33842\n",
      "\n",
      "Epoch 00078: val_loss did not improve from 0.33842\n",
      "\n",
      "Epoch 00079: val_loss did not improve from 0.33842\n",
      "\n",
      "Epoch 00080: val_loss did not improve from 0.33842\n",
      "\n",
      "Epoch 00081: val_loss did not improve from 0.33842\n",
      "\n",
      "Epoch 00082: val_loss did not improve from 0.33842\n",
      "\n",
      "Epoch 00083: val_loss did not improve from 0.33842\n",
      "\n",
      "Epoch 00084: val_loss did not improve from 0.33842\n",
      "\n",
      "Epoch 00085: val_loss did not improve from 0.33842\n",
      "\n",
      "Epoch 00086: val_loss did not improve from 0.33842\n",
      "\n",
      "Epoch 00087: val_loss did not improve from 0.33842\n",
      "\n",
      "Epoch 00088: val_loss did not improve from 0.33842\n",
      "\n",
      "Epoch 00089: val_loss did not improve from 0.33842\n",
      "\n",
      "Epoch 00090: val_loss did not improve from 0.33842\n",
      "\n",
      "Epoch 00091: val_loss did not improve from 0.33842\n",
      "\n",
      "Epoch 00092: val_loss did not improve from 0.33842\n",
      "\n",
      "Epoch 00093: val_loss did not improve from 0.33842\n",
      "\n",
      "Epoch 00094: val_loss did not improve from 0.33842\n",
      "\n",
      "Epoch 00095: val_loss did not improve from 0.33842\n",
      "\n",
      "Epoch 00096: val_loss did not improve from 0.33842\n",
      "\n",
      "Epoch 00097: val_loss did not improve from 0.33842\n",
      "\n",
      "Epoch 00098: val_loss did not improve from 0.33842\n",
      "\n",
      "Epoch 00099: val_loss did not improve from 0.33842\n",
      "\n",
      "Epoch 00100: val_loss did not improve from 0.33842\n",
      "<class 'tensorflow.python.keras.callbacks.History'>\n",
      "<class 'dict'>\n",
      "dict_keys(['loss', 'acc', 'val_loss', 'val_acc'])\n",
      "[5.208110673194428, 0.6470191647953791, 0.5500166794103026, 0.5052350250892459, 0.4861649110302188, 0.5285046939218082, 0.5071701283334558, 0.4464401284978969, 0.4494203836759934, 0.4529333568709882, 0.4495059473657458, 0.4747225078122473, 0.45986016419031644, 0.4661517291791055, 0.43465691588654504, 0.42439769984043735, 0.4407486736962472, 0.38175783868091717, 0.4475032362840153, 0.38361394395963627, 0.3766940649751609, 0.38321430412376717, 0.3911156225655733, 0.3648226015763328, 0.35596690305776024, 0.3716055686917591, 0.3554109356568815, 0.35506361638333894, 0.35422704479295747, 0.35281475607529045, 0.35343080288980283, 0.3291398754067225, 0.3515912274644954, 0.33463596789994826, 0.36280732472612276, 0.32565251754285407, 0.32182403947652705, 0.36019069764892386, 0.3248919903855971, 0.32034748228566506, 0.31222416427609295, 0.35843896941055636, 0.3241582544820166, 0.32138980826368846, 0.29617626814624115, 0.29894653902820983, 0.3178198903517016, 0.2835405103697762, 0.29672100369110466, 0.29934131394049346, 0.2984250362739202, 0.2893006195217277, 0.29419440848970263, 0.28315222437261406, 0.2923602467455699, 0.2917093232227049, 0.29107297237739205, 0.28706634274980625, 0.2896993495876481, 0.2907793378980378, 0.2759492485681167, 0.2750179838118869, 0.2614196079198494, 0.2633009492786901, 0.27289460387891773, 0.27718444680941967, 0.2773558295299578, 0.2673754117654325, 0.3172335724349278, 0.26551328839187743, 0.2556396659334375, 0.2615164866206774, 0.2685839773540617, 0.2869392869412335, 0.2970130823858153, 0.2515914674719049, 0.2711435878878512, 0.25286685837556133, 0.2549069006266278, 0.2676003294224243, 0.30542600011505916, 0.25337392994282, 0.2515141263087089, 0.24487258649022797, 0.2445794348649046, 0.2295862365314261, 0.25226021001015553, 0.24258843477968162, 0.2341020218205377, 0.22586849195536002, 0.22799191226718554, 0.272450581004943, 0.2672291484070877, 0.230998847762869, 0.22989052254412828, 0.2375346806711203, 0.224672038284386, 0.2199181245892582, 0.2474089613660277, 0.2791536606448682]\n",
      "[0.49211356, 0.52996844, 0.659306, 0.71924293, 0.725552, 0.7287066, 0.71924293, 0.7570978, 0.72239745, 0.7444795, 0.725552, 0.69085175, 0.74763405, 0.7570978, 0.77602524, 0.76025236, 0.7444795, 0.7823344, 0.8170347, 0.829653, 0.807571, 0.8328076, 0.79810727, 0.81388015, 0.8170347, 0.78548896, 0.8328076, 0.8359621, 0.8643533, 0.8201893, 0.8328076, 0.8485804, 0.8611987, 0.84227127, 0.8485804, 0.8643533, 0.85804415, 0.84227127, 0.8611987, 0.8675079, 0.88643533, 0.8548896, 0.8675079, 0.8611987, 0.89589906, 0.89589906, 0.8895899, 0.89589906, 0.88643533, 0.8769716, 0.9022082, 0.88643533, 0.8895899, 0.89905363, 0.8927445, 0.8895899, 0.8895899, 0.8895899, 0.88643533, 0.8927445, 0.89905363, 0.9053628, 0.9053628, 0.91167194, 0.89589906, 0.8895899, 0.89589906, 0.9022082, 0.873817, 0.89905363, 0.9053628, 0.89905363, 0.89905363, 0.88328075, 0.8895899, 0.91167194, 0.91167194, 0.90851736, 0.9022082, 0.90851736, 0.873817, 0.9053628, 0.89905363, 0.91167194, 0.90851736, 0.92113566, 0.9053628, 0.92113566, 0.9148265, 0.92113566, 0.9274448, 0.88328075, 0.88643533, 0.9179811, 0.91167194, 0.9148265, 0.9179811, 0.92113566, 0.89905363, 0.88328075]\n",
      "[0.6564560333887736, 0.5734089505978119, 0.5279688078623551, 0.48666836818059284, 0.48965023419795894, 0.48648598102422863, 0.46778978598423493, 0.44842037787804234, 0.47486135134330165, 0.4440585909745632, 0.46027412704932386, 0.46065749877538437, 0.5581980439332815, 0.45546838564750475, 0.4724886837678078, 0.4497326604830913, 0.4377299929276491, 0.4696383216442206, 0.4411396239048395, 0.42486930046326077, 0.3962118006669558, 0.4341742663811415, 0.39536891151697207, 0.3618373855566367, 0.42562817151729876, 0.4126854225611075, 0.33841735201004225, 0.3783486424348293, 0.39448173076678544, 0.3722761861788921, 0.3689710394694255, 0.3946440235162393, 0.3620259914642725, 0.36807811183807176, 0.41585969313597065, 0.4805286114032452, 0.3855078312066885, 0.36744949756524503, 0.34443983282798374, 0.37018466148621, 0.3862146578538112, 0.4015046526224185, 0.40144100938087857, 0.3811454153977908, 0.40712384230051285, 0.36771271931819427, 0.45807719918397755, 0.47619582368777347, 0.3673629898291368, 0.4207908939092587, 0.3900051262134161, 0.41451704807770556, 0.45482397079467773, 0.42317005074941194, 0.4015639011676495, 0.3747598265226071, 0.39856831691203976, 0.43972545632949245, 0.4578266136157207, 0.411503961453071, 0.43854351074267656, 0.45290508980934435, 0.49590880137223464, 0.6399729312994541, 0.5860651914889996, 0.5648098324353878, 0.5540241194077027, 0.6510047010886364, 0.5245351409300779, 0.61265296737353, 0.6566188564667335, 0.5870265227097732, 0.5488673922343131, 0.5491888874616379, 0.570770725225791, 0.6600281045987055, 0.6001071395018162, 0.513144368544603, 0.6244502143982129, 0.6742763534570352, 0.5857119679642029, 0.6552811494240394, 0.7445211762037033, 0.6654365849800599, 0.6452846488891504, 0.7426745830438076, 0.6755962620178858, 0.6923918609435742, 0.6860246444359804, 0.6650983889897665, 0.7970769772162805, 0.6828575118994101, 0.7166465230477161, 0.7901796988951855, 0.7934494752150315, 0.7287286092073489, 0.7983812491099039, 0.8427957850388992, 0.8190143444599249, 0.5873559400057181]\n",
      "[0.51282054, 0.74358976, 0.7051282, 0.67948717, 0.74358976, 0.7692308, 0.75641024, 0.7948718, 0.74358976, 0.74358976, 0.75641024, 0.7692308, 0.74358976, 0.7051282, 0.7307692, 0.75641024, 0.71794873, 0.74358976, 0.74358976, 0.7948718, 0.7948718, 0.8333333, 0.7692308, 0.82051283, 0.7307692, 0.7948718, 0.7948718, 0.8076923, 0.7948718, 0.78205127, 0.7948718, 0.78205127, 0.8076923, 0.7948718, 0.75641024, 0.7307692, 0.7948718, 0.8076923, 0.8076923, 0.78205127, 0.75641024, 0.74358976, 0.7307692, 0.7692308, 0.7307692, 0.75641024, 0.71794873, 0.7692308, 0.75641024, 0.78205127, 0.74358976, 0.75641024, 0.75641024, 0.75641024, 0.7692308, 0.75641024, 0.7692308, 0.71794873, 0.78205127, 0.7692308, 0.75641024, 0.78205127, 0.78205127, 0.82051283, 0.8076923, 0.7948718, 0.7692308, 0.6923077, 0.7948718, 0.7692308, 0.78205127, 0.8076923, 0.7692308, 0.7692308, 0.8076923, 0.67948717, 0.7692308, 0.7692308, 0.7948718, 0.7948718, 0.82051283, 0.74358976, 0.7692308, 0.75641024, 0.7692308, 0.74358976, 0.78205127, 0.78205127, 0.7948718, 0.8333333, 0.7948718, 0.75641024, 0.78205127, 0.7692308, 0.75641024, 0.75641024, 0.7692308, 0.82051283, 0.78205127, 0.71794873]\n"
     ]
    }
   ],
   "source": [
    "#訓練データ\n",
    "x_train = x_train_all\n",
    "y_train = y_train_all\n",
    "\n",
    "#検証データ\n",
    "x_val = x_train_all_5crossval \n",
    "y_val = y_train_all_5crossval \n",
    "\n",
    "i=4 #Kernel width\n",
    "j=10 #the number of Filters\n",
    "k=10 #the number of hidden layers\n",
    "m=32 #Batch size\n",
    "n=100 #epochs\n",
    "\n",
    "\n",
    "#old_session = KTF.get_session()\n",
    "#session = tf.Session('')\n",
    "#KTF.set_session(session)\n",
    "#KTF.set_learning_phase(1)\n",
    "\n",
    "#modelの定義の前に重みのリセットが必要で，これ？\n",
    "tf.compat.v1.Session()\n",
    "#sess = tf.compat.v1.Session()\n",
    "\n",
    "#モデル構築\n",
    "model = Sequential()\n",
    "model.add(Conv2D(filters=j, kernel_size=(14, i), strides=(1, 1), padding='valid', \n",
    "                 data_format=\"channels_last\", dilation_rate=(1, 1), activation='relu', \n",
    "                 use_bias=True, input_shape=(14, 8, 1), kernel_initializer='glorot_uniform', \n",
    "                 bias_initializer='zeros',  name='Conv2D_01'))\n",
    "#model.add(MaxPooling2D(pool_size=(2, 2), strides=None, padding='valid', data_format=None, \n",
    "#                       name='MaxPooling2D_01'))\n",
    "model.add(Flatten(name='Flatten_01'))\n",
    "#model.add(Dropout(0.50))\n",
    "model.add(Dense(units=k, name='Denese_02', activation='relu'))\n",
    "#model.add(Dense(units=50, name='Dense_01', activation='relu')\n",
    "#model.add(Dense(units=10, name='Denese_03', activation='relu'))\n",
    "model.add(Dense(units=2, name='Dense_out'))\n",
    "model.add(Activation('softmax'))\n",
    "\n",
    "#モデルの構造を表示\n",
    "model.summary()\n",
    "\n",
    "#訓練（学習）プロセスの設定\n",
    "model.compile(optimizer='sgd', loss='categorical_crossentropy', metrics=['accuracy'])\n",
    "\n",
    "\n",
    "\n",
    "#バリデーションロスが減少した場合に，各エポック終了後，モデルの重みを保存します\n",
    "#checkpointer = ModelCheckpoint(filepath='./weights.hdf5', verbose=0, save_best_only=True, save_format=\"h5\")\n",
    "### add for TensorBoard\n",
    "erly_stpg = EarlyStopping(patience=10, verbose=1,monitor='val_loss' , mode = 'min') \n",
    "chkfile = './callbacks/' + '{0:2d}'.format(Vernum)+'_{epoch:02d}-{val_loss:.4f}.hdf5' #format関数\n",
    "check_point = ModelCheckpoint(filepath = chkfile, monitor='val_loss', verbose=1, save_best_only=True, mode='min')\n",
    "check_point = [check_point]\n",
    "\n",
    "log_dir = \"log/\" + datetime.datetime.now().strftime(\"%Y%m%d-%H%M%S\")\n",
    "tensorboard_callback = tf.keras.callbacks.TensorBoard(log_dir=log_dir, histogram_freq=1)\n",
    "cbks=[tensorboard_callback]\n",
    "\n",
    "#訓練の実行 \n",
    "NUM_BATCH=m\n",
    "NUM_EPOCHS=n\n",
    "\n",
    "#history = model.fit(x_train, y_train, batch_size=NUM_BATCH, epochs=NUM_EPOCHS, validation_split=0.2, shuffle = True ,\n",
    "#                    callbacks=[erly_stpg , chck_pont], verbose = 0, )\n",
    "history = model.fit(x_train, y_train, batch_size=NUM_BATCH, epochs=NUM_EPOCHS, \n",
    "                    validation_split=0.2, shuffle = True, verbose = 0,\n",
    "                    callbacks=check_point,\n",
    "                   validation_data=(x_val, y_val))\n",
    "\n",
    "print(type(history))\n",
    "print(type(history.history))\n",
    "print(history.history.keys())\n",
    "print(history.history['loss'])\n",
    "print(history.history['acc'])\n",
    "print(history.history['val_loss'])\n",
    "print(history.history['val_acc'])"
   ]
  },
  {
   "cell_type": "code",
   "execution_count": 55,
   "metadata": {},
   "outputs": [
    {
     "data": {
      "text/html": [
       "<div>\n",
       "<style scoped>\n",
       "    .dataframe tbody tr th:only-of-type {\n",
       "        vertical-align: middle;\n",
       "    }\n",
       "\n",
       "    .dataframe tbody tr th {\n",
       "        vertical-align: top;\n",
       "    }\n",
       "\n",
       "    .dataframe thead th {\n",
       "        text-align: right;\n",
       "    }\n",
       "</style>\n",
       "<table border=\"1\" class=\"dataframe\">\n",
       "  <thead>\n",
       "    <tr style=\"text-align: right;\">\n",
       "      <th></th>\n",
       "      <th>loss</th>\n",
       "      <th>acc</th>\n",
       "      <th>val_loss</th>\n",
       "      <th>val_acc</th>\n",
       "    </tr>\n",
       "  </thead>\n",
       "  <tbody>\n",
       "    <tr>\n",
       "      <th>0</th>\n",
       "      <td>5.208111</td>\n",
       "      <td>0.492114</td>\n",
       "      <td>0.656456</td>\n",
       "      <td>0.512821</td>\n",
       "    </tr>\n",
       "    <tr>\n",
       "      <th>1</th>\n",
       "      <td>0.647019</td>\n",
       "      <td>0.529968</td>\n",
       "      <td>0.573409</td>\n",
       "      <td>0.743590</td>\n",
       "    </tr>\n",
       "    <tr>\n",
       "      <th>2</th>\n",
       "      <td>0.550017</td>\n",
       "      <td>0.659306</td>\n",
       "      <td>0.527969</td>\n",
       "      <td>0.705128</td>\n",
       "    </tr>\n",
       "    <tr>\n",
       "      <th>3</th>\n",
       "      <td>0.505235</td>\n",
       "      <td>0.719243</td>\n",
       "      <td>0.486668</td>\n",
       "      <td>0.679487</td>\n",
       "    </tr>\n",
       "    <tr>\n",
       "      <th>4</th>\n",
       "      <td>0.486165</td>\n",
       "      <td>0.725552</td>\n",
       "      <td>0.489650</td>\n",
       "      <td>0.743590</td>\n",
       "    </tr>\n",
       "    <tr>\n",
       "      <th>...</th>\n",
       "      <td>...</td>\n",
       "      <td>...</td>\n",
       "      <td>...</td>\n",
       "      <td>...</td>\n",
       "    </tr>\n",
       "    <tr>\n",
       "      <th>95</th>\n",
       "      <td>0.237535</td>\n",
       "      <td>0.914827</td>\n",
       "      <td>0.728729</td>\n",
       "      <td>0.756410</td>\n",
       "    </tr>\n",
       "    <tr>\n",
       "      <th>96</th>\n",
       "      <td>0.224672</td>\n",
       "      <td>0.917981</td>\n",
       "      <td>0.798381</td>\n",
       "      <td>0.769231</td>\n",
       "    </tr>\n",
       "    <tr>\n",
       "      <th>97</th>\n",
       "      <td>0.219918</td>\n",
       "      <td>0.921136</td>\n",
       "      <td>0.842796</td>\n",
       "      <td>0.820513</td>\n",
       "    </tr>\n",
       "    <tr>\n",
       "      <th>98</th>\n",
       "      <td>0.247409</td>\n",
       "      <td>0.899054</td>\n",
       "      <td>0.819014</td>\n",
       "      <td>0.782051</td>\n",
       "    </tr>\n",
       "    <tr>\n",
       "      <th>99</th>\n",
       "      <td>0.279154</td>\n",
       "      <td>0.883281</td>\n",
       "      <td>0.587356</td>\n",
       "      <td>0.717949</td>\n",
       "    </tr>\n",
       "  </tbody>\n",
       "</table>\n",
       "<p>100 rows × 4 columns</p>\n",
       "</div>"
      ],
      "text/plain": [
       "        loss       acc  val_loss   val_acc\n",
       "0   5.208111  0.492114  0.656456  0.512821\n",
       "1   0.647019  0.529968  0.573409  0.743590\n",
       "2   0.550017  0.659306  0.527969  0.705128\n",
       "3   0.505235  0.719243  0.486668  0.679487\n",
       "4   0.486165  0.725552  0.489650  0.743590\n",
       "..       ...       ...       ...       ...\n",
       "95  0.237535  0.914827  0.728729  0.756410\n",
       "96  0.224672  0.917981  0.798381  0.769231\n",
       "97  0.219918  0.921136  0.842796  0.820513\n",
       "98  0.247409  0.899054  0.819014  0.782051\n",
       "99  0.279154  0.883281  0.587356  0.717949\n",
       "\n",
       "[100 rows x 4 columns]"
      ]
     },
     "execution_count": 55,
     "metadata": {},
     "output_type": "execute_result"
    }
   ],
   "source": [
    "df1 = pd.DataFrame(\n",
    "    data={'loss':history.history['loss'], \n",
    "          'acc':history.history['acc'],\n",
    "          'val_loss':history.history['val_loss'], \n",
    "          'val_acc':history.history['val_acc']\n",
    "         }, \n",
    "    index=np.arange(0, n)\n",
    ")\n",
    " \n",
    "df1"
   ]
  },
  {
   "cell_type": "code",
   "execution_count": 56,
   "metadata": {
    "scrolled": true
   },
   "outputs": [
    {
     "data": {
      "text/html": [
       "<div>\n",
       "<style scoped>\n",
       "    .dataframe tbody tr th:only-of-type {\n",
       "        vertical-align: middle;\n",
       "    }\n",
       "\n",
       "    .dataframe tbody tr th {\n",
       "        vertical-align: top;\n",
       "    }\n",
       "\n",
       "    .dataframe thead th {\n",
       "        text-align: right;\n",
       "    }\n",
       "</style>\n",
       "<table border=\"1\" class=\"dataframe\">\n",
       "  <thead>\n",
       "    <tr style=\"text-align: right;\">\n",
       "      <th></th>\n",
       "      <th>Kernel</th>\n",
       "      <th>Conv2D</th>\n",
       "      <th>hidden01</th>\n",
       "      <th>Batch_size</th>\n",
       "      <th>epochs</th>\n",
       "    </tr>\n",
       "  </thead>\n",
       "  <tbody>\n",
       "    <tr>\n",
       "      <th>0</th>\n",
       "      <td>14x4</td>\n",
       "      <td>10</td>\n",
       "      <td>10</td>\n",
       "      <td>32</td>\n",
       "      <td>100</td>\n",
       "    </tr>\n",
       "    <tr>\n",
       "      <th>1</th>\n",
       "      <td>14x4</td>\n",
       "      <td>10</td>\n",
       "      <td>10</td>\n",
       "      <td>32</td>\n",
       "      <td>100</td>\n",
       "    </tr>\n",
       "    <tr>\n",
       "      <th>2</th>\n",
       "      <td>14x4</td>\n",
       "      <td>10</td>\n",
       "      <td>10</td>\n",
       "      <td>32</td>\n",
       "      <td>100</td>\n",
       "    </tr>\n",
       "    <tr>\n",
       "      <th>3</th>\n",
       "      <td>14x4</td>\n",
       "      <td>10</td>\n",
       "      <td>10</td>\n",
       "      <td>32</td>\n",
       "      <td>100</td>\n",
       "    </tr>\n",
       "  </tbody>\n",
       "</table>\n",
       "</div>"
      ],
      "text/plain": [
       "  Kernel Conv2D hidden01 Batch_size epochs\n",
       "0   14x4     10       10         32    100\n",
       "1   14x4     10       10         32    100\n",
       "2   14x4     10       10         32    100\n",
       "3   14x4     10       10         32    100"
      ]
     },
     "execution_count": 56,
     "metadata": {},
     "output_type": "execute_result"
    }
   ],
   "source": [
    "df2 = pd.DataFrame(\n",
    "    data={'Kernel':f'14x{i}',\n",
    "         'Conv2D':str(j),\n",
    "         'hidden01':str(k),\n",
    "         'Batch_size':str(m),\n",
    "         'epochs':str(n)}, \n",
    "    index=np.arange(4)\n",
    ")\n",
    "df2"
   ]
  },
  {
   "cell_type": "code",
   "execution_count": 57,
   "metadata": {},
   "outputs": [
    {
     "name": "stdout",
     "output_type": "stream",
     "text": [
      "        loss       acc  val_loss   val_acc Kernel Conv2D hidden01 Batch_size  \\\n",
      "0   5.208111  0.492114  0.656456  0.512821   14x4     10       10         32   \n",
      "1   0.647019  0.529968  0.573409  0.743590   14x4     10       10         32   \n",
      "2   0.550017  0.659306  0.527969  0.705128   14x4     10       10         32   \n",
      "3   0.505235  0.719243  0.486668  0.679487   14x4     10       10         32   \n",
      "4   0.486165  0.725552  0.489650  0.743590    NaN    NaN      NaN        NaN   \n",
      "..       ...       ...       ...       ...    ...    ...      ...        ...   \n",
      "95  0.237535  0.914827  0.728729  0.756410    NaN    NaN      NaN        NaN   \n",
      "96  0.224672  0.917981  0.798381  0.769231    NaN    NaN      NaN        NaN   \n",
      "97  0.219918  0.921136  0.842796  0.820513    NaN    NaN      NaN        NaN   \n",
      "98  0.247409  0.899054  0.819014  0.782051    NaN    NaN      NaN        NaN   \n",
      "99  0.279154  0.883281  0.587356  0.717949    NaN    NaN      NaN        NaN   \n",
      "\n",
      "   epochs  \n",
      "0     100  \n",
      "1     100  \n",
      "2     100  \n",
      "3     100  \n",
      "4     NaN  \n",
      "..    ...  \n",
      "95    NaN  \n",
      "96    NaN  \n",
      "97    NaN  \n",
      "98    NaN  \n",
      "99    NaN  \n",
      "\n",
      "[100 rows x 9 columns]\n"
     ]
    }
   ],
   "source": [
    "print(pd.concat([df1, df2], axis=1))\n",
    "df3 = pd.concat([df1, df2], axis=1)"
   ]
  },
  {
   "cell_type": "code",
   "execution_count": 58,
   "metadata": {},
   "outputs": [],
   "source": [
    "var = \"CNN_various_04\"\n",
    "filename = f'./fitting_model/FCvsCNN/CNN/trial_{var}.csv'\n",
    "df3.to_csv(filename)"
   ]
  },
  {
   "cell_type": "code",
   "execution_count": 61,
   "metadata": {},
   "outputs": [
    {
     "data": {
      "text/html": [
       "<div>\n",
       "<style scoped>\n",
       "    .dataframe tbody tr th:only-of-type {\n",
       "        vertical-align: middle;\n",
       "    }\n",
       "\n",
       "    .dataframe tbody tr th {\n",
       "        vertical-align: top;\n",
       "    }\n",
       "\n",
       "    .dataframe thead th {\n",
       "        text-align: right;\n",
       "    }\n",
       "</style>\n",
       "<table border=\"1\" class=\"dataframe\">\n",
       "  <thead>\n",
       "    <tr style=\"text-align: right;\">\n",
       "      <th></th>\n",
       "      <th>loss</th>\n",
       "      <th>acc</th>\n",
       "      <th>val_loss</th>\n",
       "      <th>val_acc</th>\n",
       "      <th>Kernel</th>\n",
       "      <th>Conv2D</th>\n",
       "      <th>hidden01</th>\n",
       "      <th>Batch_size</th>\n",
       "      <th>epochs</th>\n",
       "    </tr>\n",
       "  </thead>\n",
       "  <tbody>\n",
       "    <tr>\n",
       "      <th>95</th>\n",
       "      <td>0.237535</td>\n",
       "      <td>0.914827</td>\n",
       "      <td>0.728729</td>\n",
       "      <td>0.756410</td>\n",
       "      <td>NaN</td>\n",
       "      <td>NaN</td>\n",
       "      <td>NaN</td>\n",
       "      <td>NaN</td>\n",
       "      <td>NaN</td>\n",
       "    </tr>\n",
       "    <tr>\n",
       "      <th>96</th>\n",
       "      <td>0.224672</td>\n",
       "      <td>0.917981</td>\n",
       "      <td>0.798381</td>\n",
       "      <td>0.769231</td>\n",
       "      <td>NaN</td>\n",
       "      <td>NaN</td>\n",
       "      <td>NaN</td>\n",
       "      <td>NaN</td>\n",
       "      <td>NaN</td>\n",
       "    </tr>\n",
       "    <tr>\n",
       "      <th>97</th>\n",
       "      <td>0.219918</td>\n",
       "      <td>0.921136</td>\n",
       "      <td>0.842796</td>\n",
       "      <td>0.820513</td>\n",
       "      <td>NaN</td>\n",
       "      <td>NaN</td>\n",
       "      <td>NaN</td>\n",
       "      <td>NaN</td>\n",
       "      <td>NaN</td>\n",
       "    </tr>\n",
       "    <tr>\n",
       "      <th>98</th>\n",
       "      <td>0.247409</td>\n",
       "      <td>0.899054</td>\n",
       "      <td>0.819014</td>\n",
       "      <td>0.782051</td>\n",
       "      <td>NaN</td>\n",
       "      <td>NaN</td>\n",
       "      <td>NaN</td>\n",
       "      <td>NaN</td>\n",
       "      <td>NaN</td>\n",
       "    </tr>\n",
       "    <tr>\n",
       "      <th>99</th>\n",
       "      <td>0.279154</td>\n",
       "      <td>0.883281</td>\n",
       "      <td>0.587356</td>\n",
       "      <td>0.717949</td>\n",
       "      <td>NaN</td>\n",
       "      <td>NaN</td>\n",
       "      <td>NaN</td>\n",
       "      <td>NaN</td>\n",
       "      <td>NaN</td>\n",
       "    </tr>\n",
       "  </tbody>\n",
       "</table>\n",
       "</div>"
      ],
      "text/plain": [
       "        loss       acc  val_loss   val_acc Kernel Conv2D hidden01 Batch_size  \\\n",
       "95  0.237535  0.914827  0.728729  0.756410    NaN    NaN      NaN        NaN   \n",
       "96  0.224672  0.917981  0.798381  0.769231    NaN    NaN      NaN        NaN   \n",
       "97  0.219918  0.921136  0.842796  0.820513    NaN    NaN      NaN        NaN   \n",
       "98  0.247409  0.899054  0.819014  0.782051    NaN    NaN      NaN        NaN   \n",
       "99  0.279154  0.883281  0.587356  0.717949    NaN    NaN      NaN        NaN   \n",
       "\n",
       "   epochs  \n",
       "95    NaN  \n",
       "96    NaN  \n",
       "97    NaN  \n",
       "98    NaN  \n",
       "99    NaN  "
      ]
     },
     "execution_count": 61,
     "metadata": {},
     "output_type": "execute_result"
    }
   ],
   "source": [
    "df3.iloc[n-5:n, :]"
   ]
  },
  {
   "cell_type": "code",
   "execution_count": 62,
   "metadata": {},
   "outputs": [
    {
     "data": {
      "image/png": "[encoded data removed]",
      "text/plain": [
       "<Figure size 432x288 with 1 Axes>"
      ]
     },
     "metadata": {
      "needs_background": "light"
     },
     "output_type": "display_data"
    }
   ],
   "source": [
    "plt.plot(range(1, NUM_EPOCHS+1), df3['acc'], \"-o\")\n",
    "plt.plot(range(1, NUM_EPOCHS+1), df3['val_acc'], \"-o\")\n",
    "plt.title('model accuracy')\n",
    "plt.ylabel('accuracy')  # Y軸ラベル\n",
    "plt.xlabel('epoch')  # X軸ラベル\n",
    "plt.grid()\n",
    "plt.legend(['acc', 'val_acc'], loc='best')\n",
    "#plt.xlim(0,NUM_EPOCHS)\n",
    "plt.ylim(0.0,1.0)\n",
    "plt.show()"
   ]
  },
  {
   "cell_type": "code",
   "execution_count": 63,
   "metadata": {},
   "outputs": [
    {
     "data": {
      "image/png": "[encoded data removed]",
      "text/plain": [
       "<Figure size 432x288 with 1 Axes>"
      ]
     },
     "metadata": {
      "needs_background": "light"
     },
     "output_type": "display_data"
    }
   ],
   "source": [
    "plt.plot(range(1, NUM_EPOCHS+1), df3['loss'], \"-o\")\n",
    "plt.plot(range(1, NUM_EPOCHS+1), df3['val_loss'], \"-o\")\n",
    "plt.title('model loss')\n",
    "plt.ylabel('loss')  # Y軸ラベル\n",
    "plt.xlabel('epoch')  # X軸ラベル\n",
    "plt.grid()\n",
    "plt.legend(['loss', 'val_loss'], loc='best')\n",
    "#plt.xlim(0,NUM_EPOCHS)\n",
    "plt.ylim(0.0,1.0)\n",
    "plt.show()"
   ]
  },
  {
   "cell_type": "markdown",
   "metadata": {},
   "source": [
    "epochs = 27が最適"
   ]
  },
  {
   "cell_type": "code",
   "execution_count": 64,
   "metadata": {},
   "outputs": [
    {
     "name": "stdout",
     "output_type": "stream",
     "text": [
      "78/78 [==============================] - 0s 27us/sample - loss: 0.5874 - acc: 0.7179\n",
      "Test Loss: 58.73559522323119%\n",
      "Test Acc: 71.79487347602844%\n"
     ]
    }
   ],
   "source": [
    "loss, acc = model.evaluate(x_val, y_val)\n",
    "print(f\"Test Loss: {loss*100}%\")\n",
    "print(f\"Test Acc: {acc*100}%\")"
   ]
  },
  {
   "cell_type": "code",
   "execution_count": 65,
   "metadata": {},
   "outputs": [
    {
     "name": "stdout",
     "output_type": "stream",
     "text": [
      "Saved trained model at ../model_saving/20220729-170841_92 \n"
     ]
    }
   ],
   "source": [
    "#saving the model.\n",
    "save_dir = \"./saving_model/\"\n",
    "model_name = datetime.datetime.now().strftime(f\"%Y%m%d-%H%M%S_{Vernum}\")\n",
    "if not os.path.isdir(save_dir):\n",
    "    os.makedirs(save_dir)\n",
    "model_path = os.path.join(save_dir, model_name)\n",
    "model.save(model_path)\n",
    "print('Saved trained model at %s ' % model_path)"
   ]
  },
  {
   "cell_type": "code",
   "execution_count": 123,
   "metadata": {},
   "outputs": [],
   "source": [
    "model = load_model(\"./saving_model/20220729-170841_92\")"
   ]
  },
  {
   "cell_type": "code",
   "execution_count": 124,
   "metadata": {},
   "outputs": [],
   "source": [
    "predict_positive_list = model.predict(x_train_positive_all_5crossval)\n",
    "predict_negative_list = model.predict(x_train_negative_all_5crossval)"
   ]
  },
  {
   "cell_type": "code",
   "execution_count": 125,
   "metadata": {
    "scrolled": true
   },
   "outputs": [
    {
     "data": {
      "text/plain": [
       "array([[0.88397264, 0.11602733],\n",
       "       [0.74449414, 0.25550583],\n",
       "       [0.7555597 , 0.24444032],\n",
       "       [0.76919335, 0.23080663],\n",
       "       [0.95889753, 0.04110249],\n",
       "       [0.70507395, 0.29492608],\n",
       "       [0.75558144, 0.24441858],\n",
       "       [0.97986364, 0.02013636],\n",
       "       [0.799293  , 0.20070697],\n",
       "       [0.9547113 , 0.04528872],\n",
       "       [0.72148937, 0.27851063],\n",
       "       [0.9331363 , 0.06686372],\n",
       "       [0.9215211 , 0.07847881],\n",
       "       [0.5593215 , 0.44067845],\n",
       "       [0.8168304 , 0.18316956],\n",
       "       [0.79477096, 0.20522904],\n",
       "       [0.4462819 , 0.55371803],\n",
       "       [0.79477096, 0.20522904],\n",
       "       [0.8350128 , 0.16498718],\n",
       "       [0.9640158 , 0.03598418],\n",
       "       [0.44760248, 0.5523975 ],\n",
       "       [0.8633081 , 0.13669196],\n",
       "       [0.5421242 , 0.45787582],\n",
       "       [0.5686558 , 0.43134418],\n",
       "       [0.96186286, 0.03813717],\n",
       "       [0.7555597 , 0.24444032],\n",
       "       [0.82833695, 0.171663  ],\n",
       "       [0.8444744 , 0.15552567],\n",
       "       [0.98601764, 0.01398236],\n",
       "       [0.8574303 , 0.14256975],\n",
       "       [0.93818915, 0.06181083],\n",
       "       [0.9322947 , 0.06770533],\n",
       "       [0.94032013, 0.05967993],\n",
       "       [0.65887594, 0.34112403],\n",
       "       [0.80652237, 0.19347759],\n",
       "       [0.8988581 , 0.10114193],\n",
       "       [0.86867523, 0.13132481],\n",
       "       [0.91555274, 0.08444733],\n",
       "       [0.70339006, 0.29660997],\n",
       "       [0.7559496 , 0.24405037],\n",
       "       [0.90495247, 0.09504754]], dtype=float32)"
      ]
     },
     "execution_count": 125,
     "metadata": {},
     "output_type": "execute_result"
    }
   ],
   "source": [
    "predict_positive_list"
   ]
  },
  {
   "cell_type": "code",
   "execution_count": 126,
   "metadata": {},
   "outputs": [
    {
     "data": {
      "text/plain": [
       "41"
      ]
     },
     "execution_count": 126,
     "metadata": {},
     "output_type": "execute_result"
    }
   ],
   "source": [
    "len(predict_positive_list)"
   ]
  },
  {
   "cell_type": "code",
   "execution_count": 127,
   "metadata": {},
   "outputs": [
    {
     "data": {
      "text/plain": [
       "array([[8.4430087e-01, 1.5569909e-01],\n",
       "       [1.0793193e-01, 8.9206809e-01],\n",
       "       [5.3772569e-01, 4.6227431e-01],\n",
       "       [4.3315998e-01, 5.6683999e-01],\n",
       "       [2.2218426e-01, 7.7781570e-01],\n",
       "       [8.3401859e-01, 1.6598146e-01],\n",
       "       [8.1879960e-05, 9.9991810e-01],\n",
       "       [6.5612160e-02, 9.3438786e-01],\n",
       "       [8.3401859e-01, 1.6598146e-01],\n",
       "       [5.3217709e-01, 4.6782291e-01],\n",
       "       [3.4250077e-03, 9.9657494e-01],\n",
       "       [1.8038282e-02, 9.8196167e-01],\n",
       "       [7.1512413e-01, 2.8487587e-01],\n",
       "       [6.5517688e-01, 3.4482318e-01],\n",
       "       [9.3751110e-02, 9.0624893e-01],\n",
       "       [5.1779454e-05, 9.9994826e-01],\n",
       "       [2.5801424e-02, 9.7419864e-01],\n",
       "       [8.8833690e-02, 9.1116631e-01],\n",
       "       [4.9036461e-01, 5.0963533e-01],\n",
       "       [4.3315998e-01, 5.6683999e-01],\n",
       "       [4.9540576e-02, 9.5045936e-01],\n",
       "       [1.8873709e-01, 8.1126291e-01],\n",
       "       [5.8140737e-01, 4.1859263e-01],\n",
       "       [5.7861888e-01, 4.2138109e-01],\n",
       "       [5.2306134e-01, 4.7693869e-01],\n",
       "       [8.5048750e-03, 9.9149513e-01],\n",
       "       [5.7651299e-01, 4.2348704e-01],\n",
       "       [9.0057832e-01, 9.9421613e-02],\n",
       "       [2.0361014e-03, 9.9796391e-01],\n",
       "       [6.9706821e-01, 3.0293185e-01],\n",
       "       [2.6345805e-03, 9.9736542e-01],\n",
       "       [3.2933194e-02, 9.6706676e-01],\n",
       "       [1.3452770e-01, 8.6547232e-01],\n",
       "       [7.4372149e-01, 2.5627851e-01],\n",
       "       [1.6258437e-03, 9.9837410e-01],\n",
       "       [2.8243514e-03, 9.9717569e-01],\n",
       "       [4.3615726e-01, 5.6384277e-01],\n",
       "       [3.3152264e-02, 9.6684778e-01]], dtype=float32)"
      ]
     },
     "execution_count": 127,
     "metadata": {},
     "output_type": "execute_result"
    }
   ],
   "source": [
    "predict_negative_list "
   ]
  },
  {
   "cell_type": "code",
   "execution_count": 128,
   "metadata": {},
   "outputs": [
    {
     "data": {
      "text/plain": [
       "38"
      ]
     },
     "execution_count": 128,
     "metadata": {},
     "output_type": "execute_result"
    }
   ],
   "source": [
    "len(predict_negative_list)"
   ]
  },
  {
   "cell_type": "code",
   "execution_count": 129,
   "metadata": {},
   "outputs": [],
   "source": [
    "from sklearn.metrics import roc_curve\n",
    "import matplotlib.pyplot as plt\n",
    "\n",
    "y_true = [0, 0, 0, 0, 1, 1, 1, 1]\n",
    "y_score = [0.2, 0.3, 0.6, 0.8, 0.4, 0.5, 0.7, 0.9]\n",
    "\n",
    "y_true01 = []\n",
    "y_score01 = []\n",
    "for i in range(len(predict_positive_list)):\n",
    "    y_true01.append(1)\n",
    "    y_score01.append(predict_positive_list[i][0])\n",
    "for i  in range(len(predict_negative_list)):\n",
    "    y_true01.append(0)\n",
    "    y_score01.append(predict_negative_list[i][0])\n",
    "        \n",
    "y_true01 = list(y_true01)\n",
    "y_score01 = list(y_score01)\n",
    "\n",
    "#roc = roc_curve(y_true01, y_score01)\n",
    "\n",
    "#print(type(roc))\n",
    "# <class 'tuple'>\n",
    "\n",
    "#print(len(roc))\n",
    "# 3"
   ]
  },
  {
   "cell_type": "code",
   "execution_count": 130,
   "metadata": {},
   "outputs": [
    {
     "name": "stdout",
     "output_type": "stream",
     "text": [
      "[0.         0.         0.         0.02631579 0.02631579 0.05263158\n",
      " 0.05263158 0.10526316 0.10526316 0.10526316 0.10526316 0.10526316\n",
      " 0.10526316 0.13157895 0.13157895 0.15789474 0.15789474 0.18421053\n",
      " 0.18421053 0.28947368 0.28947368 0.39473684 0.39473684 0.42105263\n",
      " 0.47368421 1.        ]\n",
      "[0.         0.02439024 0.31707317 0.31707317 0.46341463 0.46341463\n",
      " 0.48780488 0.48780488 0.58536585 0.63414634 0.70731707 0.75609756\n",
      " 0.7804878  0.7804878  0.80487805 0.80487805 0.85365854 0.85365854\n",
      " 0.87804878 0.87804878 0.95121951 0.95121951 1.         1.\n",
      " 1.         1.        ]\n",
      "[1.9860177e+00 9.8601764e-01 9.0495247e-01 9.0057832e-01 8.4447438e-01\n",
      " 8.4430087e-01 8.3501279e-01 8.3401859e-01 7.9929298e-01 7.9477096e-01\n",
      " 7.5558144e-01 7.5555968e-01 7.4449414e-01 7.4372149e-01 7.2148937e-01\n",
      " 7.1512413e-01 7.0339006e-01 6.9706821e-01 6.5887594e-01 5.7651299e-01\n",
      " 5.4212421e-01 4.9036461e-01 4.4628191e-01 4.3615726e-01 4.3315998e-01\n",
      " 5.1779454e-05]\n"
     ]
    }
   ],
   "source": [
    "fpr, tpr, thresholds = roc_curve(y_true01, y_score01)\n",
    "\n",
    "print(fpr)\n",
    "# [0.   0.   0.25 0.25 0.5  0.5  1.  ]\n",
    "\n",
    "print(tpr)\n",
    "# [0.   0.25 0.25 0.5  0.5  1.   1.  ]\n",
    "\n",
    "print(thresholds)\n",
    "# [1.9 0.9 0.8 0.7 0.6 0.4 0.2]"
   ]
  },
  {
   "cell_type": "code",
   "execution_count": 120,
   "metadata": {},
   "outputs": [
    {
     "name": "stdout",
     "output_type": "stream",
     "text": [
      "0.9375\n",
      "0.9375\n"
     ]
    }
   ],
   "source": [
    "from sklearn import metrics\n",
    "\n",
    "list_label = [0, 0, 0, 1, 1, 0, 1, 1]\n",
    "list_score = [2, 1, 2, 4, 2, 1, 3, 5]\n",
    "\n",
    "auc = metrics.roc_auc_score(list_label, list_score)\n",
    "print(auc)\n",
    "\n",
    "fpr, tpr, thresholds = metrics.roc_curve(list_label, list_score)\n",
    "auc = metrics.auc(fpr, tpr)\n",
    "print(auc)"
   ]
  },
  {
   "cell_type": "code",
   "execution_count": 131,
   "metadata": {},
   "outputs": [
    {
     "name": "stdout",
     "output_type": "stream",
     "text": [
      "0.9082156611039796\n"
     ]
    }
   ],
   "source": [
    "auc = metrics.roc_auc_score(y_true01, y_score01)\n",
    "print(auc)"
   ]
  },
  {
   "cell_type": "code",
   "execution_count": 132,
   "metadata": {
    "scrolled": true
   },
   "outputs": [
    {
     "data": {
      "image/png": "[encoded data removed]",
      "text/plain": [
       "<Figure size 432x288 with 1 Axes>"
      ]
     },
     "metadata": {
      "needs_background": "light"
     },
     "output_type": "display_data"
    }
   ],
   "source": [
    "plt.plot(fpr, tpr, marker='o')\n",
    "plt.xlabel('FPR: False positive rate')\n",
    "plt.ylabel('TPR: True positive rate')\n",
    "plt.grid()\n",
    "#plt.savefig('data/dst/sklearn_roc_curve.png')"
   ]
  },
  {
   "cell_type": "markdown",
   "metadata": {},
   "source": [
    "引数を左右逆にしてた．\n",
    "https://nishiohirokazu.hatenadiary.org/entry/20150601/1433165478\n"
   ]
  },
  {
   "cell_type": "markdown",
   "metadata": {},
   "source": [
    "## 感度（再現率），特異度，精度（適合度），正確度を計算する．"
   ]
  },
  {
   "cell_type": "code",
   "execution_count": 74,
   "metadata": {},
   "outputs": [
    {
     "name": "stdout",
     "output_type": "stream",
     "text": [
      "0.9512195121951219\n"
     ]
    }
   ],
   "source": [
    "true_p = 0\n",
    "false_n = 0\n",
    "total_posi_data = len(predict_positive_list)\n",
    "\n",
    "false_p = 0\n",
    "true_n = 0\n",
    "total_nega_data = len(predict_negative_list)\n",
    "\n",
    "for i in range(total_posi_data):\n",
    "    if predict_positive_list[i][0] > predict_positive_list[i][1]:\n",
    "        true_p = true_p + 1\n",
    "    else:\n",
    "        false_n = false_n + 1\n",
    "        \n",
    "for i in range(total_nega_data):\n",
    "    if predict_negative_list[i][0] < predict_negative_list[i][1]:\n",
    "        true_n = true_n + 1\n",
    "    else:\n",
    "        false_p = false_p + 1\n",
    "    \n",
    "sensitivity = true_p/total_posi_data\n",
    "print(sensitivity)\n",
    "specificity = true_n/total_nega_data\n",
    "\n",
    "precision = true_p/(true_p+false_p)\n",
    "accuracy = (true_p+true_n)/(total_posi_data+total_nega_data)"
   ]
  },
  {
   "cell_type": "code",
   "execution_count": 70,
   "metadata": {},
   "outputs": [
    {
     "name": "stdout",
     "output_type": "stream",
     "text": [
      "41\n"
     ]
    }
   ],
   "source": [
    "print(total_posi_data)"
   ]
  },
  {
   "cell_type": "code",
   "execution_count": 71,
   "metadata": {},
   "outputs": [
    {
     "name": "stdout",
     "output_type": "stream",
     "text": [
      "38\n"
     ]
    }
   ],
   "source": [
    "print(total_nega_data)"
   ]
  },
  {
   "cell_type": "code",
   "execution_count": 64,
   "metadata": {},
   "outputs": [
    {
     "name": "stdout",
     "output_type": "stream",
     "text": [
      "39\n",
      "2\n",
      "14\n",
      "24\n",
      "79\n"
     ]
    }
   ],
   "source": [
    "print(true_p)\n",
    "print(false_n)\n",
    "print(false_p)\n",
    "print(true_n)\n",
    "print(true_p+false_n+false_p+true_n)"
   ]
  },
  {
   "cell_type": "code",
   "execution_count": 76,
   "metadata": {},
   "outputs": [
    {
     "data": {
      "text/html": [
       "<div>\n",
       "<style scoped>\n",
       "    .dataframe tbody tr th:only-of-type {\n",
       "        vertical-align: middle;\n",
       "    }\n",
       "\n",
       "    .dataframe tbody tr th {\n",
       "        vertical-align: top;\n",
       "    }\n",
       "\n",
       "    .dataframe thead th {\n",
       "        text-align: right;\n",
       "    }\n",
       "</style>\n",
       "<table border=\"1\" class=\"dataframe\">\n",
       "  <thead>\n",
       "    <tr style=\"text-align: right;\">\n",
       "      <th></th>\n",
       "      <th>予測（開裂）</th>\n",
       "      <th>予測（非開裂）</th>\n",
       "    </tr>\n",
       "  </thead>\n",
       "  <tbody>\n",
       "    <tr>\n",
       "      <th>実際（開裂）</th>\n",
       "      <td>39</td>\n",
       "      <td>2</td>\n",
       "    </tr>\n",
       "    <tr>\n",
       "      <th>実際（非開裂）</th>\n",
       "      <td>14</td>\n",
       "      <td>24</td>\n",
       "    </tr>\n",
       "  </tbody>\n",
       "</table>\n",
       "</div>"
      ],
      "text/plain": [
       "         予測（開裂）  予測（非開裂）\n",
       "実際（開裂）       39        2\n",
       "実際（非開裂）      14       24"
      ]
     },
     "execution_count": 76,
     "metadata": {},
     "output_type": "execute_result"
    }
   ],
   "source": [
    "df_table02 = pd.DataFrame(\n",
    "    data={'予測（開裂）': [true_p, false_p], \n",
    "          '予測（非開裂）': [false_n, true_n]},\n",
    "    index=['実際（開裂）', '実際（非開裂）']\n",
    ")\n",
    " \n",
    "df_table02"
   ]
  },
  {
   "cell_type": "code",
   "execution_count": 73,
   "metadata": {},
   "outputs": [
    {
     "name": "stdout",
     "output_type": "stream",
     "text": [
      "0.9512195121951219\n",
      "0.631578947368421\n",
      "0.7358490566037735\n",
      "0.7974683544303798\n"
     ]
    }
   ],
   "source": [
    "print(sensitivity)\n",
    "print(specificity)\n",
    "print(precision)\n",
    "print(accuracy)"
   ]
  },
  {
   "cell_type": "code",
   "execution_count": 67,
   "metadata": {},
   "outputs": [
    {
     "name": "stdout",
     "output_type": "stream",
     "text": [
      "0.7358490566037735\n"
     ]
    }
   ],
   "source": [
    "print(39/(39+14))"
   ]
  },
  {
   "cell_type": "code",
   "execution_count": 68,
   "metadata": {},
   "outputs": [
    {
     "name": "stdout",
     "output_type": "stream",
     "text": [
      "0.9230769230769231\n"
     ]
    }
   ],
   "source": [
    "print(24/(2+24))"
   ]
  },
  {
   "cell_type": "markdown",
   "metadata": {},
   "source": [
    "# CNN various experiment 02"
   ]
  },
  {
   "cell_type": "code",
   "execution_count": 84,
   "metadata": {},
   "outputs": [
    {
     "name": "stdout",
     "output_type": "stream",
     "text": [
      "Model: \"sequential_1\"\n",
      "_________________________________________________________________\n",
      "Layer (type)                 Output Shape              Param #   \n",
      "=================================================================\n",
      "Conv2D_01 (Conv2D)           (None, 1, 5, 10)          570       \n",
      "_________________________________________________________________\n",
      "Flatten_01 (Flatten)         (None, 50)                0         \n",
      "_________________________________________________________________\n",
      "Denese_02 (Dense)            (None, 10)                510       \n",
      "_________________________________________________________________\n",
      "Dense_out (Dense)            (None, 2)                 22        \n",
      "_________________________________________________________________\n",
      "activation_1 (Activation)    (None, 2)                 0         \n",
      "=================================================================\n",
      "Total params: 1,102\n",
      "Trainable params: 1,102\n",
      "Non-trainable params: 0\n",
      "_________________________________________________________________\n",
      "\n",
      "Epoch 00001: val_loss improved from inf to 0.59521, saving model to ../callbacks/99_01-0.5952.hdf5\n",
      "\n",
      "Epoch 00002: val_loss improved from 0.59521 to 0.54819, saving model to ../callbacks/99_02-0.5482.hdf5\n",
      "\n",
      "Epoch 00003: val_loss did not improve from 0.54819\n",
      "\n",
      "Epoch 00004: val_loss improved from 0.54819 to 0.54817, saving model to ../callbacks/99_04-0.5482.hdf5\n",
      "\n",
      "Epoch 00005: val_loss improved from 0.54817 to 0.53962, saving model to ../callbacks/99_05-0.5396.hdf5\n",
      "\n",
      "Epoch 00006: val_loss improved from 0.53962 to 0.53684, saving model to ../callbacks/99_06-0.5368.hdf5\n",
      "\n",
      "Epoch 00007: val_loss improved from 0.53684 to 0.50926, saving model to ../callbacks/99_07-0.5093.hdf5\n",
      "\n",
      "Epoch 00008: val_loss did not improve from 0.50926\n",
      "\n",
      "Epoch 00009: val_loss did not improve from 0.50926\n",
      "\n",
      "Epoch 00010: val_loss improved from 0.50926 to 0.50849, saving model to ../callbacks/99_10-0.5085.hdf5\n",
      "\n",
      "Epoch 00011: val_loss did not improve from 0.50849\n",
      "\n",
      "Epoch 00012: val_loss improved from 0.50849 to 0.50298, saving model to ../callbacks/99_12-0.5030.hdf5\n",
      "\n",
      "Epoch 00013: val_loss did not improve from 0.50298\n",
      "\n",
      "Epoch 00014: val_loss improved from 0.50298 to 0.49161, saving model to ../callbacks/99_14-0.4916.hdf5\n",
      "\n",
      "Epoch 00015: val_loss did not improve from 0.49161\n",
      "\n",
      "Epoch 00016: val_loss did not improve from 0.49161\n",
      "\n",
      "Epoch 00017: val_loss did not improve from 0.49161\n",
      "\n",
      "Epoch 00018: val_loss did not improve from 0.49161\n",
      "\n",
      "Epoch 00019: val_loss did not improve from 0.49161\n",
      "\n",
      "Epoch 00020: val_loss did not improve from 0.49161\n",
      "\n",
      "Epoch 00021: val_loss did not improve from 0.49161\n",
      "\n",
      "Epoch 00022: val_loss did not improve from 0.49161\n",
      "\n",
      "Epoch 00023: val_loss did not improve from 0.49161\n",
      "\n",
      "Epoch 00024: val_loss did not improve from 0.49161\n",
      "\n",
      "Epoch 00025: val_loss did not improve from 0.49161\n",
      "\n",
      "Epoch 00026: val_loss did not improve from 0.49161\n",
      "\n",
      "Epoch 00027: val_loss did not improve from 0.49161\n",
      "<class 'tensorflow.python.keras.callbacks.History'>\n",
      "<class 'dict'>\n",
      "dict_keys(['loss', 'acc', 'val_loss', 'val_acc'])\n",
      "[7.7482440699162165, 0.5656172020202179, 0.545509029638128, 0.5301448401968561, 0.4888499723247925, 0.41971087568565874, 0.4580332815459098, 0.34436544287091925, 0.5239888631771039, 0.34036904836678733, 0.34709153698069817, 0.35922260822181823, 0.32863610757262174, 0.3880785829637329, 0.3386817322544495, 0.30847941917199817, 0.30330462617452963, 0.2993333985094768, 0.30105288773305033, 0.34144170398967877, 0.3049634175157697, 0.32481238368181775, 0.31252655039074295, 0.2922259612414363, 0.3010686603066297, 0.28936803923796406, 0.28668657123854485]\n",
      "[0.5583596, 0.7507886, 0.73501575, 0.79810727, 0.78548896, 0.851735, 0.7665615, 0.87066245, 0.72239745, 0.85804415, 0.8548896, 0.8485804, 0.8675079, 0.8391167, 0.8548896, 0.89589906, 0.8801262, 0.91167194, 0.8927445, 0.8675079, 0.91167194, 0.8769716, 0.8927445, 0.88643533, 0.88643533, 0.91167194, 0.88328075]\n",
      "[0.5952107233878894, 0.5481862823168436, 0.6376040195807432, 0.5481737408882532, 0.5396212813181754, 0.536843445056524, 0.5092636667765104, 0.5798125152404492, 0.5720680806881342, 0.5084883356705691, 0.5499350367448269, 0.5029836503358988, 0.5999096693136753, 0.49160608649253845, 0.5055481317715768, 0.5699288004483932, 0.5196349926483936, 0.5607893497515948, 0.5400648040649219, 0.5390903323124616, 0.5383583460098658, 0.5527655031436529, 0.5139272151849209, 0.5384828708110712, 0.5788699988371286, 0.5777807434399923, 0.6779744288860223]\n",
      "[0.74358976, 0.7692308, 0.7051282, 0.7692308, 0.7051282, 0.7307692, 0.8076923, 0.78205127, 0.7307692, 0.7692308, 0.78205127, 0.7307692, 0.78205127, 0.75641024, 0.74358976, 0.8076923, 0.78205127, 0.71794873, 0.8333333, 0.7692308, 0.7692308, 0.7692308, 0.75641024, 0.7692308, 0.71794873, 0.7692308, 0.8076923]\n"
     ]
    }
   ],
   "source": [
    "#訓練データ\n",
    "x_train = x_train_all\n",
    "y_train = y_train_all\n",
    "\n",
    "#検証データ\n",
    "x_val = x_train_all_5crossval \n",
    "y_val = y_train_all_5crossval \n",
    "\n",
    "i=4 #Kernel width\n",
    "j=10 #the number of Filters\n",
    "k=10 #the number of hidden layers\n",
    "m=32 #Batch size\n",
    "n=27 #epochs\n",
    "\n",
    "\n",
    "#old_session = KTF.get_session()\n",
    "#session = tf.Session('')\n",
    "#KTF.set_session(session)\n",
    "#KTF.set_learning_phase(1)\n",
    "\n",
    "#modelの定義の前に重みのリセットが必要で，これ？\n",
    "tf.compat.v1.Session()\n",
    "#sess = tf.compat.v1.Session()\n",
    "\n",
    "#モデル構築\n",
    "model = Sequential()\n",
    "model.add(Conv2D(filters=j, kernel_size=(14, i), strides=(1, 1), padding='valid', \n",
    "                 data_format=\"channels_last\", dilation_rate=(1, 1), activation='relu', \n",
    "                 use_bias=True, input_shape=(14, 8, 1), kernel_initializer='glorot_uniform', \n",
    "                 bias_initializer='zeros',  name='Conv2D_01'))\n",
    "#model.add(MaxPooling2D(pool_size=(2, 2), strides=None, padding='valid', data_format=None, \n",
    "#                       name='MaxPooling2D_01'))\n",
    "model.add(Flatten(name='Flatten_01'))\n",
    "#model.add(Dropout(0.50))\n",
    "model.add(Dense(units=k, name='Denese_02', activation='relu'))\n",
    "#model.add(Dense(units=50, name='Dense_01', activation='relu')\n",
    "#model.add(Dense(units=10, name='Denese_03', activation='relu'))\n",
    "model.add(Dense(units=2, name='Dense_out'))\n",
    "model.add(Activation('softmax'))\n",
    "\n",
    "#モデルの構造を表示\n",
    "model.summary()\n",
    "\n",
    "#訓練（学習）プロセスの設定\n",
    "model.compile(optimizer='sgd', loss='categorical_crossentropy', metrics=['accuracy'])\n",
    "\n",
    "\n",
    "\n",
    "#バリデーションロスが減少した場合に，各エポック終了後，モデルの重みを保存します\n",
    "#checkpointer = ModelCheckpoint(filepath='./weights.hdf5', verbose=0, save_best_only=True, save_format=\"h5\")\n",
    "### add for TensorBoard\n",
    "erly_stpg = EarlyStopping(patience=10, verbose=1,monitor='val_loss' , mode = 'min') \n",
    "chkfile = './callbacks/' + '{0:2d}'.format(Vernum)+'_{epoch:02d}-{val_loss:.4f}.hdf5' #format関数\n",
    "check_point = ModelCheckpoint(filepath = chkfile, monitor='val_loss', verbose=1, save_best_only=True, mode='min')\n",
    "check_point = [check_point]\n",
    "\n",
    "log_dir = \"log/\" + datetime.datetime.now().strftime(\"%Y%m%d-%H%M%S\")\n",
    "tensorboard_callback = tf.keras.callbacks.TensorBoard(log_dir=log_dir, histogram_freq=1)\n",
    "cbks=[tensorboard_callback]\n",
    "\n",
    "#訓練の実行 \n",
    "NUM_BATCH=m\n",
    "NUM_EPOCHS=n\n",
    "\n",
    "#history = model.fit(x_train, y_train, batch_size=NUM_BATCH, epochs=NUM_EPOCHS, validation_split=0.2, shuffle = True ,\n",
    "#                    callbacks=[erly_stpg , chck_pont], verbose = 0, )\n",
    "history = model.fit(x_train, y_train, batch_size=NUM_BATCH, epochs=NUM_EPOCHS, \n",
    "                    validation_split=0.2, shuffle = True, verbose = 0,\n",
    "                    callbacks=check_point,\n",
    "                   validation_data=(x_val, y_val))\n",
    "\n",
    "print(type(history))\n",
    "print(type(history.history))\n",
    "print(history.history.keys())\n",
    "print(history.history['loss'])\n",
    "print(history.history['acc'])\n",
    "print(history.history['val_loss'])\n",
    "print(history.history['val_acc'])"
   ]
  },
  {
   "cell_type": "code",
   "execution_count": 85,
   "metadata": {},
   "outputs": [
    {
     "data": {
      "text/html": [
       "<div>\n",
       "<style scoped>\n",
       "    .dataframe tbody tr th:only-of-type {\n",
       "        vertical-align: middle;\n",
       "    }\n",
       "\n",
       "    .dataframe tbody tr th {\n",
       "        vertical-align: top;\n",
       "    }\n",
       "\n",
       "    .dataframe thead th {\n",
       "        text-align: right;\n",
       "    }\n",
       "</style>\n",
       "<table border=\"1\" class=\"dataframe\">\n",
       "  <thead>\n",
       "    <tr style=\"text-align: right;\">\n",
       "      <th></th>\n",
       "      <th>loss</th>\n",
       "      <th>acc</th>\n",
       "      <th>val_loss</th>\n",
       "      <th>val_acc</th>\n",
       "    </tr>\n",
       "  </thead>\n",
       "  <tbody>\n",
       "    <tr>\n",
       "      <th>0</th>\n",
       "      <td>7.748244</td>\n",
       "      <td>0.558360</td>\n",
       "      <td>0.595211</td>\n",
       "      <td>0.743590</td>\n",
       "    </tr>\n",
       "    <tr>\n",
       "      <th>1</th>\n",
       "      <td>0.565617</td>\n",
       "      <td>0.750789</td>\n",
       "      <td>0.548186</td>\n",
       "      <td>0.769231</td>\n",
       "    </tr>\n",
       "    <tr>\n",
       "      <th>2</th>\n",
       "      <td>0.545509</td>\n",
       "      <td>0.735016</td>\n",
       "      <td>0.637604</td>\n",
       "      <td>0.705128</td>\n",
       "    </tr>\n",
       "    <tr>\n",
       "      <th>3</th>\n",
       "      <td>0.530145</td>\n",
       "      <td>0.798107</td>\n",
       "      <td>0.548174</td>\n",
       "      <td>0.769231</td>\n",
       "    </tr>\n",
       "    <tr>\n",
       "      <th>4</th>\n",
       "      <td>0.488850</td>\n",
       "      <td>0.785489</td>\n",
       "      <td>0.539621</td>\n",
       "      <td>0.705128</td>\n",
       "    </tr>\n",
       "    <tr>\n",
       "      <th>5</th>\n",
       "      <td>0.419711</td>\n",
       "      <td>0.851735</td>\n",
       "      <td>0.536843</td>\n",
       "      <td>0.730769</td>\n",
       "    </tr>\n",
       "    <tr>\n",
       "      <th>6</th>\n",
       "      <td>0.458033</td>\n",
       "      <td>0.766562</td>\n",
       "      <td>0.509264</td>\n",
       "      <td>0.807692</td>\n",
       "    </tr>\n",
       "    <tr>\n",
       "      <th>7</th>\n",
       "      <td>0.344365</td>\n",
       "      <td>0.870662</td>\n",
       "      <td>0.579813</td>\n",
       "      <td>0.782051</td>\n",
       "    </tr>\n",
       "    <tr>\n",
       "      <th>8</th>\n",
       "      <td>0.523989</td>\n",
       "      <td>0.722397</td>\n",
       "      <td>0.572068</td>\n",
       "      <td>0.730769</td>\n",
       "    </tr>\n",
       "    <tr>\n",
       "      <th>9</th>\n",
       "      <td>0.340369</td>\n",
       "      <td>0.858044</td>\n",
       "      <td>0.508488</td>\n",
       "      <td>0.769231</td>\n",
       "    </tr>\n",
       "    <tr>\n",
       "      <th>10</th>\n",
       "      <td>0.347092</td>\n",
       "      <td>0.854890</td>\n",
       "      <td>0.549935</td>\n",
       "      <td>0.782051</td>\n",
       "    </tr>\n",
       "    <tr>\n",
       "      <th>11</th>\n",
       "      <td>0.359223</td>\n",
       "      <td>0.848580</td>\n",
       "      <td>0.502984</td>\n",
       "      <td>0.730769</td>\n",
       "    </tr>\n",
       "    <tr>\n",
       "      <th>12</th>\n",
       "      <td>0.328636</td>\n",
       "      <td>0.867508</td>\n",
       "      <td>0.599910</td>\n",
       "      <td>0.782051</td>\n",
       "    </tr>\n",
       "    <tr>\n",
       "      <th>13</th>\n",
       "      <td>0.388079</td>\n",
       "      <td>0.839117</td>\n",
       "      <td>0.491606</td>\n",
       "      <td>0.756410</td>\n",
       "    </tr>\n",
       "    <tr>\n",
       "      <th>14</th>\n",
       "      <td>0.338682</td>\n",
       "      <td>0.854890</td>\n",
       "      <td>0.505548</td>\n",
       "      <td>0.743590</td>\n",
       "    </tr>\n",
       "    <tr>\n",
       "      <th>15</th>\n",
       "      <td>0.308479</td>\n",
       "      <td>0.895899</td>\n",
       "      <td>0.569929</td>\n",
       "      <td>0.807692</td>\n",
       "    </tr>\n",
       "    <tr>\n",
       "      <th>16</th>\n",
       "      <td>0.303305</td>\n",
       "      <td>0.880126</td>\n",
       "      <td>0.519635</td>\n",
       "      <td>0.782051</td>\n",
       "    </tr>\n",
       "    <tr>\n",
       "      <th>17</th>\n",
       "      <td>0.299333</td>\n",
       "      <td>0.911672</td>\n",
       "      <td>0.560789</td>\n",
       "      <td>0.717949</td>\n",
       "    </tr>\n",
       "    <tr>\n",
       "      <th>18</th>\n",
       "      <td>0.301053</td>\n",
       "      <td>0.892744</td>\n",
       "      <td>0.540065</td>\n",
       "      <td>0.833333</td>\n",
       "    </tr>\n",
       "    <tr>\n",
       "      <th>19</th>\n",
       "      <td>0.341442</td>\n",
       "      <td>0.867508</td>\n",
       "      <td>0.539090</td>\n",
       "      <td>0.769231</td>\n",
       "    </tr>\n",
       "    <tr>\n",
       "      <th>20</th>\n",
       "      <td>0.304963</td>\n",
       "      <td>0.911672</td>\n",
       "      <td>0.538358</td>\n",
       "      <td>0.769231</td>\n",
       "    </tr>\n",
       "    <tr>\n",
       "      <th>21</th>\n",
       "      <td>0.324812</td>\n",
       "      <td>0.876972</td>\n",
       "      <td>0.552766</td>\n",
       "      <td>0.769231</td>\n",
       "    </tr>\n",
       "    <tr>\n",
       "      <th>22</th>\n",
       "      <td>0.312527</td>\n",
       "      <td>0.892744</td>\n",
       "      <td>0.513927</td>\n",
       "      <td>0.756410</td>\n",
       "    </tr>\n",
       "    <tr>\n",
       "      <th>23</th>\n",
       "      <td>0.292226</td>\n",
       "      <td>0.886435</td>\n",
       "      <td>0.538483</td>\n",
       "      <td>0.769231</td>\n",
       "    </tr>\n",
       "    <tr>\n",
       "      <th>24</th>\n",
       "      <td>0.301069</td>\n",
       "      <td>0.886435</td>\n",
       "      <td>0.578870</td>\n",
       "      <td>0.717949</td>\n",
       "    </tr>\n",
       "    <tr>\n",
       "      <th>25</th>\n",
       "      <td>0.289368</td>\n",
       "      <td>0.911672</td>\n",
       "      <td>0.577781</td>\n",
       "      <td>0.769231</td>\n",
       "    </tr>\n",
       "    <tr>\n",
       "      <th>26</th>\n",
       "      <td>0.286687</td>\n",
       "      <td>0.883281</td>\n",
       "      <td>0.677974</td>\n",
       "      <td>0.807692</td>\n",
       "    </tr>\n",
       "  </tbody>\n",
       "</table>\n",
       "</div>"
      ],
      "text/plain": [
       "        loss       acc  val_loss   val_acc\n",
       "0   7.748244  0.558360  0.595211  0.743590\n",
       "1   0.565617  0.750789  0.548186  0.769231\n",
       "2   0.545509  0.735016  0.637604  0.705128\n",
       "3   0.530145  0.798107  0.548174  0.769231\n",
       "4   0.488850  0.785489  0.539621  0.705128\n",
       "5   0.419711  0.851735  0.536843  0.730769\n",
       "6   0.458033  0.766562  0.509264  0.807692\n",
       "7   0.344365  0.870662  0.579813  0.782051\n",
       "8   0.523989  0.722397  0.572068  0.730769\n",
       "9   0.340369  0.858044  0.508488  0.769231\n",
       "10  0.347092  0.854890  0.549935  0.782051\n",
       "11  0.359223  0.848580  0.502984  0.730769\n",
       "12  0.328636  0.867508  0.599910  0.782051\n",
       "13  0.388079  0.839117  0.491606  0.756410\n",
       "14  0.338682  0.854890  0.505548  0.743590\n",
       "15  0.308479  0.895899  0.569929  0.807692\n",
       "16  0.303305  0.880126  0.519635  0.782051\n",
       "17  0.299333  0.911672  0.560789  0.717949\n",
       "18  0.301053  0.892744  0.540065  0.833333\n",
       "19  0.341442  0.867508  0.539090  0.769231\n",
       "20  0.304963  0.911672  0.538358  0.769231\n",
       "21  0.324812  0.876972  0.552766  0.769231\n",
       "22  0.312527  0.892744  0.513927  0.756410\n",
       "23  0.292226  0.886435  0.538483  0.769231\n",
       "24  0.301069  0.886435  0.578870  0.717949\n",
       "25  0.289368  0.911672  0.577781  0.769231\n",
       "26  0.286687  0.883281  0.677974  0.807692"
      ]
     },
     "execution_count": 85,
     "metadata": {},
     "output_type": "execute_result"
    }
   ],
   "source": [
    "df1 = pd.DataFrame(\n",
    "    data={'loss':history.history['loss'], \n",
    "          'acc':history.history['acc'],\n",
    "          'val_loss':history.history['val_loss'], \n",
    "          'val_acc':history.history['val_acc']\n",
    "         }, \n",
    "    index=np.arange(0, n)\n",
    ")\n",
    " \n",
    "df1"
   ]
  },
  {
   "cell_type": "code",
   "execution_count": 86,
   "metadata": {},
   "outputs": [
    {
     "data": {
      "text/html": [
       "<div>\n",
       "<style scoped>\n",
       "    .dataframe tbody tr th:only-of-type {\n",
       "        vertical-align: middle;\n",
       "    }\n",
       "\n",
       "    .dataframe tbody tr th {\n",
       "        vertical-align: top;\n",
       "    }\n",
       "\n",
       "    .dataframe thead th {\n",
       "        text-align: right;\n",
       "    }\n",
       "</style>\n",
       "<table border=\"1\" class=\"dataframe\">\n",
       "  <thead>\n",
       "    <tr style=\"text-align: right;\">\n",
       "      <th></th>\n",
       "      <th>Kernel</th>\n",
       "      <th>Conv2D</th>\n",
       "      <th>hidden01</th>\n",
       "      <th>Batch_size</th>\n",
       "      <th>epochs</th>\n",
       "    </tr>\n",
       "  </thead>\n",
       "  <tbody>\n",
       "    <tr>\n",
       "      <th>0</th>\n",
       "      <td>14x4</td>\n",
       "      <td>10</td>\n",
       "      <td>10</td>\n",
       "      <td>32</td>\n",
       "      <td>27</td>\n",
       "    </tr>\n",
       "    <tr>\n",
       "      <th>1</th>\n",
       "      <td>14x4</td>\n",
       "      <td>10</td>\n",
       "      <td>10</td>\n",
       "      <td>32</td>\n",
       "      <td>27</td>\n",
       "    </tr>\n",
       "    <tr>\n",
       "      <th>2</th>\n",
       "      <td>14x4</td>\n",
       "      <td>10</td>\n",
       "      <td>10</td>\n",
       "      <td>32</td>\n",
       "      <td>27</td>\n",
       "    </tr>\n",
       "    <tr>\n",
       "      <th>3</th>\n",
       "      <td>14x4</td>\n",
       "      <td>10</td>\n",
       "      <td>10</td>\n",
       "      <td>32</td>\n",
       "      <td>27</td>\n",
       "    </tr>\n",
       "  </tbody>\n",
       "</table>\n",
       "</div>"
      ],
      "text/plain": [
       "  Kernel Conv2D hidden01 Batch_size epochs\n",
       "0   14x4     10       10         32     27\n",
       "1   14x4     10       10         32     27\n",
       "2   14x4     10       10         32     27\n",
       "3   14x4     10       10         32     27"
      ]
     },
     "execution_count": 86,
     "metadata": {},
     "output_type": "execute_result"
    }
   ],
   "source": [
    "df2 = pd.DataFrame(\n",
    "    data={'Kernel':f'14x{i}',\n",
    "         'Conv2D':str(j),\n",
    "         'hidden01':str(k),\n",
    "         'Batch_size':str(m),\n",
    "         'epochs':str(n)}, \n",
    "    index=np.arange(4)\n",
    ")\n",
    "df2"
   ]
  },
  {
   "cell_type": "code",
   "execution_count": 87,
   "metadata": {},
   "outputs": [
    {
     "name": "stdout",
     "output_type": "stream",
     "text": [
      "        loss       acc  val_loss   val_acc Kernel Conv2D hidden01 Batch_size  \\\n",
      "0   7.748244  0.558360  0.595211  0.743590   14x4     10       10         32   \n",
      "1   0.565617  0.750789  0.548186  0.769231   14x4     10       10         32   \n",
      "2   0.545509  0.735016  0.637604  0.705128   14x4     10       10         32   \n",
      "3   0.530145  0.798107  0.548174  0.769231   14x4     10       10         32   \n",
      "4   0.488850  0.785489  0.539621  0.705128    NaN    NaN      NaN        NaN   \n",
      "5   0.419711  0.851735  0.536843  0.730769    NaN    NaN      NaN        NaN   \n",
      "6   0.458033  0.766562  0.509264  0.807692    NaN    NaN      NaN        NaN   \n",
      "7   0.344365  0.870662  0.579813  0.782051    NaN    NaN      NaN        NaN   \n",
      "8   0.523989  0.722397  0.572068  0.730769    NaN    NaN      NaN        NaN   \n",
      "9   0.340369  0.858044  0.508488  0.769231    NaN    NaN      NaN        NaN   \n",
      "10  0.347092  0.854890  0.549935  0.782051    NaN    NaN      NaN        NaN   \n",
      "11  0.359223  0.848580  0.502984  0.730769    NaN    NaN      NaN        NaN   \n",
      "12  0.328636  0.867508  0.599910  0.782051    NaN    NaN      NaN        NaN   \n",
      "13  0.388079  0.839117  0.491606  0.756410    NaN    NaN      NaN        NaN   \n",
      "14  0.338682  0.854890  0.505548  0.743590    NaN    NaN      NaN        NaN   \n",
      "15  0.308479  0.895899  0.569929  0.807692    NaN    NaN      NaN        NaN   \n",
      "16  0.303305  0.880126  0.519635  0.782051    NaN    NaN      NaN        NaN   \n",
      "17  0.299333  0.911672  0.560789  0.717949    NaN    NaN      NaN        NaN   \n",
      "18  0.301053  0.892744  0.540065  0.833333    NaN    NaN      NaN        NaN   \n",
      "19  0.341442  0.867508  0.539090  0.769231    NaN    NaN      NaN        NaN   \n",
      "20  0.304963  0.911672  0.538358  0.769231    NaN    NaN      NaN        NaN   \n",
      "21  0.324812  0.876972  0.552766  0.769231    NaN    NaN      NaN        NaN   \n",
      "22  0.312527  0.892744  0.513927  0.756410    NaN    NaN      NaN        NaN   \n",
      "23  0.292226  0.886435  0.538483  0.769231    NaN    NaN      NaN        NaN   \n",
      "24  0.301069  0.886435  0.578870  0.717949    NaN    NaN      NaN        NaN   \n",
      "25  0.289368  0.911672  0.577781  0.769231    NaN    NaN      NaN        NaN   \n",
      "26  0.286687  0.883281  0.677974  0.807692    NaN    NaN      NaN        NaN   \n",
      "\n",
      "   epochs  \n",
      "0      27  \n",
      "1      27  \n",
      "2      27  \n",
      "3      27  \n",
      "4     NaN  \n",
      "5     NaN  \n",
      "6     NaN  \n",
      "7     NaN  \n",
      "8     NaN  \n",
      "9     NaN  \n",
      "10    NaN  \n",
      "11    NaN  \n",
      "12    NaN  \n",
      "13    NaN  \n",
      "14    NaN  \n",
      "15    NaN  \n",
      "16    NaN  \n",
      "17    NaN  \n",
      "18    NaN  \n",
      "19    NaN  \n",
      "20    NaN  \n",
      "21    NaN  \n",
      "22    NaN  \n",
      "23    NaN  \n",
      "24    NaN  \n",
      "25    NaN  \n",
      "26    NaN  \n"
     ]
    }
   ],
   "source": [
    "print(pd.concat([df1, df2], axis=1))\n",
    "df3 = pd.concat([df1, df2], axis=1)"
   ]
  },
  {
   "cell_type": "code",
   "execution_count": 88,
   "metadata": {},
   "outputs": [],
   "source": [
    "var = \"CNN_various_05\"\n",
    "filename = f'./fitting_model/FCvsCNN/CNN/trial_{var}.csv'\n",
    "df3.to_csv(filename)"
   ]
  },
  {
   "cell_type": "code",
   "execution_count": 89,
   "metadata": {},
   "outputs": [
    {
     "data": {
      "image/png": "[encoded data removed]",
      "text/plain": [
       "<Figure size 432x288 with 1 Axes>"
      ]
     },
     "metadata": {
      "needs_background": "light"
     },
     "output_type": "display_data"
    }
   ],
   "source": [
    "plt.plot(range(1, NUM_EPOCHS+1), df3['acc'], \"-o\")\n",
    "plt.plot(range(1, NUM_EPOCHS+1), df3['val_acc'], \"-o\")\n",
    "plt.title('model accuracy')\n",
    "plt.ylabel('accuracy')  # Y軸ラベル\n",
    "plt.xlabel('epoch')  # X軸ラベル\n",
    "plt.grid()\n",
    "plt.legend(['acc', 'val_acc'], loc='best')\n",
    "#plt.xlim(0,NUM_EPOCHS)\n",
    "plt.ylim(0.0,1.0)\n",
    "plt.show()"
   ]
  },
  {
   "cell_type": "code",
   "execution_count": 90,
   "metadata": {},
   "outputs": [
    {
     "data": {
      "image/png": "[encoded data removed]",
      "text/plain": [
       "<Figure size 432x288 with 1 Axes>"
      ]
     },
     "metadata": {
      "needs_background": "light"
     },
     "output_type": "display_data"
    }
   ],
   "source": [
    "plt.plot(range(1, NUM_EPOCHS+1), df3['loss'], \"-o\")\n",
    "plt.plot(range(1, NUM_EPOCHS+1), df3['val_loss'], \"-o\")\n",
    "plt.title('model loss')\n",
    "plt.ylabel('loss')  # Y軸ラベル\n",
    "plt.xlabel('epoch')  # X軸ラベル\n",
    "plt.grid()\n",
    "plt.legend(['loss', 'val_loss'], loc='best')\n",
    "#plt.xlim(0,NUM_EPOCHS)\n",
    "plt.ylim(0.0,1.0)\n",
    "plt.show()"
   ]
  },
  {
   "cell_type": "markdown",
   "metadata": {},
   "source": [
    "epochs = 23がより最適だ．"
   ]
  },
  {
   "cell_type": "code",
   "execution_count": 91,
   "metadata": {},
   "outputs": [
    {
     "name": "stdout",
     "output_type": "stream",
     "text": [
      "78/78 [==============================] - 0s 24us/sample - loss: 0.6780 - acc: 0.8077\n",
      "Test Loss: 67.79744376738867%\n",
      "Test Acc: 80.7692289352417%\n"
     ]
    }
   ],
   "source": [
    "loss, acc = model.evaluate(x_val, y_val)\n",
    "print(f\"Test Loss: {loss*100}%\")\n",
    "print(f\"Test Acc: {acc*100}%\")"
   ]
  },
  {
   "cell_type": "code",
   "execution_count": 92,
   "metadata": {},
   "outputs": [],
   "source": [
    "Vernum=99"
   ]
  },
  {
   "cell_type": "code",
   "execution_count": 94,
   "metadata": {},
   "outputs": [
    {
     "name": "stdout",
     "output_type": "stream",
     "text": [
      "Saved trained model at ./model_saving/20220801-034541_CNN_99 \n"
     ]
    }
   ],
   "source": [
    "#saving the model.\n",
    "save_dir = \"./saving_model/\"\n",
    "model_name = datetime.datetime.now().strftime(f\"%Y%m%d-%H%M%S_CNN_{Vernum}\")\n",
    "if not os.path.isdir(save_dir):\n",
    "    os.makedirs(save_dir)\n",
    "model_path = os.path.join(save_dir, model_name)\n",
    "model.save(model_path)\n",
    "print('Saved trained model at %s ' % model_path)"
   ]
  },
  {
   "cell_type": "code",
   "execution_count": 95,
   "metadata": {},
   "outputs": [],
   "source": [
    "predict_positive_list = model.predict(x_train_positive_all_5crossval)\n",
    "predict_negative_list = model.predict(x_train_negative_all_5crossval)"
   ]
  },
  {
   "cell_type": "code",
   "execution_count": 118,
   "metadata": {},
   "outputs": [],
   "source": [
    "from sklearn.metrics import roc_curve\n",
    "import matplotlib.pyplot as plt\n",
    "\n",
    "y_true = [0, 0, 0, 0, 1, 1, 1, 1]\n",
    "y_score = [0.2, 0.3, 0.6, 0.8, 0.4, 0.5, 0.7, 0.9]\n",
    "\n",
    "y_true01 = []\n",
    "y_score01 = []\n",
    "for i in range(len(predict_positive_list)):\n",
    "    y_true01.append(1)\n",
    "    y_score01.append(predict_positive_list[i][0])\n",
    "for i  in range(len(predict_negative_list)):\n",
    "    y_true01.append(0)\n",
    "    y_score01.append(predict_negative_list[i][0])\n",
    "        \n",
    "y_true01 = list(y_true01)\n",
    "y_score01 = list(y_score01)\n",
    "\n",
    "#roc = roc_curve(y_true01, y_score01)\n",
    "\n",
    "#print(type(roc))\n",
    "# <class 'tuple'>\n",
    "\n",
    "#print(len(roc))\n",
    "# 3"
   ]
  },
  {
   "cell_type": "code",
   "execution_count": 97,
   "metadata": {},
   "outputs": [
    {
     "name": "stdout",
     "output_type": "stream",
     "text": [
      "[0.         0.         0.         0.05263158 0.05263158 0.07894737\n",
      " 0.07894737 0.13157895 0.13157895 0.15789474 0.15789474 0.21052632\n",
      " 0.21052632 0.23684211 0.23684211 0.23684211 0.23684211 0.23684211\n",
      " 0.23684211 0.36842105 0.36842105 0.39473684 0.39473684 0.47368421\n",
      " 0.47368421 1.        ]\n",
      "[0.         0.02439024 0.24390244 0.24390244 0.36585366 0.36585366\n",
      " 0.3902439  0.3902439  0.48780488 0.48780488 0.63414634 0.63414634\n",
      " 0.70731707 0.70731707 0.73170732 0.7804878  0.80487805 0.85365854\n",
      " 0.90243902 0.90243902 0.92682927 0.92682927 0.95121951 0.95121951\n",
      " 1.         1.        ]\n",
      "[1.97698092e+00 9.76980984e-01 8.93442750e-01 8.70414615e-01\n",
      " 8.44122052e-01 8.30879807e-01 8.17082465e-01 8.07344854e-01\n",
      " 7.02091634e-01 6.90217793e-01 5.65151572e-01 4.60140467e-01\n",
      " 4.26620215e-01 3.46877396e-01 3.14932078e-01 2.66016960e-01\n",
      " 2.01172546e-01 1.88423797e-01 1.67583391e-01 1.14207216e-01\n",
      " 1.11092389e-01 8.30488503e-02 6.64380714e-02 5.06677590e-02\n",
      " 3.46020162e-02 2.53762451e-08]\n"
     ]
    }
   ],
   "source": [
    "fpr, tpr, thresholds = roc_curve(y_true01, y_score01)\n",
    "\n",
    "print(fpr)\n",
    "# [0.   0.   0.25 0.25 0.5  0.5  1.  ]\n",
    "\n",
    "print(tpr)\n",
    "# [0.   0.25 0.25 0.5  0.5  1.   1.  ]\n",
    "\n",
    "print(thresholds)\n",
    "# [1.9 0.9 0.8 0.7 0.6 0.4 0.2]"
   ]
  },
  {
   "cell_type": "code",
   "execution_count": 103,
   "metadata": {},
   "outputs": [
    {
     "data": {
      "text/plain": [
       "26"
      ]
     },
     "execution_count": 103,
     "metadata": {},
     "output_type": "execute_result"
    }
   ],
   "source": [
    "len(fpr)"
   ]
  },
  {
   "cell_type": "code",
   "execution_count": 104,
   "metadata": {},
   "outputs": [
    {
     "name": "stdout",
     "output_type": "stream",
     "text": [
      "area: 0.08344030808729141\n"
     ]
    }
   ],
   "source": [
    "height = 0\n",
    "area = 0\n",
    "\n",
    "for i in range(len(fpr)-1):\n",
    "    if fpr[i+1] - fpr[i] == 0:\n",
    "        height = height + (tpr[i+1] - tpr[i])\n",
    "        continue\n",
    "    else:\n",
    "        area = area + (fpr[i+1]-fpr[i])*height\n",
    "        height = 0\n",
    "print(f'area: {area}')"
   ]
  },
  {
   "cell_type": "markdown",
   "metadata": {},
   "source": [
    "https://www.web-dev-qa-db-ja.com/ja/python/%E6%9B%B2%E7%B7%9A%E4%B8%8B%E3%81%AE%E9%83%A8%E5%88%86%E9%9D%A2%E7%A9%8D%EF%BC%88auc%EF%BC%89%E3%81%AE%E8%A8%88%E7%AE%97%E6%96%B9%E6%B3%95/828374859/"
   ]
  },
  {
   "cell_type": "code",
   "execution_count": 105,
   "metadata": {},
   "outputs": [
    {
     "ename": "NameError",
     "evalue": "name 'metrics' is not defined",
     "output_type": "error",
     "traceback": [
      "\u001b[0;31m---------------------------------------------------------------------------\u001b[0m",
      "\u001b[0;31mNameError\u001b[0m                                 Traceback (most recent call last)",
      "\u001b[0;32m<ipython-input-105-175ea98faed5>\u001b[0m in \u001b[0;36m<module>\u001b[0;34m\u001b[0m\n\u001b[1;32m      2\u001b[0m \u001b[0;34m\u001b[0m\u001b[0m\n\u001b[1;32m      3\u001b[0m \u001b[0mscores\u001b[0m \u001b[0;34m=\u001b[0m \u001b[0mnp\u001b[0m\u001b[0;34m.\u001b[0m\u001b[0marray\u001b[0m\u001b[0;34m(\u001b[0m\u001b[0;34m[\u001b[0m\u001b[0;36m0.1\u001b[0m\u001b[0;34m,\u001b[0m \u001b[0;36m0.4\u001b[0m\u001b[0;34m,\u001b[0m \u001b[0;36m0.35\u001b[0m\u001b[0;34m,\u001b[0m \u001b[0;36m0.8\u001b[0m\u001b[0;34m]\u001b[0m\u001b[0;34m)\u001b[0m\u001b[0;34m\u001b[0m\u001b[0;34m\u001b[0m\u001b[0m\n\u001b[0;32m----> 4\u001b[0;31m \u001b[0mmetrics\u001b[0m\u001b[0;34m.\u001b[0m\u001b[0mroc_auc_score\u001b[0m\u001b[0;34m(\u001b[0m\u001b[0my\u001b[0m\u001b[0;34m,\u001b[0m \u001b[0mscores\u001b[0m\u001b[0;34m)\u001b[0m\u001b[0;34m\u001b[0m\u001b[0;34m\u001b[0m\u001b[0m\n\u001b[0m",
      "\u001b[0;31mNameError\u001b[0m: name 'metrics' is not defined"
     ]
    }
   ],
   "source": [
    "y = np.array([0, 0, 1, 1])\n",
    "\n",
    "scores = np.array([0.1, 0.4, 0.35, 0.8])\n",
    "metrics.roc_auc_score(y, scores)"
   ]
  },
  {
   "cell_type": "code",
   "execution_count": 115,
   "metadata": {},
   "outputs": [
    {
     "ename": "SyntaxError",
     "evalue": "EOF while scanning triple-quoted string literal (<ipython-input-115-9844e3f0aab3>, line 12)",
     "output_type": "error",
     "traceback": [
      "\u001b[0;36m  File \u001b[0;32m\"<ipython-input-115-9844e3f0aab3>\"\u001b[0;36m, line \u001b[0;32m12\u001b[0m\n\u001b[0;31m    return area\u001b[0m\n\u001b[0m               \n^\u001b[0m\n\u001b[0;31mSyntaxError\u001b[0m\u001b[0;31m:\u001b[0m EOF while scanning triple-quoted string literal\n"
     ]
    }
   ],
   "source": [
    "'''\n",
    "import itertools\n",
    "import operator\n",
    "\n",
    "def auc_from_fpr_tpr(fpr, tpr, trapezoid=False):\n",
    "    inds = [i for (i, (s, e)) in enumerate(Zip(fpr[: -1], fpr[1: ])) if s != e] + [len(fpr) - 1]\n",
    "    fpr, tpr = fpr[inds], tpr[inds]\n",
    "    area = 0\n",
    "    ft = Zip(fpr, tpr)\n",
    "    for p0, p1 in Zip(ft[: -1], ft[1: ]):\n",
    "        area += (p1[0] - p0[0]) * ((p1[1] + p0[1]) / 2 if trapezoid else p0[1])\n",
    "    return area"
   ]
  },
  {
   "cell_type": "code",
   "execution_count": 114,
   "metadata": {},
   "outputs": [],
   "source": [
    "#auc_from_fpr_tpr(fpr, tpr)"
   ]
  },
  {
   "cell_type": "markdown",
   "metadata": {},
   "source": [
    "https://cookie-box.hatenablog.com/entry/2019/02/10/182619"
   ]
  },
  {
   "cell_type": "code",
   "execution_count": 109,
   "metadata": {},
   "outputs": [
    {
     "name": "stdout",
     "output_type": "stream",
     "text": [
      "0.9375\n",
      "0.9375\n"
     ]
    }
   ],
   "source": [
    "from sklearn import metrics\n",
    "\n",
    "list_label = [0, 0, 0, 1, 1, 0, 1, 1]\n",
    "list_score = [2, 1, 2, 4, 2, 1, 3, 5]\n",
    "\n",
    "auc = metrics.roc_auc_score(list_label, list_score)\n",
    "print(auc)\n",
    "\n",
    "fpr, tpr, thresholds = metrics.roc_curve(list_label, list_score)\n",
    "auc = metrics.auc(fpr, tpr)\n",
    "print(auc)"
   ]
  },
  {
   "cell_type": "code",
   "execution_count": 119,
   "metadata": {},
   "outputs": [
    {
     "name": "stdout",
     "output_type": "stream",
     "text": [
      "0.8523748395378692\n"
     ]
    }
   ],
   "source": [
    "auc = metrics.roc_auc_score(y_true01, y_score01)\n",
    "print(auc)"
   ]
  },
  {
   "cell_type": "code",
   "execution_count": 110,
   "metadata": {},
   "outputs": [
    {
     "name": "stderr",
     "output_type": "stream",
     "text": [
      "findfont: Font family ['Ume Gothic O5'] not found. Falling back to DejaVu Sans.\n"
     ]
    },
    {
     "name": "stdout",
     "output_type": "stream",
     "text": [
      "fpr:  [0.  0.  0.  0.5 1. ]\n",
      "tpr:  [0.   0.25 0.75 1.   1.  ]\n",
      "thresholds:  [6 5 3 2 1]\n"
     ]
    },
    {
     "data": {
      "image/png": "[encoded data removed]",
      "text/plain": [
       "<Figure size 432x288 with 1 Axes>"
      ]
     },
     "metadata": {
      "needs_background": "light"
     },
     "output_type": "display_data"
    }
   ],
   "source": [
    "%matplotlib inline\n",
    "import matplotlib.pyplot as plt\n",
    "from pylab import rcParams\n",
    "rcParams['figure.figsize'] = 6, 4\n",
    "rcParams['font.family'] = 'Ume Gothic O5'\n",
    "rcParams['font.size'] = 16\n",
    "\n",
    "print(\"fpr: \", fpr)\n",
    "print(\"tpr: \", tpr)\n",
    "print(\"thresholds: \", thresholds)\n",
    "\n",
    "plt.plot(fpr, tpr, marker=\"o\")\n",
    "plt.xlabel(\"fpr\")\n",
    "plt.ylabel(\"tpr\")\n",
    "plt.show()"
   ]
  },
  {
   "cell_type": "code",
   "execution_count": 111,
   "metadata": {},
   "outputs": [
    {
     "name": "stdout",
     "output_type": "stream",
     "text": [
      "fpr:  [0.  0.  0.  0.  0.5 1. ]\n",
      "tpr:  [0.   0.25 0.5  0.75 1.   1.  ]\n",
      "thresholds:  [6 5 4 3 2 1]\n"
     ]
    },
    {
     "data": {
      "image/png": "[encoded data removed]",
      "text/plain": [
       "<Figure size 432x288 with 1 Axes>"
      ]
     },
     "metadata": {
      "needs_background": "light"
     },
     "output_type": "display_data"
    }
   ],
   "source": [
    "fpr, tpr, thresholds = metrics.roc_curve(list_label, list_score, drop_intermediate=False)\n",
    "print(\"fpr: \", fpr)\n",
    "print(\"tpr: \", tpr)\n",
    "print(\"thresholds: \", thresholds)\n",
    "\n",
    "plt.plot(fpr, tpr, marker=\"o\")\n",
    "plt.xlabel(\"fpr\")\n",
    "plt.ylabel(\"tpr\")\n",
    "plt.show()"
   ]
  },
  {
   "cell_type": "code",
   "execution_count": 112,
   "metadata": {},
   "outputs": [
    {
     "name": "stdout",
     "output_type": "stream",
     "text": [
      "y_score:  [2, 1, 2, 4, 2, 1, 3, 5]\n",
      "y_true:  [0, 0, 0, 1, 1, 0, 1, 1]\n",
      "y_score(ソート済み):  [5 4 3 2 2 2 1 1]\n",
      "y_true(ソート済み):  [1 1 1 1 0 0 0 0]\n",
      "次の要素との差がゼロでないインデックス:  [0 1 2 5]\n",
      "fp:  [0. 0. 0. 2. 4.]\n",
      "tp:  [1. 2. 3. 4. 4.]\n",
      "thresholds:  [5 4 3 2 1]\n"
     ]
    }
   ],
   "source": [
    "import numpy as np\n",
    "from sklearn.utils.extmath import stable_cumsum\n",
    "\n",
    "def my_binary_clf_curve(y_true, y_score, pos_label=None):\n",
    "    y_true = np.array(y_true)\n",
    "    y_score = np.array(y_score)\n",
    "\n",
    "    # y_true および y_score を y_score の降順にソートする\n",
    "    desc_score_indices = np.argsort(y_score, kind=\"mergesort\")[::-1]\n",
    "    y_score = y_score[desc_score_indices]\n",
    "    y_true = y_true[desc_score_indices]\n",
    "    print(\"y_score(ソート済み): \", y_score)\n",
    "    print(\"y_true(ソート済み): \", y_true)\n",
    "\n",
    "    # ほしいのはこの y_score のそれぞれを閾値としたときに、検出されるスパムメールと非スパムメールの個数のベクトル\n",
    "    # ただ y_score はしばしば同値データを多く含む\n",
    "    # 次の要素との差がゼロでないインデックスでのみスパムメールと非スパムメールの個数がほしいのでそのようなインデックスを取得する\n",
    "    distinct_value_indices = np.where(np.diff(y_score))[0]\n",
    "    print(\"次の要素との差がゼロでないインデックス: \", distinct_value_indices)\n",
    "    threshold_idxs = np.r_[distinct_value_indices, y_true.size - 1] # 最後の fp、tp が取れないので最後のインデックスは補う\n",
    "\n",
    "    # y_true を cumsum すればよい    \n",
    "    tps = stable_cumsum(y_true)[threshold_idxs] # その閾値で検出されるスパムメールの個数\n",
    "    fps = 1 + threshold_idxs - tps # その閾値で検出される非スパムメールの個数（インデックス+1 が検出されるデータ総数なので tps を引けばよい）\n",
    "    return fps, tps, y_score[threshold_idxs]    \n",
    "\n",
    "print(\"y_score: \", list_score)\n",
    "print(\"y_true: \", list_label)\n",
    "fp, tp, thresholds = my_binary_clf_curve(list_label, list_score)\n",
    "print(\"fp: \", fp)\n",
    "print(\"tp: \", tp)\n",
    "print(\"thresholds: \", thresholds)"
   ]
  },
  {
   "cell_type": "code",
   "execution_count": 113,
   "metadata": {},
   "outputs": [
    {
     "name": "stdout",
     "output_type": "stream",
     "text": [
      "0.9375\n"
     ]
    }
   ],
   "source": [
    "def my_auc(x, y):\n",
    "    area = np.trapz(y, x)\n",
    "    return area\n",
    "\n",
    "fpr = fp / fp[-1]\n",
    "tpr = tp / tp[-1]\n",
    "auc = my_auc(fpr, tpr)\n",
    "print(auc)"
   ]
  },
  {
   "cell_type": "code",
   "execution_count": 98,
   "metadata": {},
   "outputs": [
    {
     "data": {
      "image/png": "[encoded data removed]",
      "text/plain": [
       "<Figure size 432x288 with 1 Axes>"
      ]
     },
     "metadata": {
      "needs_background": "light"
     },
     "output_type": "display_data"
    }
   ],
   "source": [
    "plt.plot(fpr, tpr, marker='o')\n",
    "plt.xlabel('FPR: False positive rate')\n",
    "plt.ylabel('TPR: True positive rate')\n",
    "plt.grid()\n",
    "#plt.savefig('data/dst/sklearn_roc_curve.png')"
   ]
  },
  {
   "cell_type": "code",
   "execution_count": 99,
   "metadata": {},
   "outputs": [
    {
     "name": "stdout",
     "output_type": "stream",
     "text": [
      "0.6341463414634146\n"
     ]
    }
   ],
   "source": [
    "true_p = 0\n",
    "false_n = 0\n",
    "total_posi_data = len(predict_positive_list)\n",
    "\n",
    "false_p = 0\n",
    "true_n = 0\n",
    "total_nega_data = len(predict_negative_list)\n",
    "\n",
    "for i in range(total_posi_data):\n",
    "    if predict_positive_list[i][0] > predict_positive_list[i][1]:\n",
    "        true_p = true_p + 1\n",
    "    else:\n",
    "        false_n = false_n + 1\n",
    "        \n",
    "for i in range(total_nega_data):\n",
    "    if predict_negative_list[i][0] < predict_negative_list[i][1]:\n",
    "        true_n = true_n + 1\n",
    "    else:\n",
    "        false_p = false_p + 1\n",
    "    \n",
    "sensitivity = true_p/total_posi_data\n",
    "print(sensitivity)\n",
    "specificity = true_n/total_nega_data\n",
    "\n",
    "precision = true_p/(true_p+false_p)\n",
    "accuracy = (true_p+true_n)/(total_posi_data+total_nega_data)"
   ]
  },
  {
   "cell_type": "code",
   "execution_count": 100,
   "metadata": {},
   "outputs": [
    {
     "name": "stdout",
     "output_type": "stream",
     "text": [
      "26\n",
      "15\n",
      "6\n",
      "32\n",
      "79\n"
     ]
    }
   ],
   "source": [
    "print(true_p)\n",
    "print(false_n)\n",
    "print(false_p)\n",
    "print(true_n)\n",
    "print(true_p+false_n+false_p+true_n)"
   ]
  },
  {
   "cell_type": "code",
   "execution_count": 101,
   "metadata": {},
   "outputs": [
    {
     "data": {
      "text/html": [
       "<div>\n",
       "<style scoped>\n",
       "    .dataframe tbody tr th:only-of-type {\n",
       "        vertical-align: middle;\n",
       "    }\n",
       "\n",
       "    .dataframe tbody tr th {\n",
       "        vertical-align: top;\n",
       "    }\n",
       "\n",
       "    .dataframe thead th {\n",
       "        text-align: right;\n",
       "    }\n",
       "</style>\n",
       "<table border=\"1\" class=\"dataframe\">\n",
       "  <thead>\n",
       "    <tr style=\"text-align: right;\">\n",
       "      <th></th>\n",
       "      <th>予測（開裂）</th>\n",
       "      <th>予測（非開裂）</th>\n",
       "    </tr>\n",
       "  </thead>\n",
       "  <tbody>\n",
       "    <tr>\n",
       "      <th>実際（開裂）</th>\n",
       "      <td>26</td>\n",
       "      <td>15</td>\n",
       "    </tr>\n",
       "    <tr>\n",
       "      <th>実際（非開裂）</th>\n",
       "      <td>6</td>\n",
       "      <td>32</td>\n",
       "    </tr>\n",
       "  </tbody>\n",
       "</table>\n",
       "</div>"
      ],
      "text/plain": [
       "         予測（開裂）  予測（非開裂）\n",
       "実際（開裂）       26       15\n",
       "実際（非開裂）       6       32"
      ]
     },
     "execution_count": 101,
     "metadata": {},
     "output_type": "execute_result"
    }
   ],
   "source": [
    "df_table02 = pd.DataFrame(\n",
    "    data={'予測（開裂）': [true_p, false_p], \n",
    "          '予測（非開裂）': [false_n, true_n]},\n",
    "    index=['実際（開裂）', '実際（非開裂）']\n",
    ")\n",
    " \n",
    "df_table02"
   ]
  },
  {
   "cell_type": "code",
   "execution_count": 102,
   "metadata": {},
   "outputs": [
    {
     "name": "stdout",
     "output_type": "stream",
     "text": [
      "0.6341463414634146\n",
      "0.8421052631578947\n",
      "0.8125\n",
      "0.7341772151898734\n"
     ]
    }
   ],
   "source": [
    "print(sensitivity)\n",
    "print(specificity)\n",
    "print(precision)\n",
    "print(accuracy)"
   ]
  },
  {
   "cell_type": "markdown",
   "metadata": {},
   "source": [
    "## FC various experiment"
   ]
  },
  {
   "cell_type": "code",
   "execution_count": null,
   "metadata": {},
   "outputs": [],
   "source": [
    "#experiment number\n",
    "Vernum = 94"
   ]
  },
  {
   "cell_type": "code",
   "execution_count": 88,
   "metadata": {},
   "outputs": [
    {
     "name": "stdout",
     "output_type": "stream",
     "text": [
      "Model: \"sequential_9\"\n",
      "_________________________________________________________________\n",
      "Layer (type)                 Output Shape              Param #   \n",
      "=================================================================\n",
      "Dense_01 (Conv2D)            (None, 1, 1, 10)          1130      \n",
      "_________________________________________________________________\n",
      "Flatten_01 (Flatten)         (None, 10)                0         \n",
      "_________________________________________________________________\n",
      "Dense_out (Dense)            (None, 2)                 22        \n",
      "_________________________________________________________________\n",
      "activation_9 (Activation)    (None, 2)                 0         \n",
      "=================================================================\n",
      "Total params: 1,152\n",
      "Trainable params: 1,152\n",
      "Non-trainable params: 0\n",
      "_________________________________________________________________\n",
      "\n",
      "Epoch 00001: val_loss improved from inf to 0.69352, saving model to ../callbacks/92_01-0.6935.hdf5\n",
      "\n",
      "Epoch 00002: val_loss improved from 0.69352 to 0.69339, saving model to ../callbacks/92_02-0.6934.hdf5\n",
      "\n",
      "Epoch 00003: val_loss improved from 0.69339 to 0.69327, saving model to ../callbacks/92_03-0.6933.hdf5\n",
      "\n",
      "Epoch 00004: val_loss improved from 0.69327 to 0.69317, saving model to ../callbacks/92_04-0.6932.hdf5\n",
      "\n",
      "Epoch 00005: val_loss improved from 0.69317 to 0.69306, saving model to ../callbacks/92_05-0.6931.hdf5\n",
      "\n",
      "Epoch 00006: val_loss improved from 0.69306 to 0.69297, saving model to ../callbacks/92_06-0.6930.hdf5\n",
      "\n",
      "Epoch 00007: val_loss improved from 0.69297 to 0.69288, saving model to ../callbacks/92_07-0.6929.hdf5\n",
      "\n",
      "Epoch 00008: val_loss improved from 0.69288 to 0.69280, saving model to ../callbacks/92_08-0.6928.hdf5\n",
      "\n",
      "Epoch 00009: val_loss improved from 0.69280 to 0.69272, saving model to ../callbacks/92_09-0.6927.hdf5\n",
      "\n",
      "Epoch 00010: val_loss improved from 0.69272 to 0.69266, saving model to ../callbacks/92_10-0.6927.hdf5\n",
      "\n",
      "Epoch 00011: val_loss improved from 0.69266 to 0.69261, saving model to ../callbacks/92_11-0.6926.hdf5\n",
      "\n",
      "Epoch 00012: val_loss improved from 0.69261 to 0.69255, saving model to ../callbacks/92_12-0.6926.hdf5\n",
      "\n",
      "Epoch 00013: val_loss improved from 0.69255 to 0.69251, saving model to ../callbacks/92_13-0.6925.hdf5\n",
      "\n",
      "Epoch 00014: val_loss improved from 0.69251 to 0.69246, saving model to ../callbacks/92_14-0.6925.hdf5\n",
      "\n",
      "Epoch 00015: val_loss improved from 0.69246 to 0.69242, saving model to ../callbacks/92_15-0.6924.hdf5\n",
      "\n",
      "Epoch 00016: val_loss improved from 0.69242 to 0.69238, saving model to ../callbacks/92_16-0.6924.hdf5\n",
      "\n",
      "Epoch 00017: val_loss improved from 0.69238 to 0.69235, saving model to ../callbacks/92_17-0.6923.hdf5\n",
      "\n",
      "Epoch 00018: val_loss improved from 0.69235 to 0.69232, saving model to ../callbacks/92_18-0.6923.hdf5\n",
      "\n",
      "Epoch 00019: val_loss improved from 0.69232 to 0.69228, saving model to ../callbacks/92_19-0.6923.hdf5\n",
      "\n",
      "Epoch 00020: val_loss improved from 0.69228 to 0.69225, saving model to ../callbacks/92_20-0.6923.hdf5\n",
      "\n",
      "Epoch 00021: val_loss improved from 0.69225 to 0.69222, saving model to ../callbacks/92_21-0.6922.hdf5\n",
      "\n",
      "Epoch 00022: val_loss improved from 0.69222 to 0.69220, saving model to ../callbacks/92_22-0.6922.hdf5\n",
      "\n",
      "Epoch 00023: val_loss improved from 0.69220 to 0.69219, saving model to ../callbacks/92_23-0.6922.hdf5\n",
      "\n",
      "Epoch 00024: val_loss improved from 0.69219 to 0.69217, saving model to ../callbacks/92_24-0.6922.hdf5\n",
      "\n",
      "Epoch 00025: val_loss improved from 0.69217 to 0.69214, saving model to ../callbacks/92_25-0.6921.hdf5\n",
      "\n",
      "Epoch 00026: val_loss improved from 0.69214 to 0.69213, saving model to ../callbacks/92_26-0.6921.hdf5\n",
      "\n",
      "Epoch 00027: val_loss improved from 0.69213 to 0.69210, saving model to ../callbacks/92_27-0.6921.hdf5\n",
      "\n",
      "Epoch 00028: val_loss improved from 0.69210 to 0.69209, saving model to ../callbacks/92_28-0.6921.hdf5\n",
      "\n",
      "Epoch 00029: val_loss improved from 0.69209 to 0.69208, saving model to ../callbacks/92_29-0.6921.hdf5\n",
      "\n",
      "Epoch 00030: val_loss improved from 0.69208 to 0.69207, saving model to ../callbacks/92_30-0.6921.hdf5\n",
      "\n",
      "Epoch 00031: val_loss improved from 0.69207 to 0.69205, saving model to ../callbacks/92_31-0.6921.hdf5\n",
      "\n",
      "Epoch 00032: val_loss improved from 0.69205 to 0.69204, saving model to ../callbacks/92_32-0.6920.hdf5\n",
      "\n",
      "Epoch 00033: val_loss improved from 0.69204 to 0.69203, saving model to ../callbacks/92_33-0.6920.hdf5\n",
      "\n",
      "Epoch 00034: val_loss improved from 0.69203 to 0.69202, saving model to ../callbacks/92_34-0.6920.hdf5\n",
      "\n",
      "Epoch 00035: val_loss improved from 0.69202 to 0.69201, saving model to ../callbacks/92_35-0.6920.hdf5\n",
      "\n",
      "Epoch 00036: val_loss improved from 0.69201 to 0.69200, saving model to ../callbacks/92_36-0.6920.hdf5\n",
      "\n",
      "Epoch 00037: val_loss improved from 0.69200 to 0.69199, saving model to ../callbacks/92_37-0.6920.hdf5\n",
      "\n",
      "Epoch 00038: val_loss improved from 0.69199 to 0.69199, saving model to ../callbacks/92_38-0.6920.hdf5\n",
      "\n",
      "Epoch 00039: val_loss improved from 0.69199 to 0.69198, saving model to ../callbacks/92_39-0.6920.hdf5\n",
      "\n",
      "Epoch 00040: val_loss improved from 0.69198 to 0.69198, saving model to ../callbacks/92_40-0.6920.hdf5\n",
      "\n",
      "Epoch 00041: val_loss improved from 0.69198 to 0.69197, saving model to ../callbacks/92_41-0.6920.hdf5\n",
      "\n",
      "Epoch 00042: val_loss improved from 0.69197 to 0.69197, saving model to ../callbacks/92_42-0.6920.hdf5\n",
      "\n",
      "Epoch 00043: val_loss improved from 0.69197 to 0.69196, saving model to ../callbacks/92_43-0.6920.hdf5\n",
      "\n",
      "Epoch 00044: val_loss improved from 0.69196 to 0.69196, saving model to ../callbacks/92_44-0.6920.hdf5\n",
      "\n",
      "Epoch 00045: val_loss improved from 0.69196 to 0.69196, saving model to ../callbacks/92_45-0.6920.hdf5\n",
      "\n",
      "Epoch 00046: val_loss improved from 0.69196 to 0.69195, saving model to ../callbacks/92_46-0.6920.hdf5\n",
      "\n",
      "Epoch 00047: val_loss improved from 0.69195 to 0.69195, saving model to ../callbacks/92_47-0.6919.hdf5\n",
      "\n",
      "Epoch 00048: val_loss improved from 0.69195 to 0.69194, saving model to ../callbacks/92_48-0.6919.hdf5\n",
      "\n",
      "Epoch 00049: val_loss improved from 0.69194 to 0.69194, saving model to ../callbacks/92_49-0.6919.hdf5\n",
      "\n",
      "Epoch 00050: val_loss improved from 0.69194 to 0.69193, saving model to ../callbacks/92_50-0.6919.hdf5\n",
      "\n",
      "Epoch 00051: val_loss improved from 0.69193 to 0.69193, saving model to ../callbacks/92_51-0.6919.hdf5\n",
      "\n",
      "Epoch 00052: val_loss improved from 0.69193 to 0.69193, saving model to ../callbacks/92_52-0.6919.hdf5\n",
      "\n",
      "Epoch 00053: val_loss improved from 0.69193 to 0.69192, saving model to ../callbacks/92_53-0.6919.hdf5\n",
      "\n",
      "Epoch 00054: val_loss improved from 0.69192 to 0.69192, saving model to ../callbacks/92_54-0.6919.hdf5\n",
      "\n",
      "Epoch 00055: val_loss improved from 0.69192 to 0.69192, saving model to ../callbacks/92_55-0.6919.hdf5\n",
      "\n",
      "Epoch 00056: val_loss improved from 0.69192 to 0.69191, saving model to ../callbacks/92_56-0.6919.hdf5\n",
      "\n",
      "Epoch 00057: val_loss improved from 0.69191 to 0.69191, saving model to ../callbacks/92_57-0.6919.hdf5\n",
      "\n",
      "Epoch 00058: val_loss improved from 0.69191 to 0.69191, saving model to ../callbacks/92_58-0.6919.hdf5\n",
      "\n",
      "Epoch 00059: val_loss improved from 0.69191 to 0.69191, saving model to ../callbacks/92_59-0.6919.hdf5\n",
      "\n",
      "Epoch 00060: val_loss improved from 0.69191 to 0.69190, saving model to ../callbacks/92_60-0.6919.hdf5\n",
      "\n",
      "Epoch 00061: val_loss improved from 0.69190 to 0.69190, saving model to ../callbacks/92_61-0.6919.hdf5\n",
      "\n",
      "Epoch 00062: val_loss improved from 0.69190 to 0.69190, saving model to ../callbacks/92_62-0.6919.hdf5\n",
      "\n",
      "Epoch 00063: val_loss did not improve from 0.69190\n",
      "\n",
      "Epoch 00064: val_loss improved from 0.69190 to 0.69190, saving model to ../callbacks/92_64-0.6919.hdf5\n",
      "\n",
      "Epoch 00065: val_loss improved from 0.69190 to 0.69190, saving model to ../callbacks/92_65-0.6919.hdf5\n",
      "\n",
      "Epoch 00066: val_loss improved from 0.69190 to 0.69190, saving model to ../callbacks/92_66-0.6919.hdf5\n",
      "\n",
      "Epoch 00067: val_loss improved from 0.69190 to 0.69189, saving model to ../callbacks/92_67-0.6919.hdf5\n",
      "\n",
      "Epoch 00068: val_loss improved from 0.69189 to 0.69189, saving model to ../callbacks/92_68-0.6919.hdf5\n",
      "\n",
      "Epoch 00069: val_loss did not improve from 0.69189\n",
      "\n",
      "Epoch 00070: val_loss did not improve from 0.69189\n",
      "\n",
      "Epoch 00071: val_loss did not improve from 0.69189\n",
      "\n",
      "Epoch 00072: val_loss did not improve from 0.69189\n",
      "\n",
      "Epoch 00073: val_loss did not improve from 0.69189\n",
      "\n",
      "Epoch 00074: val_loss improved from 0.69189 to 0.69189, saving model to ../callbacks/92_74-0.6919.hdf5\n"
     ]
    },
    {
     "name": "stdout",
     "output_type": "stream",
     "text": [
      "\n",
      "Epoch 00075: val_loss improved from 0.69189 to 0.69189, saving model to ../callbacks/92_75-0.6919.hdf5\n",
      "\n",
      "Epoch 00076: val_loss improved from 0.69189 to 0.69189, saving model to ../callbacks/92_76-0.6919.hdf5\n",
      "\n",
      "Epoch 00077: val_loss improved from 0.69189 to 0.69189, saving model to ../callbacks/92_77-0.6919.hdf5\n",
      "\n",
      "Epoch 00078: val_loss did not improve from 0.69189\n",
      "\n",
      "Epoch 00079: val_loss improved from 0.69189 to 0.69189, saving model to ../callbacks/92_79-0.6919.hdf5\n",
      "\n",
      "Epoch 00080: val_loss did not improve from 0.69189\n",
      "\n",
      "Epoch 00081: val_loss improved from 0.69189 to 0.69189, saving model to ../callbacks/92_81-0.6919.hdf5\n",
      "\n",
      "Epoch 00082: val_loss improved from 0.69189 to 0.69189, saving model to ../callbacks/92_82-0.6919.hdf5\n",
      "\n",
      "Epoch 00083: val_loss improved from 0.69189 to 0.69189, saving model to ../callbacks/92_83-0.6919.hdf5\n",
      "\n",
      "Epoch 00084: val_loss improved from 0.69189 to 0.69189, saving model to ../callbacks/92_84-0.6919.hdf5\n",
      "\n",
      "Epoch 00085: val_loss improved from 0.69189 to 0.69189, saving model to ../callbacks/92_85-0.6919.hdf5\n",
      "\n",
      "Epoch 00086: val_loss improved from 0.69189 to 0.69189, saving model to ../callbacks/92_86-0.6919.hdf5\n",
      "\n",
      "Epoch 00087: val_loss improved from 0.69189 to 0.69189, saving model to ../callbacks/92_87-0.6919.hdf5\n",
      "\n",
      "Epoch 00088: val_loss improved from 0.69189 to 0.69189, saving model to ../callbacks/92_88-0.6919.hdf5\n",
      "\n",
      "Epoch 00089: val_loss improved from 0.69189 to 0.69188, saving model to ../callbacks/92_89-0.6919.hdf5\n",
      "\n",
      "Epoch 00090: val_loss improved from 0.69188 to 0.69188, saving model to ../callbacks/92_90-0.6919.hdf5\n",
      "\n",
      "Epoch 00091: val_loss did not improve from 0.69188\n",
      "\n",
      "Epoch 00092: val_loss did not improve from 0.69188\n",
      "\n",
      "Epoch 00093: val_loss improved from 0.69188 to 0.69188, saving model to ../callbacks/92_93-0.6919.hdf5\n",
      "\n",
      "Epoch 00094: val_loss did not improve from 0.69188\n",
      "\n",
      "Epoch 00095: val_loss did not improve from 0.69188\n",
      "\n",
      "Epoch 00096: val_loss did not improve from 0.69188\n",
      "\n",
      "Epoch 00097: val_loss did not improve from 0.69188\n",
      "\n",
      "Epoch 00098: val_loss did not improve from 0.69188\n",
      "\n",
      "Epoch 00099: val_loss did not improve from 0.69188\n",
      "\n",
      "Epoch 00100: val_loss did not improve from 0.69188\n",
      "<class 'tensorflow.python.keras.callbacks.History'>\n",
      "<class 'dict'>\n",
      "dict_keys(['loss', 'acc', 'val_loss', 'val_acc'])\n",
      "[54.865827932154716, 0.6934459931466858, 0.6933930228561257, 0.6932968141904765, 0.6931793148209244, 0.6930922314947712, 0.6930492289058794, 0.6930835115420706, 0.6929734292842612, 0.6928770481976049, 0.6928237631493939, 0.6927577166903283, 0.6927379839803894, 0.692739251848275, 0.6926479967610694, 0.6926594767660749, 0.6926697669345122, 0.6925619850023311, 0.6925735170908907, 0.6925757369408472, 0.692522359383219, 0.6925070392972663, 0.6925262145063479, 0.692520904240172, 0.6925298750212516, 0.6924562967538082, 0.6924977428529541, 0.69244519994838, 0.6924292044684714, 0.6924110502474692, 0.6925002056341442, 0.6924673693037183, 0.6924800575719647, 0.692401199310736, 0.6924806507980034, 0.6923763785828552, 0.6924007988126496, 0.6923970961796373, 0.6923935633352503, 0.692365357552417, 0.6924164900644344, 0.6923532299814916, 0.6923756883347448, 0.6923438489249076, 0.692396267731483, 0.6923930001935749, 0.6923917067539804, 0.6923622818023248, 0.6923889632480754, 0.6924350682869318, 0.692423208654867, 0.6923896484194494, 0.6923667419972104, 0.6923817253263215, 0.6924115665703542, 0.6923655453916604, 0.6923656721220408, 0.6923581613727172, 0.692399792866752, 0.6923926476424425, 0.6924257045288568, 0.6924150465790782, 0.6923983738249408, 0.6924131230601, 0.6923926284636609, 0.6923850485203018, 0.6923591267047244, 0.6923647331138515, 0.6923630779097885, 0.6924300225751258, 0.6924600749737833, 0.6923204784513648, 0.6923235985758929, 0.6924325496616424, 0.6923386460223032, 0.6923770222002024, 0.6923304694684146, 0.6923965413111618, 0.6923798505064065, 0.6923599733915239, 0.6923565488508447, 0.6923466055927217, 0.6923634295207844, 0.6924162640556552, 0.692425841600737, 0.6923641521095854, 0.6923783143236057, 0.6923723852596825, 0.6923487022848159, 0.6923720838519677, 0.6923964719290989, 0.6923991182249051, 0.6923841364000122, 0.6924406938748405, 0.6923373599157725, 0.6924135105843048, 0.6923850086585205, 0.6923799714079415, 0.6923684408236002, 0.6923255542475343]\n",
      "[0.4384858, 0.47949526, 0.47949526, 0.4511041, 0.47003156, 0.5205047, 0.5205047, 0.5205047, 0.5205047, 0.5205047, 0.5205047, 0.5205047, 0.5205047, 0.5205047, 0.5205047, 0.5205047, 0.5205047, 0.5205047, 0.5205047, 0.5205047, 0.5205047, 0.5205047, 0.5205047, 0.5205047, 0.5205047, 0.5205047, 0.5205047, 0.5205047, 0.5205047, 0.5205047, 0.5205047, 0.5205047, 0.5205047, 0.5205047, 0.5205047, 0.5205047, 0.5205047, 0.5205047, 0.5205047, 0.5205047, 0.5205047, 0.5205047, 0.5205047, 0.5205047, 0.5205047, 0.5205047, 0.5205047, 0.5205047, 0.5205047, 0.5205047, 0.5205047, 0.5205047, 0.5205047, 0.5205047, 0.5205047, 0.5205047, 0.5205047, 0.5205047, 0.5205047, 0.5205047, 0.5205047, 0.5205047, 0.5205047, 0.5205047, 0.5205047, 0.5205047, 0.5205047, 0.5205047, 0.5205047, 0.5205047, 0.5205047, 0.5205047, 0.5205047, 0.5205047, 0.5205047, 0.5205047, 0.5205047, 0.5205047, 0.5205047, 0.5205047, 0.5205047, 0.5205047, 0.5205047, 0.5205047, 0.5205047, 0.5205047, 0.5205047, 0.5205047, 0.5205047, 0.5205047, 0.5205047, 0.5205047, 0.5205047, 0.5205047, 0.5205047, 0.5205047, 0.5205047, 0.5205047, 0.5205047, 0.5205047]\n",
      "[0.6935196411915314, 0.693388031079219, 0.6932733761958587, 0.693171114493639, 0.6930629045535357, 0.6929722474171565, 0.692883829275767, 0.6927974575605148, 0.6927185776906136, 0.6926599695132329, 0.6926082693613492, 0.6925514661348783, 0.6925073082630451, 0.6924593249956766, 0.6924167367128226, 0.6923811940046457, 0.6923489922132248, 0.6923169875756289, 0.6922794442910415, 0.692250499358544, 0.6922207642824222, 0.6922020988586621, 0.6921864702151372, 0.6921664338845473, 0.6921425752150707, 0.6921258064416739, 0.692104085897788, 0.6920862931471604, 0.6920755841793158, 0.6920656271469898, 0.6920538452955393, 0.6920374631881714, 0.6920271408863556, 0.6920185624024807, 0.6920092977010287, 0.691999764014513, 0.6919942421790881, 0.6919867977117881, 0.691982185229277, 0.6919769170956734, 0.6919696972920344, 0.6919668240424914, 0.6919646660486857, 0.69195884007674, 0.6919580392348461, 0.691951912183028, 0.6919455635241973, 0.6919417457702832, 0.6919388664074433, 0.691933179513002, 0.691929484025026, 0.6919265328309475, 0.6919218057241195, 0.6919206961607322, 0.6919169808045412, 0.6919133877142881, 0.6919131233141973, 0.6919084405287718, 0.6919065713882446, 0.6919035300230368, 0.6919031830934378, 0.6919007209631113, 0.6919015049934387, 0.6918982206246792, 0.6918952403924404, 0.6918951395230416, 0.6918949637657557, 0.6918938328058292, 0.6918946015529144, 0.6918953351485424, 0.6918973968579218, 0.6918969964369749, 0.6918961176505456, 0.6918925765233163, 0.6918922066688538, 0.6918914241668506, 0.6918911567101111, 0.6918912025598379, 0.6918908923100202, 0.6918919392121143, 0.6918902381872519, 0.691889498478327, 0.6918891301521888, 0.6918876155828818, 0.6918873206163064, 0.6918871020659422, 0.6918866619085654, 0.6918856348746862, 0.6918846445205884, 0.6918832369339771, 0.6918843709505521, 0.6918832568021921, 0.6918818736687685, 0.6918837458659441, 0.6918846598038306, 0.6918854713439941, 0.6918853628329742, 0.6918851656791492, 0.6918854606457245, 0.6918862676009153]\n",
      "[0.47435898, 0.47435898, 0.47435898, 0.47435898, 0.525641, 0.525641, 0.525641, 0.525641, 0.525641, 0.525641, 0.525641, 0.525641, 0.525641, 0.525641, 0.525641, 0.525641, 0.525641, 0.525641, 0.525641, 0.525641, 0.525641, 0.525641, 0.525641, 0.525641, 0.525641, 0.525641, 0.525641, 0.525641, 0.525641, 0.525641, 0.525641, 0.525641, 0.525641, 0.525641, 0.525641, 0.525641, 0.525641, 0.525641, 0.525641, 0.525641, 0.525641, 0.525641, 0.525641, 0.525641, 0.525641, 0.525641, 0.525641, 0.525641, 0.525641, 0.525641, 0.525641, 0.525641, 0.525641, 0.525641, 0.525641, 0.525641, 0.525641, 0.525641, 0.525641, 0.525641, 0.525641, 0.525641, 0.525641, 0.525641, 0.525641, 0.525641, 0.525641, 0.525641, 0.525641, 0.525641, 0.525641, 0.525641, 0.525641, 0.525641, 0.525641, 0.525641, 0.525641, 0.525641, 0.525641, 0.525641, 0.525641, 0.525641, 0.525641, 0.525641, 0.525641, 0.525641, 0.525641, 0.525641, 0.525641, 0.525641, 0.525641, 0.525641, 0.525641, 0.525641, 0.525641, 0.525641, 0.525641, 0.525641, 0.525641, 0.525641]\n"
     ]
    }
   ],
   "source": [
    "#訓練データ\n",
    "x_train = x_train_all\n",
    "y_train = y_train_all\n",
    "\n",
    "#検証データ\n",
    "x_val = x_train_all_5crossval \n",
    "y_val = y_train_all_5crossval \n",
    "\n",
    "i=8 #Kernel width\n",
    "j=10 #the number of Filters\n",
    "k=0 #the number of hidden layers\n",
    "m=32 #Batch size\n",
    "n=100 #epochs\n",
    "\n",
    "\n",
    "#old_session = KTF.get_session()\n",
    "#session = tf.Session('')\n",
    "#KTF.set_session(session)\n",
    "#KTF.set_learning_phase(1)\n",
    "\n",
    "#modelの定義の前に重みのリセットが必要で，これ？\n",
    "tf.compat.v1.Session()\n",
    "#sess = tf.compat.v1.Session()\n",
    "\n",
    "#モデル構築\n",
    "model = Sequential()\n",
    "model.add(Conv2D(filters=j, kernel_size=(14, i), strides=(1, 1), padding='valid', \n",
    "                 data_format=\"channels_last\", dilation_rate=(1, 1), activation='relu', \n",
    "                 use_bias=True, input_shape=(14, 8, 1), kernel_initializer='glorot_uniform', \n",
    "                 bias_initializer='zeros',  name='Dense_01'))\n",
    "#model.add(MaxPooling2D(pool_size=(2, 2), strides=None, padding='valid', data_format=None, \n",
    "#                       name='MaxPooling2D_01'))\n",
    "model.add(Flatten(name='Flatten_01'))\n",
    "#model.add(Dropout(0.50))\n",
    "#model.add(Dense(units=k, name='Dense_02', activation='relu'))\n",
    "#model.add(Dense(units=50, name='Dense_01', activation='relu')\n",
    "#model.add(Dense(units=10, name='Denese_03', activation='relu'))\n",
    "model.add(Dense(units=2, name='Dense_out'))\n",
    "model.add(Activation('softmax'))\n",
    "\n",
    "#モデルの構造を表示\n",
    "model.summary()\n",
    "\n",
    "#訓練（学習）プロセスの設定\n",
    "model.compile(optimizer='sgd', loss='categorical_crossentropy', metrics=['accuracy'])\n",
    "\n",
    "\n",
    "\n",
    "#バリデーションロスが減少した場合に，各エポック終了後，モデルの重みを保存します\n",
    "#checkpointer = ModelCheckpoint(filepath='./weights.hdf5', verbose=0, save_best_only=True, save_format=\"h5\")\n",
    "### add for TensorBoard\n",
    "erly_stpg = EarlyStopping(patience=10, verbose=1,monitor='val_loss' , mode = 'min') \n",
    "chkfile = './callbacks/' + '{0:2d}'.format(Vernum)+'_{epoch:02d}-{val_loss:.4f}.hdf5' #format関数\n",
    "check_point = ModelCheckpoint(filepath = chkfile, monitor='val_loss', verbose=1, save_best_only=True, mode='min')\n",
    "check_point = [check_point]\n",
    "\n",
    "log_dir = \"log/\" + datetime.datetime.now().strftime(\"%Y%m%d-%H%M%S\")\n",
    "tensorboard_callback = tf.keras.callbacks.TensorBoard(log_dir=log_dir, histogram_freq=1)\n",
    "cbks=[tensorboard_callback]\n",
    "\n",
    "#訓練の実行 \n",
    "NUM_BATCH=m\n",
    "NUM_EPOCHS=n\n",
    "\n",
    "#history = model.fit(x_train, y_train, batch_size=NUM_BATCH, epochs=NUM_EPOCHS, validation_split=0.2, shuffle = True ,\n",
    "#                    callbacks=[erly_stpg , chck_pont], verbose = 0, )\n",
    "history = model.fit(x_train, y_train, batch_size=NUM_BATCH, epochs=NUM_EPOCHS, \n",
    "                    shuffle = True, verbose = 0,\n",
    "                    callbacks=check_point,\n",
    "                   validation_data=(x_val, y_val))\n",
    "\n",
    "print(type(history))\n",
    "print(type(history.history))\n",
    "print(history.history.keys())\n",
    "print(history.history['loss'])\n",
    "print(history.history['acc'])\n",
    "print(history.history['val_loss'])\n",
    "print(history.history['val_acc'])"
   ]
  },
  {
   "cell_type": "code",
   "execution_count": 81,
   "metadata": {},
   "outputs": [
    {
     "data": {
      "text/html": [
       "<div>\n",
       "<style scoped>\n",
       "    .dataframe tbody tr th:only-of-type {\n",
       "        vertical-align: middle;\n",
       "    }\n",
       "\n",
       "    .dataframe tbody tr th {\n",
       "        vertical-align: top;\n",
       "    }\n",
       "\n",
       "    .dataframe thead th {\n",
       "        text-align: right;\n",
       "    }\n",
       "</style>\n",
       "<table border=\"1\" class=\"dataframe\">\n",
       "  <thead>\n",
       "    <tr style=\"text-align: right;\">\n",
       "      <th></th>\n",
       "      <th>loss</th>\n",
       "      <th>acc</th>\n",
       "      <th>val_loss</th>\n",
       "      <th>val_acc</th>\n",
       "    </tr>\n",
       "  </thead>\n",
       "  <tbody>\n",
       "    <tr>\n",
       "      <th>0</th>\n",
       "      <td>30.274834</td>\n",
       "      <td>0.561514</td>\n",
       "      <td>0.692925</td>\n",
       "      <td>0.525641</td>\n",
       "    </tr>\n",
       "    <tr>\n",
       "      <th>1</th>\n",
       "      <td>0.693029</td>\n",
       "      <td>0.520505</td>\n",
       "      <td>0.692847</td>\n",
       "      <td>0.525641</td>\n",
       "    </tr>\n",
       "    <tr>\n",
       "      <th>2</th>\n",
       "      <td>0.692937</td>\n",
       "      <td>0.520505</td>\n",
       "      <td>0.692764</td>\n",
       "      <td>0.525641</td>\n",
       "    </tr>\n",
       "    <tr>\n",
       "      <th>3</th>\n",
       "      <td>0.692851</td>\n",
       "      <td>0.520505</td>\n",
       "      <td>0.692692</td>\n",
       "      <td>0.525641</td>\n",
       "    </tr>\n",
       "    <tr>\n",
       "      <th>4</th>\n",
       "      <td>0.692888</td>\n",
       "      <td>0.520505</td>\n",
       "      <td>0.692627</td>\n",
       "      <td>0.525641</td>\n",
       "    </tr>\n",
       "    <tr>\n",
       "      <th>...</th>\n",
       "      <td>...</td>\n",
       "      <td>...</td>\n",
       "      <td>...</td>\n",
       "      <td>...</td>\n",
       "    </tr>\n",
       "    <tr>\n",
       "      <th>95</th>\n",
       "      <td>0.692319</td>\n",
       "      <td>0.520505</td>\n",
       "      <td>0.691889</td>\n",
       "      <td>0.525641</td>\n",
       "    </tr>\n",
       "    <tr>\n",
       "      <th>96</th>\n",
       "      <td>0.692442</td>\n",
       "      <td>0.520505</td>\n",
       "      <td>0.691890</td>\n",
       "      <td>0.525641</td>\n",
       "    </tr>\n",
       "    <tr>\n",
       "      <th>97</th>\n",
       "      <td>0.692344</td>\n",
       "      <td>0.520505</td>\n",
       "      <td>0.691890</td>\n",
       "      <td>0.525641</td>\n",
       "    </tr>\n",
       "    <tr>\n",
       "      <th>98</th>\n",
       "      <td>0.692367</td>\n",
       "      <td>0.520505</td>\n",
       "      <td>0.691889</td>\n",
       "      <td>0.525641</td>\n",
       "    </tr>\n",
       "    <tr>\n",
       "      <th>99</th>\n",
       "      <td>0.692404</td>\n",
       "      <td>0.520505</td>\n",
       "      <td>0.691889</td>\n",
       "      <td>0.525641</td>\n",
       "    </tr>\n",
       "  </tbody>\n",
       "</table>\n",
       "<p>100 rows × 4 columns</p>\n",
       "</div>"
      ],
      "text/plain": [
       "         loss       acc  val_loss   val_acc\n",
       "0   30.274834  0.561514  0.692925  0.525641\n",
       "1    0.693029  0.520505  0.692847  0.525641\n",
       "2    0.692937  0.520505  0.692764  0.525641\n",
       "3    0.692851  0.520505  0.692692  0.525641\n",
       "4    0.692888  0.520505  0.692627  0.525641\n",
       "..        ...       ...       ...       ...\n",
       "95   0.692319  0.520505  0.691889  0.525641\n",
       "96   0.692442  0.520505  0.691890  0.525641\n",
       "97   0.692344  0.520505  0.691890  0.525641\n",
       "98   0.692367  0.520505  0.691889  0.525641\n",
       "99   0.692404  0.520505  0.691889  0.525641\n",
       "\n",
       "[100 rows x 4 columns]"
      ]
     },
     "execution_count": 81,
     "metadata": {},
     "output_type": "execute_result"
    }
   ],
   "source": [
    "df1 = pd.DataFrame(\n",
    "    data={'loss':history.history['loss'], \n",
    "          'acc':history.history['acc'],\n",
    "          'val_loss':history.history['val_loss'], \n",
    "          'val_acc':history.history['val_acc']\n",
    "         }, \n",
    "    index=np.arange(0, n)\n",
    ")\n",
    " \n",
    "df1"
   ]
  },
  {
   "cell_type": "code",
   "execution_count": 82,
   "metadata": {},
   "outputs": [
    {
     "data": {
      "text/html": [
       "<div>\n",
       "<style scoped>\n",
       "    .dataframe tbody tr th:only-of-type {\n",
       "        vertical-align: middle;\n",
       "    }\n",
       "\n",
       "    .dataframe tbody tr th {\n",
       "        vertical-align: top;\n",
       "    }\n",
       "\n",
       "    .dataframe thead th {\n",
       "        text-align: right;\n",
       "    }\n",
       "</style>\n",
       "<table border=\"1\" class=\"dataframe\">\n",
       "  <thead>\n",
       "    <tr style=\"text-align: right;\">\n",
       "      <th></th>\n",
       "      <th>Kernel</th>\n",
       "      <th>Conv2D</th>\n",
       "      <th>hidden01</th>\n",
       "      <th>Batch_size</th>\n",
       "      <th>epochs</th>\n",
       "    </tr>\n",
       "  </thead>\n",
       "  <tbody>\n",
       "    <tr>\n",
       "      <th>0</th>\n",
       "      <td>14x8</td>\n",
       "      <td>10</td>\n",
       "      <td>10</td>\n",
       "      <td>32</td>\n",
       "      <td>100</td>\n",
       "    </tr>\n",
       "    <tr>\n",
       "      <th>1</th>\n",
       "      <td>14x8</td>\n",
       "      <td>10</td>\n",
       "      <td>10</td>\n",
       "      <td>32</td>\n",
       "      <td>100</td>\n",
       "    </tr>\n",
       "    <tr>\n",
       "      <th>2</th>\n",
       "      <td>14x8</td>\n",
       "      <td>10</td>\n",
       "      <td>10</td>\n",
       "      <td>32</td>\n",
       "      <td>100</td>\n",
       "    </tr>\n",
       "    <tr>\n",
       "      <th>3</th>\n",
       "      <td>14x8</td>\n",
       "      <td>10</td>\n",
       "      <td>10</td>\n",
       "      <td>32</td>\n",
       "      <td>100</td>\n",
       "    </tr>\n",
       "  </tbody>\n",
       "</table>\n",
       "</div>"
      ],
      "text/plain": [
       "  Kernel Conv2D hidden01 Batch_size epochs\n",
       "0   14x8     10       10         32    100\n",
       "1   14x8     10       10         32    100\n",
       "2   14x8     10       10         32    100\n",
       "3   14x8     10       10         32    100"
      ]
     },
     "execution_count": 82,
     "metadata": {},
     "output_type": "execute_result"
    }
   ],
   "source": [
    "df2 = pd.DataFrame(\n",
    "    data={'Kernel':f'14x{i}',\n",
    "         'Conv2D':str(j),\n",
    "         'hidden01':str(k),\n",
    "         'Batch_size':str(m),\n",
    "         'epochs':str(n)}, \n",
    "    index=np.arange(4)\n",
    ")\n",
    "df2"
   ]
  },
  {
   "cell_type": "code",
   "execution_count": 83,
   "metadata": {},
   "outputs": [
    {
     "name": "stdout",
     "output_type": "stream",
     "text": [
      "         loss       acc  val_loss   val_acc Kernel Conv2D hidden01 Batch_size  \\\n",
      "0   30.274834  0.561514  0.692925  0.525641   14x8     10       10         32   \n",
      "1    0.693029  0.520505  0.692847  0.525641   14x8     10       10         32   \n",
      "2    0.692937  0.520505  0.692764  0.525641   14x8     10       10         32   \n",
      "3    0.692851  0.520505  0.692692  0.525641   14x8     10       10         32   \n",
      "4    0.692888  0.520505  0.692627  0.525641    NaN    NaN      NaN        NaN   \n",
      "..        ...       ...       ...       ...    ...    ...      ...        ...   \n",
      "95   0.692319  0.520505  0.691889  0.525641    NaN    NaN      NaN        NaN   \n",
      "96   0.692442  0.520505  0.691890  0.525641    NaN    NaN      NaN        NaN   \n",
      "97   0.692344  0.520505  0.691890  0.525641    NaN    NaN      NaN        NaN   \n",
      "98   0.692367  0.520505  0.691889  0.525641    NaN    NaN      NaN        NaN   \n",
      "99   0.692404  0.520505  0.691889  0.525641    NaN    NaN      NaN        NaN   \n",
      "\n",
      "   epochs  \n",
      "0     100  \n",
      "1     100  \n",
      "2     100  \n",
      "3     100  \n",
      "4     NaN  \n",
      "..    ...  \n",
      "95    NaN  \n",
      "96    NaN  \n",
      "97    NaN  \n",
      "98    NaN  \n",
      "99    NaN  \n",
      "\n",
      "[100 rows x 9 columns]\n"
     ]
    }
   ],
   "source": [
    "print(pd.concat([df1, df2], axis=1))\n",
    "df3 = pd.concat([df1, df2], axis=1)"
   ]
  },
  {
   "cell_type": "code",
   "execution_count": 84,
   "metadata": {},
   "outputs": [],
   "source": [
    "var = \"FC_various_03\"\n",
    "filename = f'./fitting_model/FCvsCNN/FC/trial_{var}.csv'\n",
    "df3.to_csv(filename)"
   ]
  },
  {
   "cell_type": "code",
   "execution_count": 85,
   "metadata": {},
   "outputs": [
    {
     "data": {
      "image/png": "[encoded data removed]",
      "text/plain": [
       "<Figure size 432x288 with 1 Axes>"
      ]
     },
     "metadata": {
      "needs_background": "light"
     },
     "output_type": "display_data"
    }
   ],
   "source": [
    "plt.plot(range(1, NUM_EPOCHS+1), df3['acc'], \"-o\")\n",
    "plt.plot(range(1, NUM_EPOCHS+1), df3['val_acc'], \"-o\")\n",
    "plt.title('model accuracy')\n",
    "plt.ylabel('accuracy')  # Y軸ラベル\n",
    "plt.xlabel('epoch')  # X軸ラベル\n",
    "plt.grid()\n",
    "plt.legend(['acc', 'val_acc'], loc='best')\n",
    "#plt.xlim(0,NUM_EPOCHS)\n",
    "plt.ylim(0.0,1.0)\n",
    "plt.show()"
   ]
  },
  {
   "cell_type": "code",
   "execution_count": 101,
   "metadata": {},
   "outputs": [
    {
     "data": {
      "image/png": "[encoded data removed]",
      "text/plain": [
       "<Figure size 432x288 with 1 Axes>"
      ]
     },
     "metadata": {
      "needs_background": "light"
     },
     "output_type": "display_data"
    }
   ],
   "source": [
    "plt.plot(range(1, 20+1), df3.iloc[0:20, 1], \"-o\")\n",
    "plt.plot(range(1, 20+1), df3.iloc[0:20, 3], \"-o\")\n",
    "plt.title('model loss')\n",
    "plt.ylabel('acc')  # Y軸ラベル\n",
    "plt.xlabel('epoch')  # X軸ラベル\n",
    "plt.grid()\n",
    "plt.legend(['acc', 'val_acc'], loc='best')\n",
    "#plt.xlim(0,NUM_EPOCHS)\n",
    "plt.ylim(0.0,1.0)\n",
    "plt.show()"
   ]
  },
  {
   "cell_type": "code",
   "execution_count": 86,
   "metadata": {},
   "outputs": [
    {
     "data": {
      "image/png": "[encoded data removed]",
      "text/plain": [
       "<Figure size 432x288 with 1 Axes>"
      ]
     },
     "metadata": {
      "needs_background": "light"
     },
     "output_type": "display_data"
    }
   ],
   "source": [
    "plt.plot(range(1, NUM_EPOCHS+1), df3['loss'], \"-o\")\n",
    "plt.plot(range(1, NUM_EPOCHS+1), df3['val_loss'], \"-o\")\n",
    "plt.title('model loss')\n",
    "plt.ylabel('loss')  # Y軸ラベル\n",
    "plt.xlabel('epoch')  # X軸ラベル\n",
    "plt.grid()\n",
    "plt.legend(['loss', 'val_loss'], loc='best')\n",
    "#plt.xlim(0,NUM_EPOCHS)\n",
    "plt.ylim(0.0,1.0)\n",
    "plt.show()"
   ]
  },
  {
   "cell_type": "code",
   "execution_count": 100,
   "metadata": {},
   "outputs": [
    {
     "data": {
      "image/png": "[encoded data removed]",
      "text/plain": [
       "<Figure size 432x288 with 1 Axes>"
      ]
     },
     "metadata": {
      "needs_background": "light"
     },
     "output_type": "display_data"
    }
   ],
   "source": [
    "plt.plot(range(1, 20+1), df3.iloc[0:20, 0], \"-o\")\n",
    "plt.plot(range(1, 20+1), df3.iloc[0:20, 2], \"-o\")\n",
    "plt.title('model loss')\n",
    "plt.ylabel('loss')  # Y軸ラベル\n",
    "plt.xlabel('epoch')  # X軸ラベル\n",
    "plt.grid()\n",
    "plt.legend(['loss', 'val_loss'], loc='best')\n",
    "#plt.xlim(0,NUM_EPOCHS)\n",
    "plt.ylim(0.0,1.0)\n",
    "plt.show()"
   ]
  },
  {
   "cell_type": "code",
   "execution_count": 79,
   "metadata": {},
   "outputs": [
    {
     "name": "stdout",
     "output_type": "stream",
     "text": [
      "78/78 [==============================] - 0s 108us/sample - loss: 0.6919 - acc: 0.5256\n",
      "Test Loss: 69.1895740154462%\n",
      "Test Acc: 52.56410241127014%\n"
     ]
    }
   ],
   "source": [
    "loss, acc = model.evaluate(x_val, y_val)\n",
    "print(f\"Test Loss: {loss*100}%\")\n",
    "print(f\"Test Acc: {acc*100}%\")"
   ]
  },
  {
   "cell_type": "code",
   "execution_count": null,
   "metadata": {},
   "outputs": [],
   "source": [
    "#saving the model.\n",
    "save_dir = \"./saving_model/\"\n",
    "model_name = datetime.datetime.now().strftime(f\"%Y%m%d-%H%M%S_{Vernum}\")\n",
    "if not os.path.isdir(save_dir):\n",
    "    os.makedirs(save_dir)\n",
    "model_path = os.path.join(save_dir, model_name)\n",
    "model.save(model_path)\n",
    "print('Saved trained model at %s ' % model_path)"
   ]
  },
  {
   "cell_type": "code",
   "execution_count": null,
   "metadata": {},
   "outputs": [],
   "source": [
    "model = load_model(\"./saving_model/20220725-045012\")"
   ]
  }
 ],
 "metadata": {
  "kernelspec": {
   "display_name": "Python 3",
   "language": "python",
   "name": "python3"
  },
  "language_info": {
   "codemirror_mode": {
    "name": "ipython",
    "version": 3
   },
   "file_extension": ".py",
   "mimetype": "text/x-python",
   "name": "python",
   "nbconvert_exporter": "python",
   "pygments_lexer": "ipython3",
   "version": "3.7.6"
  }
 },
 "nbformat": 4,
 "nbformat_minor": 4
}
