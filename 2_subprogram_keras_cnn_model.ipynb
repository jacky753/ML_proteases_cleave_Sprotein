{
 "cells": [
  {
   "cell_type": "markdown",
   "metadata": {},
   "source": [
    "# Keras モデルを作る．"
   ]
  },
  {
   "cell_type": "code",
   "execution_count": null,
   "metadata": {},
   "outputs": [],
   "source": [
    "#loding ndarray\n",
    "print(type(np.load('./saving_ndarray/x_train/all/x_train_all_only_positive.npy')))\n",
    "print(np.load('./saving_ndarray/x_train/all/x_train_all_only_positive.npy'))\n",
    "\n",
    "x_train_positive_all = np.load('./saving_ndarray/x_train/all/x_train_all_only_positive.npy')\n",
    "y_train_all = np.load('./saving_ndarray/x_train/all/y_train_all_only_positive.npy')\n",
    "x_train_all_5crossval = np.load('./saving_ndarray/x_train/all/x_train_all_ 5crossval_only_positive.npy')\n",
    "y_train_all_5crossval = np.load('./saving_ndarray/x_train/all/y_train_all_5crossval_only_positive.npy')\n",
    "#y_train_all_5crossval_v8-1_only_positive"
   ]
  },
  {
   "cell_type": "code",
   "execution_count": null,
   "metadata": {},
   "outputs": [],
   "source": [
    "#31\n",
    "from tensorflow.keras.models import Sequential\n",
    "from tensorflow.keras.layers import Dense, Activation, Flatten, Conv1D, Conv2D, MaxPooling2D, BatchNormalization, GlobalAveragePooling2D, Dropout\n",
    "from tensorflow.keras.utils import to_categorical\n",
    "import numpy as np\n",
    "import tensorflow as tf\n",
    "from tensorflow.keras.datasets import mnist, cifar10\n",
    "from tensorflow.keras.callbacks import ModelCheckpoint\n",
    "from tensorflow.keras.models import Model\n",
    "import datetime\n",
    "\n",
    "from tensorflow.keras.callbacks import EarlyStopping\n",
    "\n",
    "#for tentsorboard\n",
    "import tensorflow.keras.callbacks\n",
    "#import tensorflow.keras.backend.tensorflow_backend as KTF\n",
    "import tensorflow.keras.backend as KTF\n",
    "\n",
    "#Vurnum = 実験番号\n",
    "Vernum = 89\n",
    "\n",
    "import os"
   ]
  },
  {
   "cell_type": "markdown",
   "metadata": {},
   "source": [
    "## CNN version01(check_point: EarlyStopping)\n",
    "https://qiita.com/kenichiro-yamato/items/60affeb7ca9f67c87a17"
   ]
  },
  {
   "cell_type": "markdown",
   "metadata": {},
   "source": [
    "https://www.self-study-blog.com/dokugaku/python-pandas-dataframe-make/<br>\n",
    "https://note.nkmk.me/python-pandas-assign-append/<br>"
   ]
  },
  {
   "cell_type": "code",
   "execution_count": null,
   "metadata": {},
   "outputs": [],
   "source": [
    "#訓練データ\n",
    "x_train = x_train_all\n",
    "y_train = y_train_all\n",
    "\n",
    "#検証データ\n",
    "x_val = x_train_all_5crossval \n",
    "y_val = y_train_all_5crossval \n",
    "\n",
    "\n",
    "#old_session = KTF.get_session()\n",
    "#session = tf.Session('')\n",
    "#KTF.set_session(session)\n",
    "#KTF.set_learning_phase(1)\n",
    "\n",
    "#modelの定義の前に重みのリセットが必要で，これ？\n",
    "tf.compat.v1.Session()\n",
    "#sess = tf.compat.v1.Session()\n",
    "\n",
    "#モデル構築\n",
    "model = Sequential()\n",
    "model.add(Conv2D(filters=3, kernel_size=(14, 4), strides=(1, 1), padding='valid', \n",
    "                 data_format=\"channels_last\", dilation_rate=(1, 1), activation='relu', \n",
    "                 use_bias=True, input_shape=(14, 8, 1), kernel_initializer='glorot_uniform', \n",
    "                 bias_initializer='zeros',  name='Conv2D_01'))\n",
    "#model.add(MaxPooling2D(pool_size=(2, 2), strides=None, padding='valid', data_format=None, \n",
    "#                       name='MaxPooling2D_01'))\n",
    "model.add(Flatten(name='Flatten_01'))\n",
    "#model.add(Dropout(0.50))\n",
    "#model.add(Dense(units=10, name='Denese_02', activation='relu'))\n",
    "#model.add(Dense(units=50, name='Dense_01', activation='relu')\n",
    "#model.add(Dense(units=10, name='Denese_03', activation='relu'))\n",
    "model.add(Dense(units=2, name='Dense_out'))\n",
    "model.add(Activation('softmax'))\n",
    "\n",
    "#モデルの構造を表示\n",
    "model.summary()\n",
    "\n",
    "#訓練（学習）プロセスの設定\n",
    "model.compile(optimizer='sgd', loss='categorical_crossentropy', metrics=['accuracy'])\n",
    "\n",
    "\n",
    "\n",
    "#バリデーションロスが減少した場合に，各エポック終了後，モデルの重みを保存します\n",
    "#checkpointer = ModelCheckpoint(filepath='./weights.hdf5', verbose=0, save_best_only=True, save_format=\"h5\")\n",
    "### add for TensorBoard\n",
    "erly_stpg = EarlyStopping(patience=10, verbose=1,monitor='val_loss' , mode = 'min') \n",
    "chkfile = './callbacks/' + '{0:2d}'.format(Vernum)+'_{epoch:02d}-{val_loss:.4f}.hdf5' #format関数\n",
    "check_point = ModelCheckpoint(filepath = chkfile, monitor='val_loss', verbose=1, save_best_only=True, mode='min')\n",
    "check_point = [check_point]\n",
    "\n",
    "log_dir = \"log/\" + datetime.datetime.now().strftime(\"%Y%m%d-%H%M%S\")\n",
    "tensorboard_callback = tf.keras.callbacks.TensorBoard(log_dir=log_dir, histogram_freq=1)\n",
    "cbks=[tensorboard_callback]\n",
    "\n",
    "#訓練の実行 \n",
    "NUM_EPOCHS=350\n",
    "NUM_BATCH=32\n",
    "#history = model.fit(x_train, y_train, batch_size=NUM_BATCH, epochs=NUM_EPOCHS, validation_split=0.2, shuffle = True ,\n",
    "#                    callbacks=[erly_stpg , chck_pont], verbose = 0, )\n",
    "history = model.fit(x_train, y_train, batch_size=NUM_BATCH, epochs=NUM_EPOCHS, \n",
    "                    validation_split=0.2, shuffle = True, verbose = 0,\n",
    "                    callbacks=check_point,\n",
    "                   validation_data=(x_val, y_val))\n",
    "\n",
    "print(type(history))\n",
    "print(type(history.history))\n",
    "print(history.history.keys())\n",
    "print(history.history['loss'])\n",
    "print(history.history['acc'])\n",
    "print(history.history['val_loss'])\n",
    "print(history.history['val_acc'])"
   ]
  },
  {
   "cell_type": "code",
   "execution_count": null,
   "metadata": {},
   "outputs": [],
   "source": [
    "'''\n",
    "from tensorflow.python.keras.backend import set_session\n",
    "from tensorflow.python.keras.models import load_model\n",
    "\n",
    "tf_config = some_custom_config\n",
    "sess = tf.Session(config=tf_config)\n",
    "graph = tf.get_default_graph()\n",
    "\n",
    "# IMPORTANT: models have to be loaded AFTER SETTING THE SESSION for keras! \n",
    "# Otherwise, their weights will be unavailable in the threads after the session there has been set\n",
    "set_session(sess)\n",
    "#model = load_model(...)"
   ]
  },
  {
   "cell_type": "markdown",
   "metadata": {},
   "source": [
    "## csvファイルにモデルの学習評価を書き出す．"
   ]
  },
  {
   "cell_type": "code",
   "execution_count": null,
   "metadata": {},
   "outputs": [],
   "source": [
    "df1 = pd.DataFrame(\n",
    "    data={'loss':history.history['loss'], \n",
    "          'acc':history.history['acc'],\n",
    "          'val_loss':history.history['val_loss'], \n",
    "          'val_acc':history.history['val_acc']\n",
    "         }, \n",
    "    index=np.arange(0, 350)\n",
    ")\n",
    " \n",
    "df1"
   ]
  },
  {
   "cell_type": "code",
   "execution_count": null,
   "metadata": {},
   "outputs": [],
   "source": [
    "i=4\n",
    "j=3\n",
    "k=0\n",
    "m=128\n",
    "n=350\n",
    "\n",
    "df2 = pd.DataFrame(\n",
    "    data={'Kernel':f'14x{i}',\n",
    "         'Conv2D':str(j),\n",
    "         'hidden01':str(k),\n",
    "         'Batch_size':str(m),\n",
    "         'epochs':str(n)}, \n",
    "    index=np.arange(4)\n",
    ")\n",
    "df2"
   ]
  },
  {
   "cell_type": "code",
   "execution_count": null,
   "metadata": {},
   "outputs": [],
   "source": [
    "print(pd.concat([df1, df2], axis=1))\n",
    "pd3 = pd.concat([df1, df2], axis=1)"
   ]
  },
  {
   "cell_type": "code",
   "execution_count": null,
   "metadata": {},
   "outputs": [],
   "source": [
    "var = 0\n",
    "filename = f'../predict/DFS_parameter/trial_{var}.csv'\n",
    "df1.to_csv(filename)"
   ]
  },
  {
   "cell_type": "code",
   "execution_count": null,
   "metadata": {},
   "outputs": [],
   "source": [
    "pd3.iloc[0:5, :]"
   ]
  },
  {
   "cell_type": "markdown",
   "metadata": {},
   "source": [
    "## 結果をプロットする．"
   ]
  },
  {
   "cell_type": "code",
   "execution_count": null,
   "metadata": {},
   "outputs": [],
   "source": [
    "'''\n",
    "from tensorflow.keras.utils import plot_model\n",
    "plot_model(model, to_file='model.png')"
   ]
  },
  {
   "cell_type": "code",
   "execution_count": null,
   "metadata": {},
   "outputs": [],
   "source": [
    "plt.plot(range(1, NUM_EPOCHS+1), history.history['acc'], \"-o\")\n",
    "plt.plot(range(1, NUM_EPOCHS+1), history.history['val_acc'], \"-o\")\n",
    "plt.title('model accuracy')\n",
    "plt.ylabel('accuracy')  # Y軸ラベル\n",
    "plt.xlabel('epoch')  # X軸ラベル\n",
    "plt.grid()\n",
    "plt.legend(['acc', 'val_acc'], loc='best')\n",
    "#plt.xlim(0,NUM_EPOCHS)\n",
    "#plt.ylim(0.55,1.0)\n",
    "plt.show()"
   ]
  },
  {
   "cell_type": "code",
   "execution_count": null,
   "metadata": {},
   "outputs": [],
   "source": [
    "plt.figure()\n",
    "plt.plot()\n",
    "plt.savefig('./predict/img/CNN_learning_rate_acc_01.png')\n",
    "plt.close('all')"
   ]
  },
  {
   "cell_type": "code",
   "execution_count": null,
   "metadata": {},
   "outputs": [],
   "source": [
    "plt.plot(range(1, NUM_EPOCHS+1), history.history['loss'], \"-o\")\n",
    "plt.plot(range(1, NUM_EPOCHS+1), history.history['val_loss'], \"-o\")\n",
    "plt.title('model loss')\n",
    "plt.ylabel('loss')  # Y軸ラベル\n",
    "plt.xlabel('epoch')  # X軸ラベル\n",
    "plt.grid()\n",
    "plt.legend(['loss', 'val_loss'], loc='best')\n",
    "#plt.xlim(0,NUM_EPOCHS)\n",
    "#plt.ylim(0.0,1.0)\n",
    "plt.show()"
   ]
  },
  {
   "cell_type": "code",
   "execution_count": null,
   "metadata": {},
   "outputs": [],
   "source": [
    "plt.figure()\n",
    "plt.plot()\n",
    "plt.savefig('./predict/img/CNN_learning_rate_loss_01.png')\n",
    "plt.close('all')"
   ]
  },
  {
   "cell_type": "code",
   "execution_count": null,
   "metadata": {},
   "outputs": [],
   "source": [
    "#old_session = KTF.get_session()\n",
    "\n",
    "#session = tf.Session('')\n",
    "#KTF.set_session(session)\n",
    "#KTF.set_learning_phase(1)\n",
    "\n",
    "\n",
    "loss, acc = model.evaluate(x_val, y_val)\n",
    "print(f\"Test Loss: {loss*100}%\")\n",
    "print(f\"Test Acc: {acc*100}%\")\n",
    "\n",
    "### add for TensorBoard\n",
    "#KTF.set_session(old_session)"
   ]
  },
  {
   "cell_type": "markdown",
   "metadata": {},
   "source": [
    "## saving the model."
   ]
  },
  {
   "cell_type": "code",
   "execution_count": null,
   "metadata": {},
   "outputs": [],
   "source": [
    "#saving the model.\n",
    "save_dir = \"./saving_model/\"\n",
    "model_name = datetime.datetime.now().strftime(\"%Y%m%d-%H%M%S\")\n",
    "if not os.path.isdir(save_dir):\n",
    "    os.makedirs(save_dir)\n",
    "model_path = os.path.join(save_dir, model_name)\n",
    "model.save(model_path)\n",
    "print('Saved trained model at %s ' % model_path)"
   ]
  },
  {
   "cell_type": "markdown",
   "metadata": {},
   "source": [
    "## load model してみる．"
   ]
  },
  {
   "cell_type": "markdown",
   "metadata": {},
   "source": [
    "https://www.tensorflow.org/guide/keras/save_and_serialize<br>\n",
    "from tensorflow import keras model = keras.models.load_model('path/to/location')"
   ]
  },
  {
   "cell_type": "code",
   "execution_count": null,
   "metadata": {},
   "outputs": [],
   "source": [
    "#model = load_model(\"./model_saving/20220724-203049\")\n",
    "#from tensorflow import keras \n",
    "from tensorflow.keras.models import load_model\n",
    "#model = load_model(\"./model_saving/20220724-203049\")\n",
    "model = load_model(\"./saving_model/20220725-045012\")\n",
    "#./model_saving/20220725-045012 \n",
    "#モデルの構造を表示\n",
    "model.summary()\n",
    "\n",
    "\n",
    "#訓練の実行 \n",
    "NUM_EPOCHS=10\n",
    "NUM_BATCH=128"
   ]
  },
  {
   "cell_type": "code",
   "execution_count": null,
   "metadata": {},
   "outputs": [],
   "source": [
    "plt.plot(range(1, NUM_EPOCHS+1), history.history['acc'], \"-o\")\n",
    "plt.plot(range(1, NUM_EPOCHS+1), history.history['val_acc'], \"-o\")\n",
    "plt.title('model accuracy')\n",
    "plt.ylabel('accuracy')  # Y軸ラベル\n",
    "plt.xlabel('epoch')  # X軸ラベル\n",
    "plt.grid()\n",
    "plt.legend(['acc', 'val_acc'], loc='best')\n",
    "#plt.xlim(0,NUM_EPOCHS)\n",
    "#plt.ylim(0.95,1.0)\n",
    "plt.show()\n",
    "\n",
    "plt.plot(range(1, NUM_EPOCHS+1), history.history['loss'], \"-o\")\n",
    "plt.plot(range(1, NUM_EPOCHS+1), history.history['val_loss'], \"-o\")\n",
    "plt.title('model loss')\n",
    "plt.ylabel('loss')  # Y軸ラベル\n",
    "plt.xlabel('epoch')  # X軸ラベル\n",
    "plt.grid()\n",
    "plt.legend(['loss', 'val_loss'], loc='best')\n",
    "#plt.xlim(0,NUM_EPOCHS)\n",
    "#plt.ylim(0.95,1.0)\n",
    "plt.show()"
   ]
  },
  {
   "cell_type": "code",
   "execution_count": null,
   "metadata": {},
   "outputs": [],
   "source": [
    "%load_ext tensorboard"
   ]
  },
  {
   "cell_type": "code",
   "execution_count": null,
   "metadata": {},
   "outputs": [],
   "source": [
    "%tensorboard --logdir ./log02/"
   ]
  },
  {
   "cell_type": "markdown",
   "metadata": {},
   "source": [
    "## 学習後のモデルのパラメータを確認する．"
   ]
  },
  {
   "cell_type": "code",
   "execution_count": null,
   "metadata": {},
   "outputs": [],
   "source": [
    "\"\"\"\n",
    "# Load the TensorBoard notebook extension\n",
    "%load_ext tensorboard"
   ]
  },
  {
   "cell_type": "code",
   "execution_count": 2,
   "metadata": {},
   "outputs": [
    {
     "name": "stderr",
     "output_type": "stream",
     "text": [
      "UsageError: Line magic function `%tensorboard` not found.\n"
     ]
    }
   ],
   "source": [
    "%tensorboard --logdir=~/log/\n",
    "%tensorboard --logdir=log02/ --port 43876"
   ]
  },
  {
   "cell_type": "code",
   "execution_count": null,
   "metadata": {},
   "outputs": [],
   "source": [
    "weights = model.get_weights()\n",
    "print(weights)"
   ]
  },
  {
   "cell_type": "code",
   "execution_count": null,
   "metadata": {},
   "outputs": [],
   "source": [
    "print(weights.shape())"
   ]
  },
  {
   "cell_type": "code",
   "execution_count": null,
   "metadata": {},
   "outputs": [],
   "source": [
    "lay0 = model.layers[0] "
   ]
  },
  {
   "cell_type": "code",
   "execution_count": null,
   "metadata": {},
   "outputs": [],
   "source": [
    "print(lay0)"
   ]
  },
  {
   "cell_type": "code",
   "execution_count": null,
   "metadata": {},
   "outputs": [],
   "source": [
    "print(lay0.get_weights())"
   ]
  },
  {
   "cell_type": "code",
   "execution_count": null,
   "metadata": {},
   "outputs": [],
   "source": [
    "print(len(lay0.get_weights()))"
   ]
  },
  {
   "cell_type": "code",
   "execution_count": null,
   "metadata": {},
   "outputs": [],
   "source": [
    "print(len(lay0.get_weights()[0]))"
   ]
  },
  {
   "cell_type": "code",
   "execution_count": null,
   "metadata": {},
   "outputs": [],
   "source": [
    "print(lay0.get_weights()[0][0])"
   ]
  },
  {
   "cell_type": "code",
   "execution_count": null,
   "metadata": {},
   "outputs": [],
   "source": [
    "print(len(lay0.get_weights()[0][0]))"
   ]
  },
  {
   "cell_type": "code",
   "execution_count": null,
   "metadata": {},
   "outputs": [],
   "source": [
    "print(len(lay0.get_weights()[0][0][0]))"
   ]
  },
  {
   "cell_type": "code",
   "execution_count": null,
   "metadata": {},
   "outputs": [],
   "source": [
    "lay1 = model.layers[1]"
   ]
  },
  {
   "cell_type": "code",
   "execution_count": null,
   "metadata": {},
   "outputs": [],
   "source": [
    "print(lay1)"
   ]
  },
  {
   "cell_type": "code",
   "execution_count": null,
   "metadata": {},
   "outputs": [],
   "source": [
    "print(lay1.get_weights())"
   ]
  },
  {
   "cell_type": "code",
   "execution_count": null,
   "metadata": {},
   "outputs": [],
   "source": [
    "lay2 = model.layers[2]\n",
    "print(lay2)"
   ]
  },
  {
   "cell_type": "code",
   "execution_count": null,
   "metadata": {},
   "outputs": [],
   "source": [
    "print(lay2.get_weights())"
   ]
  },
  {
   "cell_type": "code",
   "execution_count": null,
   "metadata": {},
   "outputs": [],
   "source": [
    "lay3 = model.layers[3]\n",
    "print(lay3)"
   ]
  },
  {
   "cell_type": "code",
   "execution_count": null,
   "metadata": {},
   "outputs": [],
   "source": [
    "print(len(lay3.get_weights()[0]))"
   ]
  },
  {
   "cell_type": "code",
   "execution_count": null,
   "metadata": {},
   "outputs": [],
   "source": [
    "print(lay3.get_weights())"
   ]
  },
  {
   "cell_type": "code",
   "execution_count": null,
   "metadata": {},
   "outputs": [],
   "source": [
    "lay4 = model.layers[4]\n",
    "print(lay4)"
   ]
  },
  {
   "cell_type": "code",
   "execution_count": null,
   "metadata": {},
   "outputs": [],
   "source": [
    "print(lay4.get_weights())"
   ]
  }
 ],
 "metadata": {
  "kernelspec": {
   "display_name": "Python 3",
   "language": "python",
   "name": "python3"
  },
  "language_info": {
   "codemirror_mode": {
    "name": "ipython",
    "version": 3
   },
   "file_extension": ".py",
   "mimetype": "text/x-python",
   "name": "python",
   "nbconvert_exporter": "python",
   "pygments_lexer": "ipython3",
   "version": "3.7.6"
  }
 },
 "nbformat": 4,
 "nbformat_minor": 4
}
